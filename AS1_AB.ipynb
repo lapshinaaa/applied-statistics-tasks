{
  "cells": [
    {
      "cell_type": "markdown",
      "metadata": {
        "id": "view-in-github",
        "colab_type": "text"
      },
      "source": [
        "<a href=\"https://colab.research.google.com/github/lapshinaaa/applied-statistics-tasks/blob/main/AS1_AB.ipynb\" target=\"_parent\"><img src=\"https://colab.research.google.com/assets/colab-badge.svg\" alt=\"Open In Colab\"/></a>"
      ]
    },
    {
      "cell_type": "markdown",
      "metadata": {
        "id": "IDwJj79Ugr58"
      },
      "source": [
        "<center>\n",
        "<img src=\"https://raw.githubusercontent.com/FUlyankin/r_probability/master/end_seminars_2020/sem08/real_expect.png\" width=\"800\">\n",
        "\n",
        "# A/B Testing\n",
        "</center>"
      ]
    },
    {
      "cell_type": "markdown",
      "metadata": {
        "id": "XINx1Zbbgr59"
      },
      "source": [
        "**Lapshina Anastasiia**"
      ]
    },
    {
      "cell_type": "code",
      "execution_count": 2,
      "metadata": {
        "id": "TvVGlmKBgr5-"
      },
      "outputs": [],
      "source": [
        "import numpy as np\n",
        "import matplotlib.pyplot as plt\n",
        "from scipy import stats\n",
        "from collections import defaultdict"
      ]
    },
    {
      "cell_type": "markdown",
      "metadata": {
        "id": "twCbdT3Lgr5-"
      },
      "source": [
        "На семинаре мы попытались разобраться как устроена процедура АБ-тестирования. В этом задании мы попытаемся закрепить полученные знания и более аккуратно структурировать их."
      ]
    },
    {
      "cell_type": "markdown",
      "metadata": {
        "id": "8dFracp6gr5-"
      },
      "source": [
        "### Кратко повторим теорию\n",
        "\n",
        "Мы хотим выктить новую функциональность на сайте. Перед раскаткой нам хочется проверить, какой эффект мы оказываем на пользователя. Выделим две выборки: тестовую (treatment) и контрольную (control). Тестовой покажем новый сайт. Контрольной старый. Замерим инетерсующую нас метрику, нааример, время проведенной на сайте, в обеих группах:\n",
        "\n",
        "$$\n",
        "\\begin{aligned}\n",
        "&X^c_1, \\ldots, X^c_{n_c} \\sim iid (\\mu_c, \\sigma^2_c) \\\\\n",
        "&X^t_1, \\ldots, X^t_{n_t} \\sim iid (\\mu_t, \\sigma^2_t)\n",
        "\\end{aligned}\n",
        "$$\n",
        "\n",
        "У выборок есть какие-то математические ожидания, дисперсии. Выборки собраны независимо друг от друга. Если их математические ожидания одинаковые, будем считать, что новая функциональность никак не повлияла на пользователей. Сформулируем это в виде нашей нулевой гипотезы:\n",
        "\n",
        "$$\n",
        "\\begin{aligned}\n",
        "&H_0: \\hspace{2mm} \\mu_c = \\mu_t \\\\\n",
        "&H_1: \\hspace{2mm} \\mu_c < \\mu_t.\n",
        "\\end{aligned}\n",
        "$$\n",
        "\n",
        "Посчитаем по выборке расстояние между математическими ожиданиями $\\hat \\mu_t - \\hat \\mu_c$. Оно по ЦПТ имеет нормальное распределение с оценкой дисперсии $\\frac{\\hat{\\sigma}^2_t}{n_t} + \\frac{\\hat{\\sigma}^2_c}{n_c}$. Получается, что\n",
        "\n",
        "$$\n",
        "z = \\frac{\\hat \\mu_t - \\hat \\mu_c}{\\sqrt{\\frac{\\hat{\\sigma}^2_t}{n_t} + \\frac{\\hat{\\sigma}^2_c}{n_c}}} \\sim N(0,1),\n",
        "$$\n",
        "\n",
        "при верности нулевой гипотезы и $n \\to \\infty$. Если это расстояние оказывается слишком большим, мы отказываемся верить в нулевую гипотезу. Эффект от новой функциональности есть. Будем сравнивать наблюдаемое значение $z$ с $z_{1 - \\alpha},$ где уровень значимости $\\alpha$ выберем до начала эксперимента.\n",
        "\n",
        "- Если $z < z_{1 - \\alpha},$ нулевая гипотеза не отвергается (похоже, что верна). Расстояние маленькое, разницы нет.\n",
        "- Если $z > z_{1 - \\alpha},$ выбираем альтернативу. У на есть значимый эффект на метрику, от веры в нулевую гипотезу придётся отказаться."
      ]
    },
    {
      "cell_type": "markdown",
      "metadata": {
        "id": "1xjI5ouFgr5-"
      },
      "source": [
        "> Ничего не понятно? Тогда вам в лекции. Ниже подборка:  \n",
        "\n",
        "- [Наша лекция про АБ]( )\n",
        "- [Неделя про проверку гипотез с курсеры](https://www.youtube.com/watch?v=Zv-5gbJtofk&list=PLCf-cQCe1FRxTgNPwcRSkBjvtE8DEm7rU)\n"
      ]
    },
    {
      "cell_type": "markdown",
      "metadata": {
        "id": "nQ0zslvRgr5-"
      },
      "source": [
        "## Задания\n"
      ]
    },
    {
      "cell_type": "markdown",
      "metadata": {
        "id": "M_T3pse2gr5-"
      },
      "source": [
        "__а) [1 балл]__ Реализуйте функцию для проверки гипотезы о равенстве математических ожиданий. Она должна принимать на вход две выборки и выдавать на выход наблюдаемое значение статистики `z_obs` и `p_value` для ситуаций с разными альтернативными гипотезами."
      ]
    },
    {
      "cell_type": "code",
      "execution_count": 3,
      "metadata": {
        "id": "LHleBExcgr5-"
      },
      "outputs": [],
      "source": [
        "def asy_mean_test(x_control, x_treatment, alternative = 'larger'):\n",
        "    # calculating the number of observations in each group\n",
        "    n_control = len(x_control)\n",
        "    n_treatment = len(x_treatment)\n",
        "\n",
        "    # calculating z_obs\n",
        "    exp_diff = np.mean(x_treatment) - np.mean(x_control)\n",
        "    var_control = np.var(x_control, ddof = 1)\n",
        "    var_treatment = np.var(x_treatment, ddof = 1)\n",
        "\n",
        "    z_obs = exp_diff / np.sqrt((var_treatment / n_treatment) + (var_control / n_control))\n",
        "\n",
        "    # calculating p_value\n",
        "    if alternative == 'larger':\n",
        "        p_value = 1 - stats.norm.cdf(z_obs)\n",
        "    elif alternative == 'smaller':\n",
        "        p_value = stats.norm.cdf(z_obs)\n",
        "\n",
        "    return z_obs, p_value"
      ]
    },
    {
      "cell_type": "markdown",
      "metadata": {
        "id": "C0_hlBawgr5_"
      },
      "source": [
        "Если вы написали весь код выше корректно, то строки ниже сработают без проблем."
      ]
    },
    {
      "cell_type": "code",
      "execution_count": 4,
      "metadata": {
        "id": "PVQaCbSOgr5_"
      },
      "outputs": [],
      "source": [
        "def gen_sample(n_obs, effect, p_control):\n",
        "    p_treatment = p_control * (1 + effect)\n",
        "    x_control = stats.bernoulli(p_control).rvs(n_obs)\n",
        "    x_treatment = stats.bernoulli(p_treatment).rvs(n_obs)\n",
        "    return x_control, x_treatment"
      ]
    },
    {
      "cell_type": "code",
      "execution_count": 5,
      "metadata": {
        "id": "gW2CXxw6gr5_"
      },
      "outputs": [],
      "source": [
        "# Проверка ситуации, когда верна нулевая гипотеза\n",
        "_, pval = asy_mean_test(*gen_sample(10**5, 0, 0.2))\n",
        "assert pval > 0.01"
      ]
    },
    {
      "cell_type": "code",
      "execution_count": 6,
      "metadata": {
        "id": "3KVbbo-7gr5_"
      },
      "outputs": [],
      "source": [
        "# Проверка ситуации, когда верна нулевая гипотеза\n",
        "_, pval = asy_mean_test(*gen_sample(10**5, 0.1, 0.2))\n",
        "assert pval < 0.01"
      ]
    },
    {
      "cell_type": "markdown",
      "metadata": {
        "id": "oPWD_pzogr5_"
      },
      "source": [
        "Для простоты мы дальше будем работать с односторонней альтернативой и тестом для долей.\n",
        "\n",
        "$$\n",
        "\\begin{aligned}\n",
        "&H_0: \\hspace{2mm} p_t = p_c \\\\\n",
        "&H_1: \\hspace{2mm} p_t > p_c\n",
        "\\end{aligned}\n",
        "$$"
      ]
    },
    {
      "cell_type": "markdown",
      "metadata": {
        "id": "SrBiiz_8gr5_"
      },
      "source": [
        "__б) [2 балла]__ Предположим, что нулевая гипотеза верна. Как при верности нулевой гипотезы будут распределены `pvalue` и `z_obs`?  \n",
        "\n",
        "С помощью симуляций сгенерируйте $10^4$ выборок размера $1000$, постройте две гистограммы."
      ]
    },
    {
      "cell_type": "code",
      "execution_count": 7,
      "metadata": {
        "id": "6qznXRSjgr5_"
      },
      "outputs": [],
      "source": [
        "n_sim = 10000\n",
        "sample_size = 1000"
      ]
    },
    {
      "cell_type": "code",
      "source": [
        "# for storing values of p-value and z\n",
        "z_obs = np.zeros(n_sim)\n",
        "pval = np.zeros(n_sim)\n",
        "\n",
        "for i in range(n_sim):\n",
        "    x_control, x_treatment = gen_sample(sample_size, 0, 0.2)\n",
        "    z_obs[i], pval[i] = asy_mean_test(x_control, x_treatment)\n",
        "\n",
        "fig, axs = plt.subplots(1, 2, figsize=(12, 5))\n",
        "\n",
        "axs[0].hist(z_obs, bins=50, density=True, color='skyblue', edgecolor='black')\n",
        "axs[0].set_title(\"Histogram of z_obs if H0 is true\")\n",
        "axs[0].set_xlabel(\"z_obs\")\n",
        "axs[0].set_ylabel(\"Density\")\n",
        "\n",
        "axs[1].hist(pval, bins=50, density=True, color='skyblue', edgecolor='black')\n",
        "axs[1].set_title(\"Histogram of pval if H0 is true\")\n",
        "axs[1].set_xlabel(\"pval\")\n",
        "axs[1].set_ylabel(\"Density\")\n",
        "\n",
        "plt.show()"
      ],
      "metadata": {
        "colab": {
          "base_uri": "https://localhost:8080/",
          "height": 487
        },
        "id": "-eVfFurO9eEY",
        "outputId": "9d441352-f899-4b78-bc80-efdd770025a1"
      },
      "execution_count": 8,
      "outputs": [
        {
          "output_type": "display_data",
          "data": {
            "text/plain": [
              "<Figure size 1200x500 with 2 Axes>"
            ],
            "image/png": "[encoded data removed]"
          },
          "metadata": {}
        }
      ]
    },
    {
      "cell_type": "markdown",
      "metadata": {
        "id": "dN9AnIZogr5_"
      },
      "source": [
        "Правда ли, что распределение `pvalue` оказалось равномерным на отрезке $[0;1]$? Какое у распределения `z_obs` математическое ожидание? Попытайтесь понятными словами пояснить, почему распределения оказались именно такими."
      ]
    },
    {
      "cell_type": "markdown",
      "metadata": {
        "id": "RjpGAL8Zgr5_"
      },
      "source": [
        "**Answer:** Yes, that is correct. Under the null hypothesis, the distribution of z_obs is standard normal N(0,1). This happens because z_obs is just the standardized difference between the treatment and control means, and when H_0 is true we expect that difference to have mean 0, with fluctuations explained by normal noise (via the Central Limit Theorem).\n",
        "\n",
        "As for the p-value, its distribution under H_0 is uniform on [0,1]. The reason is that a p-value is defined as the probability, under the null, of observing a test statistic at least as extreme as the one we got. Mathematically, if a statistic has a continuous distribution under H_0, then transforming it through its cumulative distribution function produces a Uniform(0,1) random variable.\n",
        "\n",
        "Intuitively: because under the null the observed differences are just random noise that can fluctuate in either direction, all levels of “extremeness” are equally likely once mapped into the p-value scale. That’s why p-values are spread uniformly between 0 and 1 when the null is true."
      ]
    },
    {
      "cell_type": "markdown",
      "metadata": {
        "id": "2nLOpmL0gr5_"
      },
      "source": [
        "__в) [1 балл]__ Предположим, что верна альтернативная гипотеза. Доля в тестовой (treatment) выборке оказалась на $20\\%$ больше, чем в контрольной. Как при верности нулевой гипотезы будут распределены `pvalue` и `z_obs`?  \n",
        "\n",
        "С помощью симуляций сгенерируйте $10^4$ выборок размера $1000$, постройте две гистограммы и прокомментируйте получившиеся результаты."
      ]
    },
    {
      "cell_type": "code",
      "execution_count": 9,
      "metadata": {
        "id": "gshgPxX4gr5_"
      },
      "outputs": [],
      "source": [
        "n_sim = 10000\n",
        "sample_size = 1000\n",
        "effect = 0.2"
      ]
    },
    {
      "cell_type": "code",
      "source": [
        "z_obs_20 = np.zeros(n_sim)\n",
        "pval_20 = np.zeros(n_sim)\n",
        "\n",
        "for i in range(n_sim):\n",
        "    x_control, x_treatment = gen_sample(sample_size, effect, 0.2)\n",
        "    z_obs_20[i], pval_20[i] = asy_mean_test(x_control, x_treatment)\n",
        "\n",
        "fig, axs = plt.subplots(1, 2, figsize=(12, 5))\n",
        "\n",
        "axs[0].hist(z_obs_20, bins=50, density=True, color='green', edgecolor='black')\n",
        "axs[0].set_title(\"Histogram of z_obs if H1 is true, effect = 20%\")\n",
        "axs[0].set_xlabel(\"z_obs\")\n",
        "axs[0].set_ylabel(\"Density\")\n",
        "\n",
        "axs[1].hist(pval_20, bins=50, density=True, color='green', edgecolor='black')\n",
        "axs[1].set_title(\"Histogram of pval if H1 is true, effect = 20%\")\n",
        "axs[1].set_xlabel(\"pval\")\n",
        "axs[1].set_ylabel(\"Density\")\n",
        "\n",
        "plt.show()"
      ],
      "metadata": {
        "colab": {
          "base_uri": "https://localhost:8080/",
          "height": 487
        },
        "id": "CnXzecQaOAsf",
        "outputId": "7b27069f-82f5-4329-d152-327bcb990213"
      },
      "execution_count": 10,
      "outputs": [
        {
          "output_type": "display_data",
          "data": {
            "text/plain": [
              "<Figure size 1200x500 with 2 Axes>"
            ],
            "image/png": "[encoded data removed]"
          },
          "metadata": {}
        }
      ]
    },
    {
      "cell_type": "markdown",
      "metadata": {
        "id": "B8BOGJ_Tgr5_"
      },
      "source": [
        "А как будут выглядеть результаты, если доля в тестовой выборке больше на $40\\%$? Проведите симуляции."
      ]
    },
    {
      "cell_type": "code",
      "execution_count": 11,
      "metadata": {
        "id": "wbM-oiubgr5_"
      },
      "outputs": [],
      "source": [
        "n_sim = 10000\n",
        "sample_size = 1000\n",
        "effect = 0.4"
      ]
    },
    {
      "cell_type": "code",
      "source": [
        "z_obs_40 = np.zeros(n_sim)\n",
        "pval_40 = np.zeros(n_sim)\n",
        "\n",
        "for i in range(n_sim):\n",
        "    x_control, x_treatment = gen_sample(sample_size, effect, 0.2)\n",
        "    z_obs_40[i], pval_40[i] = asy_mean_test(x_control, x_treatment)\n",
        "\n",
        "fig, axs = plt.subplots(1, 2, figsize=(12, 5))\n",
        "\n",
        "axs[0].hist(z_obs_40, bins=50, density=True, color='lightgreen', edgecolor='black')\n",
        "axs[0].set_title(\"Histogram of z_obs if H1 is true, effect = 40%\")\n",
        "axs[0].set_xlabel(\"z_obs\")\n",
        "axs[0].set_ylabel(\"Density\")\n",
        "\n",
        "axs[1].hist(pval_40, bins=50, density=True, color='lightgreen', edgecolor='black')\n",
        "axs[1].set_title(\"Histogram of pval if H1 is true, effect = 40%\")\n",
        "axs[1].set_xlabel(\"pval\")\n",
        "axs[1].set_ylabel(\"Density\")\n",
        "\n",
        "plt.show()"
      ],
      "metadata": {
        "colab": {
          "base_uri": "https://localhost:8080/",
          "height": 487
        },
        "id": "a-Cs_rjpOZ3x",
        "outputId": "f5513dcb-cc92-4c5c-8299-d618004925a7"
      },
      "execution_count": 12,
      "outputs": [
        {
          "output_type": "display_data",
          "data": {
            "text/plain": [
              "<Figure size 1200x500 with 2 Axes>"
            ],
            "image/png": "[encoded data removed]"
          },
          "metadata": {}
        }
      ]
    },
    {
      "cell_type": "markdown",
      "metadata": {
        "id": "GCVBHBvOgr5_"
      },
      "source": [
        "Правда ли, что распределение `pvalue` оказалось равномерным на отрезке $[0;1]$? Какое у распределения `z_obs` математическое ожидание? Попытайтесь понятными словами пояснить, почему распределения оказались именно такими."
      ]
    },
    {
      "cell_type": "markdown",
      "metadata": {
        "id": "o8rCPAHJgr5_"
      },
      "source": [
        "__Ответ:__ No, it is not true that the distribution of the p-value is Uniform[0,1] when the alternative hypothesis is true. The property of p-values being uniformly distributed holds only under the null hypothesis.\n",
        "\n",
        "In our simulations with effect sizes of 0.2 and 0.4, the test statistic z_obs has a positive expected value (around 2 in the first case and around 4 in the second). This means the statistic is systematically shifted away from zero. As a result, the probability of observing such values (or more extreme ones) under the assumption that H_0 is true becomes very small.\n",
        "\n",
        "The larger the observed z_obs (i.e., the stronger the true effect), the more concentrated the p-values become near zero. That is why, instead of being uniformly spread over [0,1], the distribution of p-values under the alternative hypothesis is heavily skewed toward zero."
      ]
    },
    {
      "cell_type": "markdown",
      "metadata": {
        "id": "fq3su5kogr5_"
      },
      "source": [
        "__г) [1 балл]__ Обычно, перед началом эксперимента, мы фиксируем ошибку первого рода, вероятность отвергнуть нулевую гипотезу, когда она на самом деле верна,  \n",
        "\n",
        "$$\\alpha = \\mathbb{P}(H_A \\text{ выбрана} \\mid H_0 \\text{ верна}).$$\n",
        "\n",
        "Дальше мы принимаем решение, о том, какую гипотезу выбрать, сравнивая `z_obs` с $z_{1 - \\alpha},$ либо `pvalue` с $\\alpha$ (напомню что мы делаем симуляции для правосторонней альтернативы, поэтому $\\alpha$ не надо делить на два).\n",
        "\n",
        "Давайте проверим для конкретного $\\alpha$, что это правда работает. Выберите любое разумное значение $\\alpha$. С помощью симуляций сгенерируйте $10^4$ выборок размера $1000$ при верности нулевой гипотезы. Проверьте эти гипотезы и оцените получившееся значение $\\alpha$. Правда ли, что оно оказалось равно заявленному значению?\n",
        "\n",
        "__P.S.__ в идеале, тут надо воспользоваться уже проделанными выше симуляциями."
      ]
    },
    {
      "cell_type": "code",
      "execution_count": 17,
      "metadata": {
        "id": "4zzTqSORgr5_"
      },
      "outputs": [],
      "source": [
        "n_sim = 10000\n",
        "sample_size = 1000\n",
        "p_control = 0.2\n",
        "alpha = 0.05\n",
        "effect = 0.0"
      ]
    },
    {
      "cell_type": "code",
      "source": [
        "reject_count = 0\n",
        "\n",
        "for i in range(n_sim):\n",
        "    x_control, x_treatment = gen_sample(sample_size, effect, p_control)\n",
        "    _, pval = asy_mean_test(x_control, x_treatment)\n",
        "    if pval < alpha:\n",
        "        reject_count += 1\n",
        "\n",
        "print(reject_count / n_sim)"
      ],
      "metadata": {
        "colab": {
          "base_uri": "https://localhost:8080/"
        },
        "id": "nIlML_OAqvxM",
        "outputId": "b5ed4261-fa6d-432a-f50b-e263a227fd0c"
      },
      "execution_count": 18,
      "outputs": [
        {
          "output_type": "stream",
          "name": "stdout",
          "text": [
            "0.0532\n"
          ]
        }
      ]
    },
    {
      "cell_type": "markdown",
      "metadata": {
        "id": "am0pYcsdgr5_"
      },
      "source": [
        "Кроме ошибки первого рода есть ещё и ошибка второго рода, вероятность остаться с нулевой гипотезой, когда верна альтернатива,\n",
        "\n",
        "$$\\beta = \\mathbb{P}(H_0 \\text{ выбрана} \\mid H_A \\text{ верна}).$$\n",
        "\n",
        "Давайте предположим, что доля в тестовой (treatment) выборке оказалась на $20\\%$ больше, чем в контрольной. С помощью симуляций того же самого объёма оцените, чему равна $\\beta$.\n",
        "\n",
        "__P.S.__ в идеале, тут надо воспользоваться уже проделанными выше симуляциями."
      ]
    },
    {
      "cell_type": "code",
      "execution_count": 19,
      "metadata": {
        "id": "Awt6EF7Agr5_"
      },
      "outputs": [],
      "source": [
        "n_sim = 10000\n",
        "sample_size = 1000\n",
        "p_control = 0.2\n",
        "alpha = 0.05\n",
        "effect = 0.2"
      ]
    },
    {
      "cell_type": "code",
      "source": [
        "beta = 0\n",
        "for i in range(n_sim):\n",
        "    x_control, x_treatment = gen_sample(sample_size, effect, p_control)\n",
        "    _, pval = asy_mean_test(x_control, x_treatment)\n",
        "    if pval >= alpha:\n",
        "        beta += 1\n",
        "\n",
        "print(beta / n_sim)"
      ],
      "metadata": {
        "colab": {
          "base_uri": "https://localhost:8080/"
        },
        "id": "TiLHuCtVtCJU",
        "outputId": "4d0fa6b6-7e6a-4054-ad84-3cbc9dc94250"
      },
      "execution_count": 21,
      "outputs": [
        {
          "output_type": "stream",
          "name": "stdout",
          "text": [
            "0.2967\n"
          ]
        }
      ]
    },
    {
      "cell_type": "markdown",
      "metadata": {
        "id": "GfE8xtcbgr6A"
      },
      "source": [
        "Теперь доля в тестовой выборке оказалась на $40\\%$ больше, чем в контрольной. Чем равна $\\beta$ здесь?"
      ]
    },
    {
      "cell_type": "code",
      "execution_count": 22,
      "metadata": {
        "id": "TzoiogFjgr6A"
      },
      "outputs": [],
      "source": [
        "effect = 0.4\n",
        "beta = 0"
      ]
    },
    {
      "cell_type": "code",
      "source": [
        "for i in range(n_sim):\n",
        "    x_control, x_treatment = gen_sample(sample_size, effect, p_control)\n",
        "    _, pval = asy_mean_test(x_control, x_treatment)\n",
        "    if pval >= alpha:\n",
        "        beta += 1\n",
        "\n",
        "print(beta / n_sim)"
      ],
      "metadata": {
        "colab": {
          "base_uri": "https://localhost:8080/"
        },
        "id": "b2e-h6Ujtrz1",
        "outputId": "8eb81394-5c3f-4862-cdfe-23d9c5a37ba4"
      },
      "execution_count": 23,
      "outputs": [
        {
          "output_type": "stream",
          "name": "stdout",
          "text": [
            "0.0041\n"
          ]
        }
      ]
    },
    {
      "cell_type": "markdown",
      "metadata": {
        "id": "kjApoQ5ogr6A"
      },
      "source": [
        "Что с ошибкой второго рода происходит при росте эффекта? Что происходит с ней, если при проверке гипотезы взять более маленькое $\\alpha$?\n",
        "\n",
        "__Ответ:__ The larger the true effect, the smaller the probability of a Type II error $\\beta$. This is because as the effect grows, the observed difference between the two groups becomes more pronounced and easier to detect statistically, so the chance of mistakenly accepting H_0 decreases. In other words, the test has greater power $1-\\beta$ when the effect size is larger.\n",
        "\n",
        "If we lower the significance level $\\alpha$ (make it more stringent), then the rejection region becomes smaller. This reduces the probability of a Type I error, but at the same time it increases the probability of a Type II error $\\beta$, because it becomes harder to reject H_0 even when a real effect exists."
      ]
    },
    {
      "cell_type": "markdown",
      "metadata": {
        "id": "KXExrYGTgr6A"
      },
      "source": [
        "__д) [1 балл]__ Ошибки $\\alpha$ и $\\beta$ связаны между собой. Чем выше, при фиксированном размере выборки и эффекта мы делаем одну, тем ниже другая. Давайте попробуем в рамках проделанных выше симуляций нарисовать взаимосвязь между ошибками.\n",
        "\n",
        "Выше, для оценки $\\beta$ вы сравнивали вектор `pval` с зафиксированным значением `alpha`.  Переберите `alpha` по циклу от 0 до 1 с шагом 0.01 и оцените для каждого значения `alpha` значение `beta`.\n",
        "\n",
        "Нарисуйте получившуюся взаимосвязь на графике для эффекта в 20% и 40%. Какая из кривых идёт ниже?"
      ]
    },
    {
      "cell_type": "code",
      "execution_count": null,
      "metadata": {
        "id": "Meei42N_gr6A"
      },
      "outputs": [],
      "source": [
        "# ваш код"
      ]
    },
    {
      "cell_type": "markdown",
      "metadata": {
        "id": "sVMLWXWegr6A"
      },
      "source": [
        "Нарисуйте точно такую же кривую для ситуации, когда была верна нулевая гипотеза."
      ]
    },
    {
      "cell_type": "code",
      "execution_count": null,
      "metadata": {
        "id": "lPBYlUdDgr6A"
      },
      "outputs": [],
      "source": [
        "# ваш код"
      ]
    },
    {
      "cell_type": "markdown",
      "metadata": {
        "id": "jIT5O42ugr6A"
      },
      "source": [
        "Вместо осей $(\\alpha, \\beta)$ обычно такой график рисуют в осях $(\\alpha, 1 - \\beta)$. Давайте построим его и проинтерпретируем."
      ]
    },
    {
      "cell_type": "code",
      "execution_count": null,
      "metadata": {
        "id": "uIEk-7Aogr6A"
      },
      "outputs": [],
      "source": [
        "def plot_pvalue_distribution(dict_pvalues):\n",
        "    xseq = np.linspace(0, 1, 1000)\n",
        "\n",
        "    for key, pvalues in dict_pvalues.items():\n",
        "        yseq = [np.mean(pvalues < x) for x in xseq]\n",
        "        plt.plot(xseq, yseq, label=key)\n",
        "\n",
        "    plt.plot([0, 1], [0, 1], '--k', alpha=0.8)\n",
        "    plt.title('Распределение p-value/ROC-кривая', size=16)\n",
        "    plt.xlabel('alpha', size=12)\n",
        "    plt.ylabel('1 - beta', size=12)\n",
        "    plt.legend(fontsize=12)\n",
        "    plt.grid()"
      ]
    },
    {
      "cell_type": "markdown",
      "metadata": {
        "id": "g8_1_KY2gr6A"
      },
      "source": [
        "Заполните пропуски в коде ниже, чтобы для нашего АБ-теста отрисовались ROC-кривые."
      ]
    },
    {
      "cell_type": "code",
      "execution_count": null,
      "metadata": {
        "id": "aVid_zWDgr6E",
        "outputId": "1b2ffb6d-4600-499e-c4f2-b08d8c316ff1"
      },
      "outputs": [
        {
          "data": {
            "image/png": "[encoded data removed]",
            "text/plain": [
              "<Figure size 640x480 with 1 Axes>"
            ]
          },
          "metadata": {},
          "output_type": "display_data"
        }
      ],
      "source": [
        "n_sim = 10**4\n",
        "sample_size = 1000\n",
        "\n",
        "dict_pvalues = defaultdict(list)\n",
        "for _ in range(n_sim):\n",
        "\n",
        "    x_control, x_treatment = ...\n",
        "    z_obs_ab, pval_ab = ...\n",
        "\n",
        "    # сгенерируем ещё одну тестовую выборку, чтобы убедиться, что в случае когда выборки совпали,\n",
        "    # наш тест работает корректно и не находит разницу\n",
        "    x_control_again, _ = ...\n",
        "    z_obs_aa, pval_aa = ...\n",
        "\n",
        "    x_control_again, _ = gen_sample(1000, 0, 0.2)\n",
        "    z_obs_aa, pval_aa = asy_mean_test(x_control, x_control_again)\n",
        "\n",
        "    dict_pvalues['ztest A/A'].append(pval_aa)\n",
        "    dict_pvalues['ztest A/B'].append(pval_ab)\n",
        "\n",
        "plot_pvalue_distribution(dict_pvalues)"
      ]
    },
    {
      "cell_type": "markdown",
      "metadata": {
        "id": "1GqhNYq0gr6E"
      },
      "source": [
        "Получившийся график можно проинтерпретировать двумя способами. Мы много-много раз проводим АБ-тест. В начале теста мы зафиксировали какую-то $\\alpha$ и дальше проверяем кучу гипотез.\n",
        "\n",
        "1. Линия `ztest A/A` это функция распределения pvalue при верности нулевой гипотезы. Оно было равномерным, мы двигаем $\\alpha$ по оси $OX$ и оцениваем $\\mathbb{P}(\\text{pvalue} \\le \\alpha) = F(\\alpha)$.  \n",
        "\n",
        "По аналогии, линия `ztest A/B` это функция распределения pvalue при верности альтернативной гипотезы.\n",
        "\n",
        "2. Линию `ztest A/B` можно проинтерпретировать как ROC-кривую. Если вы уже знаете про задачу классификации из машинного обучения, то это ровно оно. Полнота это $1 - \\beta$, то есть то, сколько верных альтернативных гипотез мы найдём, если будем использовать наш АБ-тест, FPR это $\\alpha$, то есть то, сколько верных нулевых гипотез мы заберём с собой в альтернативные. Эту величину мы определяем до старта эксперимента.\n",
        "\n",
        "> Важно: если вы не поняли интерпретацию из пункта 2, просто забейте. Заботаете МО, поймёте. Интерпретацию из пункта 1 должны понять все. Если вы её не поняли, время напрячься и подумать ещё разок."
      ]
    },
    {
      "cell_type": "markdown",
      "metadata": {
        "id": "ksFHZCYKgr6E"
      },
      "source": [
        "__Что для нас важно:__\n",
        "\n",
        "- Чем выпуклее график, тем лучше мы находим эффект и процедура проверки гипотезы работае корректно;\n",
        "- Чем больше у нас наблюдений тем выпуклее график;\n",
        "- Чем сильнее в тестовой выборке подскакивает $p_t$ при изменениях, тем легче нам найти эффект и тем выпуклее график;\n",
        "- Если $p_t$ подскочило на очень маленькую величину, нам сложнее найти это изменение, и график будет менее выпуклым;\n",
        "- Чем меньше в выборках дисперсия, тем выпуклее график."
      ]
    },
    {
      "cell_type": "markdown",
      "metadata": {
        "id": "SOxzS7VOgr6E"
      },
      "source": [
        "__е) [2 балла]__ При верности альтернативной гипотезы, постройте ROC-кривые из пункта выше для разного числа наблюдений в выборке: 10, 100, 1000, 10000 при любом фиксированном эффекте."
      ]
    },
    {
      "cell_type": "code",
      "execution_count": null,
      "metadata": {
        "id": "7NKhj2XUgr6E"
      },
      "outputs": [],
      "source": [
        "# ваш код"
      ]
    },
    {
      "cell_type": "markdown",
      "metadata": {
        "id": "lNZd0NOXgr6E"
      },
      "source": [
        "__ё) [1 балл]__ Количество наблюдений, ошибка 1 и 2 рода, размер эффекта, который мы ищем и дисперсия в выборках связаны между собой. Для некоторых критериев проверки гипотез можно вывести формулы, которые их связывают.\n",
        "\n",
        "В данном случае, формула для расчета числа наблюдений _для одной группы_ выглядит вот так:\n",
        "\n",
        "$$\n",
        "n_{\\text{one group}} = \\frac{(\\sigma_A^2 + \\sigma_B^2) \\cdot (z_{1-\\frac{\\alpha}{2}} + z_{1-\\beta})^2}{MDE^2},\n",
        "$$"
      ]
    },
    {
      "cell_type": "markdown",
      "metadata": {
        "id": "NXsJihWcgr6E"
      },
      "source": [
        "В приложении Яндекс.Такси в конце поездки вылезают рандомные опросники. В одном из опросников задаётся вопрос «А вы пристёгивались, когда ехали?»\n",
        "\n",
        "В России, в день, в Такси происходит 1 миллион заказов. Вопрос про ремни задаётся рандомным 10% пользователей, закончивших поездку. Пользователь не игнорирует опросник и отвечает на него да или нет с вероятностью 5% (цифры взяты из головы и не отражают реальную статистику).\n",
        "\n",
        "Менеджер Екатерина хочет сделать так, чтобы когда пассажир садится в машину, Алиса просила его пристегнуться. Хочется замерить, какой эффект это даст на пристёгивания. Станут ли люди чаще пристёгиваться. Замерять мы это будем опросником. Сейчас 10% пользователей говорят, что пристегнулись.\n",
        "\n",
        "Екатерина пришла к вам и между вами состоялся следующий диалог:\n",
        "\n",
        "- Хочу АБ-тест с разбивкой 50 на 50.\n",
        "- Какие ошибки 1 и 2 рода хочешь?\n",
        "- Нулевые.\n",
        "- Нам надо бесконечно наблюдений, готова столько ждать?\n",
        "- Нет.\n",
        "- На сколько мы хотим, чтобы выросла доля ответов да?\n",
        "- Если подрастёт хотябы на процент, будет круто.\n",
        "- То есть если меньше процента, такой эффект считаем неудачей и отсутствием изменения?\n",
        "- Да.\n",
        "- Давай я нарисую тебе табличку с разными ошибками, а внутри на пересечении напишу сколько дней надо ждать, чтобы найти такой минимальный эффект.\n",
        "- Давай, по ней и примем решение."
      ]
    },
    {
      "cell_type": "markdown",
      "metadata": {
        "id": "igZjFymngr6E"
      },
      "source": [
        "Нарисуйте для Екатерины такую табличку. Не забудьте перевести общее количество наблюдений в дни."
      ]
    },
    {
      "cell_type": "code",
      "execution_count": null,
      "metadata": {
        "id": "PQ-5GM97gr6E"
      },
      "outputs": [],
      "source": [
        "# Ваш код"
      ]
    },
    {
      "cell_type": "markdown",
      "metadata": {
        "id": "-KsUP0Wlgr6E"
      },
      "source": [
        "__ж) [1 балл]__ Попробуем сломать наш АБ-тест. Когда мы используем z-тест, мы размышляем в терминах центральной предельной теоремы. Тест будет работать, если выполнены предпосылки ЦПТ:\n",
        "\n",
        "- Наблюдения независимо одинаково распределены\n",
        "- В данных нет выборосов, дисперсия конечная\n",
        "- Данных много\n",
        "\n",
        "Давайте сломаем одно из условий и попробуем собрать выборку из [распределения Парето](https://ru.wikipedia.org/wiki/Распределение_Парето)."
      ]
    },
    {
      "cell_type": "code",
      "execution_count": null,
      "metadata": {
        "id": "ZjNz6_wFgr6F"
      },
      "outputs": [],
      "source": [
        "def gen_sample(n_obs, effect, b=0.5):\n",
        "    x_control = stats.pareto(b=b).rvs(n_obs)\n",
        "    x_treatment = stats.pareto(b=b).rvs(n_obs)\n",
        "    x_treatment = (1 + effect) * x_treatment\n",
        "    return x_control, x_treatment"
      ]
    },
    {
      "cell_type": "markdown",
      "metadata": {
        "id": "W0H4jp1Egr6F"
      },
      "source": [
        "Отрисуйте ROC-кривые для $b=3$, $b=1$, $b=0.5$"
      ]
    },
    {
      "cell_type": "code",
      "execution_count": null,
      "metadata": {
        "id": "1AzWAZS2gr6F"
      },
      "outputs": [],
      "source": [
        "# ваш код"
      ]
    },
    {
      "cell_type": "markdown",
      "metadata": {
        "id": "yH9AV2-Wgr6F"
      },
      "source": [
        "Возьмите при каждом $b$ одну выборку, нарисуйте для неё гистограмму и посмотрите как обстоят дела с выбросами."
      ]
    },
    {
      "cell_type": "code",
      "execution_count": null,
      "metadata": {
        "id": "IRH2Kebwgr6F"
      },
      "outputs": [],
      "source": [
        "# ваш код"
      ]
    },
    {
      "cell_type": "markdown",
      "metadata": {
        "id": "BwRGkzQ8gr6F"
      },
      "source": [
        "У распределения Парето не всегда существует дисперсия. Это ломает предпосылки ЦПТ и АБ-тест разваливается."
      ]
    }
  ],
  "metadata": {
    "kernelspec": {
      "display_name": "Python 3",
      "language": "python",
      "name": "python3"
    },
    "language_info": {
      "codemirror_mode": {
        "name": "ipython",
        "version": 3
      },
      "file_extension": ".py",
      "mimetype": "text/x-python",
      "name": "python",
      "nbconvert_exporter": "python",
      "pygments_lexer": "ipython3",
      "version": "3.11.6"
    },
    "colab": {
      "provenance": [],
      "include_colab_link": true
    }
  },
  "nbformat": 4,
  "nbformat_minor": 0
}