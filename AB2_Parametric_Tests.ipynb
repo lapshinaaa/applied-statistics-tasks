{
  "cells": [
    {
      "cell_type": "markdown",
      "metadata": {
        "id": "view-in-github",
        "colab_type": "text"
      },
      "source": [
        "<a href=\"https://colab.research.google.com/github/lapshinaaa/applied-statistics-tasks/blob/main/AB2_Parametric_Tests.ipynb\" target=\"_parent\"><img src=\"https://colab.research.google.com/assets/colab-badge.svg\" alt=\"Open In Colab\"/></a>"
      ]
    },
    {
      "cell_type": "markdown",
      "metadata": {
        "id": "i918aGlokv3e"
      },
      "source": [
        "<center>\n",
        "<img src=\"https://raw.githubusercontent.com/FUlyankin/r_probability/master/end_seminars_2020/sem08/real_expect.png\" width=\"500\">\n",
        "\n",
        "# Домашнее задание 6: параметрические тесты\n",
        "</center>"
      ]
    },
    {
      "cell_type": "code",
      "execution_count": 1,
      "metadata": {
        "id": "IDWOiNa0kv3l"
      },
      "outputs": [],
      "source": [
        "import numpy as np\n",
        "import pandas as pd\n",
        "\n",
        "import scipy.stats as sts\n",
        "import matplotlib.pyplot as plt\n",
        "import seaborn as sns"
      ]
    },
    {
      "cell_type": "markdown",
      "metadata": {
        "id": "ifdazyaekv3m"
      },
      "source": [
        "### Задача №1: Лучше найди себе девушку! (25 баллов)"
      ]
    },
    {
      "cell_type": "markdown",
      "metadata": {
        "id": "W4AH7O8ekv3n"
      },
      "source": [
        "В этой задаче вам предстоит проверить несколько гипотез на датасете из американского сервиса знакомств. Датасет называется `dating_is_hard.csv`\n",
        "\n",
        "Колонки датасета:\n",
        "- `age` - возраст\n",
        "- `is_heavy_drinker` - алкоголизм в булевом виде\n",
        "- `height` - рост в дюймах\n",
        "- `sex` - полов может быть только два - f для женщин и m для мужчин.\n",
        "- `smokes` - зависимость от табака в булевом виде\n",
        "- `location` - место жительства\n",
        "- `offspring` - отношение к детям\n",
        "\n",
        "Для каждого пункта нужно расписать нулевую и альтернативную гипотезу, описать какой именно критерий вы используете, перечислить предпослыки необходимые для его использования, а также вычислить значение статистики и p-value, если это возможно."
      ]
    },
    {
      "cell_type": "code",
      "execution_count": 4,
      "metadata": {
        "id": "Agczo67fkv3n"
      },
      "outputs": [],
      "source": [
        "df = pd.read_csv('dating_is_hard.csv')"
      ]
    },
    {
      "cell_type": "code",
      "source": [
        "df.head(2)"
      ],
      "metadata": {
        "colab": {
          "base_uri": "https://localhost:8080/",
          "height": 112
        },
        "id": "EoyWPosn9bIG",
        "outputId": "b47ad8ad-8c09-4edc-f1a9-15b52ee62f81"
      },
      "execution_count": 5,
      "outputs": [
        {
          "output_type": "execute_result",
          "data": {
            "text/plain": [
              "  Unnamed: 0  age  is_heavy_drinker  height sex  smokes  \\\n",
              "0      uid_1   27             False      64   f    True   \n",
              "1      uid_2   38             False      65   f   False   \n",
              "\n",
              "                   location   offspring  \n",
              "0  san francisco california  no opinion  \n",
              "1        oakland california  wants kids  "
            ],
            "text/html": [
              "\n",
              "  <div id=\"df-081efe26-70d5-4026-bfe5-5690d19fe1c6\" class=\"colab-df-container\">\n",
              "    <div>\n",
              "<style scoped>\n",
              "    .dataframe tbody tr th:only-of-type {\n",
              "        vertical-align: middle;\n",
              "    }\n",
              "\n",
              "    .dataframe tbody tr th {\n",
              "        vertical-align: top;\n",
              "    }\n",
              "\n",
              "    .dataframe thead th {\n",
              "        text-align: right;\n",
              "    }\n",
              "</style>\n",
              "<table border=\"1\" class=\"dataframe\">\n",
              "  <thead>\n",
              "    <tr style=\"text-align: right;\">\n",
              "      <th></th>\n",
              "      <th>Unnamed: 0</th>\n",
              "      <th>age</th>\n",
              "      <th>is_heavy_drinker</th>\n",
              "      <th>height</th>\n",
              "      <th>sex</th>\n",
              "      <th>smokes</th>\n",
              "      <th>location</th>\n",
              "      <th>offspring</th>\n",
              "    </tr>\n",
              "  </thead>\n",
              "  <tbody>\n",
              "    <tr>\n",
              "      <th>0</th>\n",
              "      <td>uid_1</td>\n",
              "      <td>27</td>\n",
              "      <td>False</td>\n",
              "      <td>64</td>\n",
              "      <td>f</td>\n",
              "      <td>True</td>\n",
              "      <td>san francisco california</td>\n",
              "      <td>no opinion</td>\n",
              "    </tr>\n",
              "    <tr>\n",
              "      <th>1</th>\n",
              "      <td>uid_2</td>\n",
              "      <td>38</td>\n",
              "      <td>False</td>\n",
              "      <td>65</td>\n",
              "      <td>f</td>\n",
              "      <td>False</td>\n",
              "      <td>oakland california</td>\n",
              "      <td>wants kids</td>\n",
              "    </tr>\n",
              "  </tbody>\n",
              "</table>\n",
              "</div>\n",
              "    <div class=\"colab-df-buttons\">\n",
              "\n",
              "  <div class=\"colab-df-container\">\n",
              "    <button class=\"colab-df-convert\" onclick=\"convertToInteractive('df-081efe26-70d5-4026-bfe5-5690d19fe1c6')\"\n",
              "            title=\"Convert this dataframe to an interactive table.\"\n",
              "            style=\"display:none;\">\n",
              "\n",
              "  <svg xmlns=\"http://www.w3.org/2000/svg\" height=\"24px\" viewBox=\"0 -960 960 960\">\n",
              "    <path d=\"M120-120v-720h720v720H120Zm60-500h600v-160H180v160Zm220 220h160v-160H400v160Zm0 220h160v-160H400v160ZM180-400h160v-160H180v160Zm440 0h160v-160H620v160ZM180-180h160v-160H180v160Zm440 0h160v-160H620v160Z\"/>\n",
              "  </svg>\n",
              "    </button>\n",
              "\n",
              "  <style>\n",
              "    .colab-df-container {\n",
              "      display:flex;\n",
              "      gap: 12px;\n",
              "    }\n",
              "\n",
              "    .colab-df-convert {\n",
              "      background-color: #E8F0FE;\n",
              "      border: none;\n",
              "      border-radius: 50%;\n",
              "      cursor: pointer;\n",
              "      display: none;\n",
              "      fill: #1967D2;\n",
              "      height: 32px;\n",
              "      padding: 0 0 0 0;\n",
              "      width: 32px;\n",
              "    }\n",
              "\n",
              "    .colab-df-convert:hover {\n",
              "      background-color: #E2EBFA;\n",
              "      box-shadow: 0px 1px 2px rgba(60, 64, 67, 0.3), 0px 1px 3px 1px rgba(60, 64, 67, 0.15);\n",
              "      fill: #174EA6;\n",
              "    }\n",
              "\n",
              "    .colab-df-buttons div {\n",
              "      margin-bottom: 4px;\n",
              "    }\n",
              "\n",
              "    [theme=dark] .colab-df-convert {\n",
              "      background-color: #3B4455;\n",
              "      fill: #D2E3FC;\n",
              "    }\n",
              "\n",
              "    [theme=dark] .colab-df-convert:hover {\n",
              "      background-color: #434B5C;\n",
              "      box-shadow: 0px 1px 3px 1px rgba(0, 0, 0, 0.15);\n",
              "      filter: drop-shadow(0px 1px 2px rgba(0, 0, 0, 0.3));\n",
              "      fill: #FFFFFF;\n",
              "    }\n",
              "  </style>\n",
              "\n",
              "    <script>\n",
              "      const buttonEl =\n",
              "        document.querySelector('#df-081efe26-70d5-4026-bfe5-5690d19fe1c6 button.colab-df-convert');\n",
              "      buttonEl.style.display =\n",
              "        google.colab.kernel.accessAllowed ? 'block' : 'none';\n",
              "\n",
              "      async function convertToInteractive(key) {\n",
              "        const element = document.querySelector('#df-081efe26-70d5-4026-bfe5-5690d19fe1c6');\n",
              "        const dataTable =\n",
              "          await google.colab.kernel.invokeFunction('convertToInteractive',\n",
              "                                                    [key], {});\n",
              "        if (!dataTable) return;\n",
              "\n",
              "        const docLinkHtml = 'Like what you see? Visit the ' +\n",
              "          '<a target=\"_blank\" href=https://colab.research.google.com/notebooks/data_table.ipynb>data table notebook</a>'\n",
              "          + ' to learn more about interactive tables.';\n",
              "        element.innerHTML = '';\n",
              "        dataTable['output_type'] = 'display_data';\n",
              "        await google.colab.output.renderOutput(dataTable, element);\n",
              "        const docLink = document.createElement('div');\n",
              "        docLink.innerHTML = docLinkHtml;\n",
              "        element.appendChild(docLink);\n",
              "      }\n",
              "    </script>\n",
              "  </div>\n",
              "\n",
              "\n",
              "    <div id=\"df-eab05d89-e97b-4fc5-88ef-62f79aa47343\">\n",
              "      <button class=\"colab-df-quickchart\" onclick=\"quickchart('df-eab05d89-e97b-4fc5-88ef-62f79aa47343')\"\n",
              "                title=\"Suggest charts\"\n",
              "                style=\"display:none;\">\n",
              "\n",
              "<svg xmlns=\"http://www.w3.org/2000/svg\" height=\"24px\"viewBox=\"0 0 24 24\"\n",
              "     width=\"24px\">\n",
              "    <g>\n",
              "        <path d=\"M19 3H5c-1.1 0-2 .9-2 2v14c0 1.1.9 2 2 2h14c1.1 0 2-.9 2-2V5c0-1.1-.9-2-2-2zM9 17H7v-7h2v7zm4 0h-2V7h2v10zm4 0h-2v-4h2v4z\"/>\n",
              "    </g>\n",
              "</svg>\n",
              "      </button>\n",
              "\n",
              "<style>\n",
              "  .colab-df-quickchart {\n",
              "      --bg-color: #E8F0FE;\n",
              "      --fill-color: #1967D2;\n",
              "      --hover-bg-color: #E2EBFA;\n",
              "      --hover-fill-color: #174EA6;\n",
              "      --disabled-fill-color: #AAA;\n",
              "      --disabled-bg-color: #DDD;\n",
              "  }\n",
              "\n",
              "  [theme=dark] .colab-df-quickchart {\n",
              "      --bg-color: #3B4455;\n",
              "      --fill-color: #D2E3FC;\n",
              "      --hover-bg-color: #434B5C;\n",
              "      --hover-fill-color: #FFFFFF;\n",
              "      --disabled-bg-color: #3B4455;\n",
              "      --disabled-fill-color: #666;\n",
              "  }\n",
              "\n",
              "  .colab-df-quickchart {\n",
              "    background-color: var(--bg-color);\n",
              "    border: none;\n",
              "    border-radius: 50%;\n",
              "    cursor: pointer;\n",
              "    display: none;\n",
              "    fill: var(--fill-color);\n",
              "    height: 32px;\n",
              "    padding: 0;\n",
              "    width: 32px;\n",
              "  }\n",
              "\n",
              "  .colab-df-quickchart:hover {\n",
              "    background-color: var(--hover-bg-color);\n",
              "    box-shadow: 0 1px 2px rgba(60, 64, 67, 0.3), 0 1px 3px 1px rgba(60, 64, 67, 0.15);\n",
              "    fill: var(--button-hover-fill-color);\n",
              "  }\n",
              "\n",
              "  .colab-df-quickchart-complete:disabled,\n",
              "  .colab-df-quickchart-complete:disabled:hover {\n",
              "    background-color: var(--disabled-bg-color);\n",
              "    fill: var(--disabled-fill-color);\n",
              "    box-shadow: none;\n",
              "  }\n",
              "\n",
              "  .colab-df-spinner {\n",
              "    border: 2px solid var(--fill-color);\n",
              "    border-color: transparent;\n",
              "    border-bottom-color: var(--fill-color);\n",
              "    animation:\n",
              "      spin 1s steps(1) infinite;\n",
              "  }\n",
              "\n",
              "  @keyframes spin {\n",
              "    0% {\n",
              "      border-color: transparent;\n",
              "      border-bottom-color: var(--fill-color);\n",
              "      border-left-color: var(--fill-color);\n",
              "    }\n",
              "    20% {\n",
              "      border-color: transparent;\n",
              "      border-left-color: var(--fill-color);\n",
              "      border-top-color: var(--fill-color);\n",
              "    }\n",
              "    30% {\n",
              "      border-color: transparent;\n",
              "      border-left-color: var(--fill-color);\n",
              "      border-top-color: var(--fill-color);\n",
              "      border-right-color: var(--fill-color);\n",
              "    }\n",
              "    40% {\n",
              "      border-color: transparent;\n",
              "      border-right-color: var(--fill-color);\n",
              "      border-top-color: var(--fill-color);\n",
              "    }\n",
              "    60% {\n",
              "      border-color: transparent;\n",
              "      border-right-color: var(--fill-color);\n",
              "    }\n",
              "    80% {\n",
              "      border-color: transparent;\n",
              "      border-right-color: var(--fill-color);\n",
              "      border-bottom-color: var(--fill-color);\n",
              "    }\n",
              "    90% {\n",
              "      border-color: transparent;\n",
              "      border-bottom-color: var(--fill-color);\n",
              "    }\n",
              "  }\n",
              "</style>\n",
              "\n",
              "      <script>\n",
              "        async function quickchart(key) {\n",
              "          const quickchartButtonEl =\n",
              "            document.querySelector('#' + key + ' button');\n",
              "          quickchartButtonEl.disabled = true;  // To prevent multiple clicks.\n",
              "          quickchartButtonEl.classList.add('colab-df-spinner');\n",
              "          try {\n",
              "            const charts = await google.colab.kernel.invokeFunction(\n",
              "                'suggestCharts', [key], {});\n",
              "          } catch (error) {\n",
              "            console.error('Error during call to suggestCharts:', error);\n",
              "          }\n",
              "          quickchartButtonEl.classList.remove('colab-df-spinner');\n",
              "          quickchartButtonEl.classList.add('colab-df-quickchart-complete');\n",
              "        }\n",
              "        (() => {\n",
              "          let quickchartButtonEl =\n",
              "            document.querySelector('#df-eab05d89-e97b-4fc5-88ef-62f79aa47343 button');\n",
              "          quickchartButtonEl.style.display =\n",
              "            google.colab.kernel.accessAllowed ? 'block' : 'none';\n",
              "        })();\n",
              "      </script>\n",
              "    </div>\n",
              "\n",
              "    </div>\n",
              "  </div>\n"
            ],
            "application/vnd.google.colaboratory.intrinsic+json": {
              "type": "dataframe",
              "variable_name": "df",
              "summary": "{\n  \"name\": \"df\",\n  \"rows\": 1000,\n  \"fields\": [\n    {\n      \"column\": \"Unnamed: 0\",\n      \"properties\": {\n        \"dtype\": \"string\",\n        \"num_unique_values\": 1000,\n        \"samples\": [\n          \"uid_522\",\n          \"uid_738\",\n          \"uid_741\"\n        ],\n        \"semantic_type\": \"\",\n        \"description\": \"\"\n      }\n    },\n    {\n      \"column\": \"age\",\n      \"properties\": {\n        \"dtype\": \"number\",\n        \"std\": 9,\n        \"min\": 18,\n        \"max\": 110,\n        \"num_unique_values\": 47,\n        \"samples\": [\n          21,\n          47,\n          34\n        ],\n        \"semantic_type\": \"\",\n        \"description\": \"\"\n      }\n    },\n    {\n      \"column\": \"is_heavy_drinker\",\n      \"properties\": {\n        \"dtype\": \"boolean\",\n        \"num_unique_values\": 2,\n        \"samples\": [\n          true,\n          false\n        ],\n        \"semantic_type\": \"\",\n        \"description\": \"\"\n      }\n    },\n    {\n      \"column\": \"height\",\n      \"properties\": {\n        \"dtype\": \"number\",\n        \"std\": 3,\n        \"min\": 58,\n        \"max\": 83,\n        \"num_unique_values\": 23,\n        \"samples\": [\n          75,\n          72\n        ],\n        \"semantic_type\": \"\",\n        \"description\": \"\"\n      }\n    },\n    {\n      \"column\": \"sex\",\n      \"properties\": {\n        \"dtype\": \"category\",\n        \"num_unique_values\": 2,\n        \"samples\": [\n          \"m\",\n          \"f\"\n        ],\n        \"semantic_type\": \"\",\n        \"description\": \"\"\n      }\n    },\n    {\n      \"column\": \"smokes\",\n      \"properties\": {\n        \"dtype\": \"boolean\",\n        \"num_unique_values\": 2,\n        \"samples\": [\n          false,\n          true\n        ],\n        \"semantic_type\": \"\",\n        \"description\": \"\"\n      }\n    },\n    {\n      \"column\": \"location\",\n      \"properties\": {\n        \"dtype\": \"category\",\n        \"num_unique_values\": 56,\n        \"samples\": [\n          \"san francisco california\",\n          \"san rafael california\"\n        ],\n        \"semantic_type\": \"\",\n        \"description\": \"\"\n      }\n    },\n    {\n      \"column\": \"offspring\",\n      \"properties\": {\n        \"dtype\": \"category\",\n        \"num_unique_values\": 15,\n        \"samples\": [\n          \"does not have kids but wants them\",\n          \"has a kid but does not want more\"\n        ],\n        \"semantic_type\": \"\",\n        \"description\": \"\"\n      }\n    }\n  ]\n}"
            }
          },
          "metadata": {},
          "execution_count": 5
        }
      ]
    },
    {
      "cell_type": "markdown",
      "metadata": {
        "id": "zc4uLbA-kv3o"
      },
      "source": [
        "__a) [5 баллов]__ Рост в приложениях для знакомств не проверяют, поэтому можно поставить себе любой и никто не узнает. Посмотрим же, врут ли люди о своём росте.\n",
        "\n",
        "Проверьте две гипотезы: совпадает ли средний рост мужчин в приложении с их реальным средним ростом и совпадает ли средний рост женщин в приложении с их реальным средним ростом\n",
        "\n",
        "__P.S.__ Средний рост мы вам не дамим. Ищите сами и приложите ссылку на источник в решении."
      ]
    },
    {
      "cell_type": "markdown",
      "source": [
        "Average male heights in the US: ~69 inches (including African, Hispanic and Latino Americans) (source: https://en.wikipedia.org/wiki/Average_human_height_by_country?ysclid=mf4bxr44af887002288)\n",
        "\n",
        "Average female height in the US: ~ 63.5 inches (including African, Hispanic and Latino Americans) (source: https://en.wikipedia.org/wiki/Average_human_height_by_country?ysclid=mf4bxr44af887002288)"
      ],
      "metadata": {
        "id": "rRHsP2JS6Xfl"
      }
    },
    {
      "cell_type": "markdown",
      "source": [
        "H0: Average male (female) height among the US population is equal to the one listed on the dating app."
      ],
      "metadata": {
        "id": "r-DVMqPJ6uUV"
      }
    },
    {
      "cell_type": "markdown",
      "source": [
        "H1: Average male (female) height among the US population does NOT match the one listed on the dating app."
      ],
      "metadata": {
        "id": "eZ6LBsvB7QVT"
      }
    },
    {
      "cell_type": "markdown",
      "source": [
        "Checking normality of the distribution before using the T-test:"
      ],
      "metadata": {
        "id": "jNwtepGQ_bEL"
      }
    },
    {
      "cell_type": "code",
      "source": [
        "fig, axes = plt.subplots(1, 2, figsize=(12, 5), sharey=True)\n",
        "\n",
        "# females\n",
        "axes[0].hist(df.loc[df['sex'] == 'f', 'height'], bins=30, alpha=0.7, color='green', edgecolor='black')\n",
        "axes[0].set_title(\"Female Height Distribution\")\n",
        "axes[0].set_xlabel(\"Height\")\n",
        "axes[0].set_ylabel(\"Frequency\")\n",
        "\n",
        "# males\n",
        "axes[1].hist(df.loc[df['sex'] == 'm', 'height'], bins=30, alpha=0.7, color='lightblue', edgecolor='black')\n",
        "axes[1].set_title(\"Male Height Distribution\")\n",
        "axes[1].set_xlabel(\"Height\")\n",
        "\n",
        "plt.tight_layout()\n",
        "plt.show()"
      ],
      "metadata": {
        "colab": {
          "base_uri": "https://localhost:8080/",
          "height": 507
        },
        "id": "lEhB-09O-RM-",
        "outputId": "6ab80e90-779d-4d4c-b8bf-3097d1206ccb"
      },
      "execution_count": 7,
      "outputs": [
        {
          "output_type": "display_data",
          "data": {
            "text/plain": [
              "<Figure size 1200x500 with 2 Axes>"
            ],
            "image/png": "[encoded data removed]"
          },
          "metadata": {}
        }
      ]
    },
    {
      "cell_type": "markdown",
      "source": [
        "I'm going to be using the T-test. We have a relatively small sample size and sample data is distributed normally (https://www.linkedin.com/pulse/understanding-t-test-comprehensive-guide-data-dishant-salunke-dzfjf/)"
      ],
      "metadata": {
        "id": "jX1slwb073K0"
      }
    },
    {
      "cell_type": "code",
      "source": [
        "real_male_height = 69\n",
        "real_female_height = 63.5\n",
        "\n",
        "male_heights_app = df.loc[df['sex'] == 'm', 'height']\n",
        "female_heights_app = df.loc[df['sex'] == 'f', 'height']"
      ],
      "metadata": {
        "id": "uLagC-Eg7PfV"
      },
      "execution_count": 8,
      "outputs": []
    },
    {
      "cell_type": "code",
      "source": [
        "t_test_value_male, p_value_male = sts.ttest_1samp(male_heights_app, popmean=real_male_height)\n",
        "t_test_value_female, p_value_female = sts.ttest_1samp(female_heights_app, popmean=real_female_height)"
      ],
      "metadata": {
        "id": "xkPd2OyqArt8"
      },
      "execution_count": 9,
      "outputs": []
    },
    {
      "cell_type": "code",
      "source": [
        "t_test_value_male, p_value_male"
      ],
      "metadata": {
        "colab": {
          "base_uri": "https://localhost:8080/"
        },
        "id": "_1S8YXpHBIor",
        "outputId": "7bc791d7-d6d3-4d6a-ad00-f73edeacf0a4"
      },
      "execution_count": 10,
      "outputs": [
        {
          "output_type": "execute_result",
          "data": {
            "text/plain": [
              "(np.float64(11.089040037689081), np.float64(4.049306510002542e-26))"
            ]
          },
          "metadata": {},
          "execution_count": 10
        }
      ]
    },
    {
      "cell_type": "code",
      "source": [
        "t_test_value_female, p_value_female"
      ],
      "metadata": {
        "colab": {
          "base_uri": "https://localhost:8080/"
        },
        "id": "7bMQWbxgBVlm",
        "outputId": "daebbcdc-b395-4c1b-aa6f-d0b854ba8041"
      },
      "execution_count": 11,
      "outputs": [
        {
          "output_type": "execute_result",
          "data": {
            "text/plain": [
              "(np.float64(9.8482732730527), np.float64(1.2552189176957907e-20))"
            ]
          },
          "metadata": {},
          "execution_count": 11
        }
      ]
    },
    {
      "cell_type": "markdown",
      "metadata": {
        "id": "wZjGL0udkv3p"
      },
      "source": [
        "__Results:__ The dataset’s mean height differs significantly from the actual value for both males and females. In both cases, the p-value is extremely small, meaning that the probability of observing such a large difference if the null hypothesis were true is effectively zero. Therefore, we reject the null hypothesis. These results suggest that both males and females systematically misreport their height on the dating app."
      ]
    },
    {
      "cell_type": "markdown",
      "metadata": {
        "id": "bQ_77WnDkv3p"
      },
      "source": [
        "__б) [10 баллов]__ По моим наблюдениям (состоящим из одного человека) мужчин-алкоголиков гораздо больше женщин. В нашем датасете алкоголизмом мы будем считать параметр `is_heavy_drinker`\n",
        "\n",
        "Проверьте гипотезу: Действительно ли доля мужчин-алкоголиков выше доли женщин-алкоголиков?"
      ]
    },
    {
      "cell_type": "code",
      "execution_count": null,
      "metadata": {
        "id": "IIGLMhaQkv3q"
      },
      "outputs": [],
      "source": [
        "## your code here\n",
        "# (Д_Д)"
      ]
    },
    {
      "cell_type": "markdown",
      "metadata": {
        "id": "HL7MOuoQkv3q"
      },
      "source": [
        "__Вывод:__"
      ]
    },
    {
      "cell_type": "markdown",
      "metadata": {
        "id": "J7jvGNUTkv3q"
      },
      "source": [
        "__в) [10 баллов]__ Мой друг Володька решил бросить курить и теперь курит только когда пьёт. Это навело меня на мысль о том, что курение привлекает алкоголиков сильнее, чем обычных людей.\n",
        "\n",
        "Проверьте гипотезу: Действительно ли алкоголики больше склонны к курению, чем неалкоголики?"
      ]
    },
    {
      "cell_type": "code",
      "execution_count": null,
      "metadata": {
        "id": "JfTUVAiIkv3q"
      },
      "outputs": [],
      "source": [
        "## your code here\n",
        "# (渋谷事変)"
      ]
    },
    {
      "cell_type": "markdown",
      "metadata": {
        "id": "CUwLrFCfkv3r"
      },
      "source": [
        "**Вывод:**"
      ]
    },
    {
      "cell_type": "markdown",
      "metadata": {
        "id": "W0HijVzVkv3r"
      },
      "source": [
        "### Задача №2. Тестируем новый интерфейс страницы отеля  (25 баллов)"
      ]
    },
    {
      "cell_type": "markdown",
      "metadata": {
        "id": "icM3wATnkv3r"
      },
      "source": [
        "Все мы любим отдыхать! А злые корпорации любят наживаться на нашем желании отдыхать.\n",
        "\n",
        "Представим что вы работаете в одной из таких корпораций и занимаетесь аналитикой сайта для бронирования отелей. Процесс бронирования имеет привычную структуру:\n",
        "- вбиваете в поиск направленния и даты\n",
        "- получаете выдачу вариантов отелей\n",
        "- переходите на страницу отеля\n",
        "- нажимаете кнопку \"забронировать\"\n",
        "- попадаете на страницу оплаты\n",
        "- оплачиваете\n",
        "\n",
        "Очевидно, на всех этапах этой воронки вы можете потерять пользователя. Поисследовав поведение пользователей вы решили внести изменения на странице об отеле и хотите чтобы выросла конверсия в бронирования"
      ]
    },
    {
      "cell_type": "markdown",
      "metadata": {
        "id": "KwK54vOYkv3r"
      },
      "source": [
        "__а) [3 балла]__ Подумайте, какие изменения могли бы быть внесены?\n",
        "\n",
        "**Ваш ответ:**"
      ]
    },
    {
      "cell_type": "markdown",
      "metadata": {
        "id": "s2Cxa_Gekv3r"
      },
      "source": [
        "Перед вами датасет `ab_test.csv`, в нем содержатся данные о пользователях в период теста\n",
        "\n",
        "`user_id` - уникальный идентификатор пользователя \\\n",
        "`sex` - пол пользователя \\\n",
        "`datetime` - дата и время посещения сайта (начала сессии) \\\n",
        "`district` - регион расположения отеля \\\n",
        "`hotel_page` - был ли пользователь на странице отеля в сессии \\\n",
        "`payment_page` - был ли пользователь на странице оплаты в сессии \\\n",
        "`payment` - была ли произведена оплата в сессии \\\n",
        "`group` - группа в эксперименте\n",
        "\n",
        "Поскольку изменения вносились на странице отеля нас интересуют именно дошедшие до этой страницы пользователи. Поэтому колонка `hotel_page` принимает значение 1 всегда"
      ]
    },
    {
      "cell_type": "code",
      "execution_count": null,
      "metadata": {
        "id": "kdJPP932kv3s"
      },
      "outputs": [],
      "source": [
        "df = pd.read_csv(\"data/ab_simpson.csv\")\n",
        "df.head()"
      ]
    },
    {
      "cell_type": "markdown",
      "metadata": {
        "id": "Yya5udK6kv3s"
      },
      "source": [
        "__б) [3 балла]__ Сделайте небольшой eda, какие выводы вы можете сделать о данных? Корректно ли проводился аб тест? Найдите ошибки и объясните почему это некорректно."
      ]
    },
    {
      "cell_type": "code",
      "execution_count": null,
      "metadata": {
        "id": "EZ__pV3pkv3s"
      },
      "outputs": [],
      "source": [
        "# your code here\n",
        "# [✖‿✖]"
      ]
    },
    {
      "cell_type": "markdown",
      "metadata": {
        "id": "77K90N52kv3s"
      },
      "source": [
        "Раскроем правду. Изменение продукта касалось адаптации страницы отеля под его регион. Например, в южных регионах пользователям на странице отеля предлагались активности для пляжного отдыха, а в северном и центральном регионе сразу подбирались ближайшие экскурсии и так далее.\n",
        "\n",
        "__в) [5 баллов]__ Проанализируйте, как ведут себя конверсии в страницу оплаты и в оплату в разных регионах? Опишите выводы."
      ]
    },
    {
      "cell_type": "code",
      "execution_count": null,
      "metadata": {
        "id": "WTYYwA9lkv3s"
      },
      "outputs": [],
      "source": [
        "# your code here\n",
        "# ┌(ಠ_ಠ)┘"
      ]
    },
    {
      "cell_type": "markdown",
      "metadata": {
        "id": "EfDkJrqakv3t"
      },
      "source": [
        "__г) [5 баллов]__ Проанализируйте, улучшилась ли воронка для пользователей в тестовой группе по сравнению с контрольной вне зависимости от региона? Опишите выводы."
      ]
    },
    {
      "cell_type": "code",
      "execution_count": null,
      "metadata": {
        "id": "w3AoD3gRkv3t"
      },
      "outputs": [],
      "source": [
        "# your code here\n",
        "# =^･ｪ･^="
      ]
    },
    {
      "cell_type": "markdown",
      "metadata": {
        "id": "yDxSTEU8kv3t"
      },
      "source": [
        "__д) [5 баллов]__ Проанализируйте распределение интересов пользователей в тестовой и контрольной группе. Какими регионами они интересовались? Изменились ли их предпочтения?"
      ]
    },
    {
      "cell_type": "code",
      "execution_count": null,
      "metadata": {
        "id": "wWvidcQKkv3t"
      },
      "outputs": [],
      "source": [
        "# your code here\n",
        "# (⊙_⊙)"
      ]
    },
    {
      "cell_type": "markdown",
      "metadata": {
        "id": "4KFYuBZTkv3u"
      },
      "source": [
        "Если вы все сделали правильно, то у вас получился противоречивые ответы в пунктах 3 и 4. Вы попали в ловушку Парадокса Симпсона. Подробнее о нем можно почитать [здесь](https://ru.wikipedia.org/wiki/Парадокс_Симпсона)\n",
        "\n",
        "<img src=\"https://github.com/hse-econ-data-science/andan_2023/blob/main/hw/hw04/images/simpson.jpg?raw=true\" width=\"350\" align='center'>"
      ]
    },
    {
      "cell_type": "markdown",
      "metadata": {
        "id": "QHWNp__Hkv3u"
      },
      "source": [
        "__е) [4 балла]__ Теперь, когда вы все узнали, опишите кратко почему вы получили противоречивый результат в пунктах 3 и 4 (1 балл)"
      ]
    },
    {
      "cell_type": "markdown",
      "metadata": {
        "id": "Nym8r25lkv3u"
      },
      "source": [
        "**Ваш ответ:**"
      ]
    },
    {
      "cell_type": "markdown",
      "metadata": {
        "id": "TKLPe_hdkv3u"
      },
      "source": [
        "## Задача №3: Не подглядывать! (50 баллов)\n"
      ]
    },
    {
      "cell_type": "markdown",
      "metadata": {
        "id": "lZGdB88ekv3u"
      },
      "source": [
        "На американских выборах 2020 года в некоторых штатах проходила очень конкурентная борьба между кандидатами. По мере подсчета голосов перевес в голосах склонялся то в пользу демократов, то в пользу республиканцев. И вот, в один из таких моментов, когда чаша весов склонилась в пользу республиканцев, Д. Трамп написал в твиттер \"stop the count!\", что означало призыв к остановке подсчета голосов.\n",
        "\n",
        "_Здесь у вас мог возникнуть вопрос, и зачем нам это?_\n",
        "\n",
        "Ответ очень прост. В этой ситуации всем очевидно, что призыв Трампа не мог быть осуществлен, то есть прерывать подсчет голосов раньше времени кажется довольно глупым способом выявления победителя. И вот абсолютно такой же способ принятия решения есть и в А/Б-тестах, только теперь многим аналитикам он уже кажется не столь очевидным, что приводит к существенным ошибкам в заключении выводов.\n",
        "\n",
        "_Решив эту задачу, мы познакомимся с такой проблемой подробнее и поймем, как не стоит делать, когда вы запускаете А/Б-тест._"
      ]
    },
    {
      "cell_type": "markdown",
      "metadata": {
        "id": "NoDb_Kmykv3u"
      },
      "source": [
        "Чтобы понять, в чем же именно заключается проблема, мы с вами будем проводить симуляции А/Б-тестов. Это когда мы генерируем данные уже со знаниями, как эти данные устроены. А затем, запуская процедуру проверки гипотез над такими симулированными данными, мы будем оценивать, что происходит на практике (при запуске А/Б-теста).\n",
        "\n",
        "На практике же всегда неизвестно, как устроены данные, и проводя А/Б-тест мы пытаемся зафиксировать различия. Еще раз, здесь же мы будем знать об устройстве данных, а затем будем смотреть на поведение А/Б-теста, то есть как будто бы смотреть на тест с обратной стороны.\n",
        "\n",
        "_Перед тем как идти дальше, остановитесь здесь и еще раз зафиксируйте это!_"
      ]
    },
    {
      "cell_type": "markdown",
      "metadata": {
        "id": "H0Z2EaFOkv3v"
      },
      "source": [
        "__а) [10 баллов]  Подсчет размера выборки для А/Б-теста__\n",
        "\n",
        "Предположим, что вы хотите провести А/Б-тест внутри вашего приложения. Вы выбрали некоторую метрику $X$ – случайную величину из нормального распределения с мат. ожиданием $100$ у.е. и стандартным отклонением $40$ у.е – это ваш бейзлайн (группа А). Рассчитайте, сколько дней вам нужно крутить такой А/Б-тест, если:\n",
        "\n",
        "1. Вы ожидаете получить минимальный размер эффекта в $5$ у.е.;\n",
        "2. Вы хотите зафиксировать ошибку первого рода на уровне $\\alpha=5\\%$, а ошибку второго рода на уровне $\\beta=20\\%$;\n",
        "3. Вы точно знаете, что в группе Б стандартное отклонение метрики составляет также $20$ у.е.\n",
        "4. Посещаемость вашего приложения ежедневно составляет $200$ пользователей, и вы готовы раскатить тест на $100\\%$ трафика.\n",
        "\n",
        "Формула для расчета числа наблюдений _для одной группы_:\n",
        "\n",
        "$$\n",
        "n_{\\text{one group}} = \\frac{(\\sigma_A^2 + \\sigma_B^2) \\cdot (z_{1-\\frac{\\alpha}{2}} + z_{1-\\beta})^2}{MDE^2},\n",
        "$$\n",
        "\n",
        "__Подсказка:__ Помните, что после получения общего числа наблюдений вам нужно выразить это в дни! Вы должны получить целое число. Также будьте аккуратны с подсчетом трафика и кол-ва наблюдений – обратите внимание, со скольким числом групп вы работаете!"
      ]
    },
    {
      "cell_type": "code",
      "execution_count": null,
      "metadata": {
        "id": "yJcfGpq3kv3v"
      },
      "outputs": [],
      "source": [
        "# your code here\n",
        "# (♡-_-♡)"
      ]
    },
    {
      "cell_type": "markdown",
      "metadata": {
        "id": "NImxN3pAkv3v"
      },
      "source": [
        "__б) [20 баллов] Симуляция А/Б-теста__\n",
        "\n",
        "Теперь нам нужно запустить А/Б-тест. Для этого:"
      ]
    },
    {
      "cell_type": "markdown",
      "metadata": {
        "id": "b9BHd5pEkv3v"
      },
      "source": [
        "1. Сгенерируйте выборку данных из нормального распределения для группы А и Б в конкретный один день. Считайте, что в группе Б математическое ожидание составляет $105$ у.е., то есть с учетом размера вашего минимального ожидаемого эффекта из предыдущего пункта."
      ]
    },
    {
      "cell_type": "code",
      "execution_count": null,
      "metadata": {
        "id": "rMt-8uy9kv30"
      },
      "outputs": [],
      "source": [
        "# your code here\n",
        "# ヽ(♡‿♡)ノ"
      ]
    },
    {
      "cell_type": "markdown",
      "metadata": {
        "id": "tBuTwhsWkv31"
      },
      "source": [
        "2. Теперь представим, что наш тест был запущен $X$ дней. Напишите функцию, которая за этот период теста собирает в `DataFrame` следующие данные на каждый день теста:\n",
        "    1. среднее метрики в группе А\n",
        "    2. среднее метрики в группе Б\n",
        "    3. p-value, посчитанное с помощью t-test – можно воспользоваться встроенной функцией `scipy.stats.ttest_ind`\n",
        "    \n",
        "    Соберите `DataFrame` для $X=50$.\n",
        "    \n",
        "__Подсказка:__ Среднее для 1-го дня должно считаться по пользователям, пришедших в первый день, для второго дня – по пользователям, пришедшим в первый и второй день и т.д. То есть накопленным итогом за каждый день теста."
      ]
    },
    {
      "cell_type": "code",
      "execution_count": null,
      "metadata": {
        "id": "OMgcCWQJkv31"
      },
      "outputs": [],
      "source": [
        "# your code here\n",
        "# (´｡• ᵕ •｡`)"
      ]
    },
    {
      "cell_type": "markdown",
      "metadata": {
        "id": "kqK8zZsZkv31"
      },
      "source": [
        "3. На основе `DataFrame` из предыдущего пункта постройте график динамики среднего в группе А и в группе Б по дням теста. Отложите вертикальную линию на этом же графике, показывающую кол-во дней, посчитанных в пункте 1. Сделайте эту линию пунктирной и измените цвет, который вам больше нравится."
      ]
    },
    {
      "cell_type": "code",
      "execution_count": null,
      "metadata": {
        "id": "w8BXaVEskv32"
      },
      "outputs": [],
      "source": [
        "# your code here\n",
        "# (´｡• ᵕ •｡`)"
      ]
    },
    {
      "cell_type": "markdown",
      "metadata": {
        "id": "gsKnsVm-kv32"
      },
      "source": [
        "4. На основе `DataFrame` из предыдущего пункта постройте график динамики p-value по дням теста. Отложите вертикальную линию на этом же графике, показывающую кол-во дней, посчитанных в пункте 1. Сделайте эту линию пунктирной и измените цвет, который вам больше нравится. Также отложите горизонтальную линию – ваш уровень значимости $\\alpha$."
      ]
    },
    {
      "cell_type": "code",
      "execution_count": null,
      "metadata": {
        "id": "BNjk2QBJkv32"
      },
      "outputs": [],
      "source": [
        "# your code here\n",
        "# (´｡• ᵕ •｡`)"
      ]
    },
    {
      "cell_type": "markdown",
      "metadata": {
        "id": "gFhoXYkRkv32"
      },
      "source": [
        "5. Перегенируруйте шаги 2-4 несколько раз, посмотрев на графики. Что вы видите? Что происходит с p-value в периодах:\n",
        "    1. до кол-ва дней, посчитанных по формуле из п.1\n",
        "    2. в точке кол-ва дней, посчитанных по формуле из п.1\n",
        "    3. после кол-ва дней, посчитанных по формуле из п.1\n",
        "    \n",
        "    Опишите выводы максимально подробно."
      ]
    },
    {
      "cell_type": "code",
      "execution_count": null,
      "metadata": {
        "id": "v3cdQ_dCkv33"
      },
      "outputs": [],
      "source": [
        "# your thoughts here\n",
        "# (◕‿◕)♡"
      ]
    },
    {
      "cell_type": "markdown",
      "metadata": {
        "id": "bejloL3Wkv33"
      },
      "source": [
        "6. Теперь предположим, что мы поменяли наш $MDE$ до $1$ у.е. То есть мат. ожидание в группе А осталось по-прежнему $100$, а вот в группе Б теперь $101$. Перегенерируйте пункты 2-4 для измененного $MDE$, при этом кол-во дней в п.1 не пересчитывайте. Что происходит с p-value? Сделайте выводы."
      ]
    },
    {
      "cell_type": "code",
      "execution_count": null,
      "metadata": {
        "id": "3O35vItgkv33"
      },
      "outputs": [],
      "source": [
        "# your code and thoughts here\n",
        "# ♡ (´｡• ω •｡`) ♡"
      ]
    },
    {
      "cell_type": "markdown",
      "metadata": {
        "id": "ECq0zDf9kv33"
      },
      "source": [
        "__в) [20 баллов] Симуляция А/А-теста__\n",
        "\n",
        "Теперь представим, что изменений на самом деле никаких нету, то есть мат. ожидание в обоих группах $100$, а $MDE = 0$"
      ]
    },
    {
      "cell_type": "markdown",
      "metadata": {
        "id": "XbARmyc1kv33"
      },
      "source": [
        "1. И снова перегенерируйте вышесделанные пункты 2-4. Что происходит с p-value? Может ли оно оказаться ниже уровня значимости?"
      ]
    },
    {
      "cell_type": "code",
      "execution_count": null,
      "metadata": {
        "id": "gLPg59DYkv34"
      },
      "outputs": [],
      "source": [
        "# your code and thoughts here\n",
        "# =^･ｪ･^="
      ]
    },
    {
      "cell_type": "markdown",
      "metadata": {
        "id": "rpzj3XYHkv34"
      },
      "source": [
        "2. Ну и напоследок, напишите функцию, которая генерирует p-value на последний день A/A теста. А затем запустите эту функцию $1000$ раз, собрав $1000$ значений p-value. Постройте гистограмму их распределения. Что вы видите?\n",
        "\n",
        "__Подсказка:__ Для такой функции достаточно создать выборку один раз, изменив ее размер."
      ]
    },
    {
      "cell_type": "code",
      "execution_count": null,
      "metadata": {
        "id": "RpomXnWrkv34"
      },
      "outputs": [],
      "source": [
        "# your code and thoughts here\n",
        "# C (・_・)ノ"
      ]
    }
  ],
  "metadata": {
    "kernelspec": {
      "display_name": "Python 3",
      "language": "python",
      "name": "python3"
    },
    "language_info": {
      "codemirror_mode": {
        "name": "ipython",
        "version": 3
      },
      "file_extension": ".py",
      "mimetype": "text/x-python",
      "name": "python",
      "nbconvert_exporter": "python",
      "pygments_lexer": "ipython3",
      "version": "3.11.6"
    },
    "colab": {
      "provenance": [],
      "include_colab_link": true
    }
  },
  "nbformat": 4,
  "nbformat_minor": 0
}