{
  "cells": [
    {
      "cell_type": "markdown",
      "metadata": {
        "id": "view-in-github",
        "colab_type": "text"
      },
      "source": [
        "<a href=\"https://colab.research.google.com/github/lapshinaaa/applied-statistics-tasks/blob/main/AS4_Nonparametric.ipynb\" target=\"_parent\"><img src=\"https://colab.research.google.com/assets/colab-badge.svg\" alt=\"Open In Colab\"/></a>"
      ]
    },
    {
      "cell_type": "markdown",
      "id": "9074d943",
      "metadata": {
        "id": "9074d943"
      },
      "source": [
        "<center>\n",
        "<img src=\"https://raw.githubusercontent.com/FUlyankin/r_probability/master/end_seminars_2020/sem08/real_expect.png\" width=\"500\">\n",
        "\n",
        "# Nonparametric Statistics\n",
        "</center>"
      ]
    },
    {
      "cell_type": "markdown",
      "id": "3967d789",
      "metadata": {
        "id": "3967d789"
      },
      "source": [
        "## Task 1 (Crashing Mann–Whitney U test)\n",
        "\n",
        "Тест Манна-Уитни [довольно легко сломать.](https://habr.com/ru/companies/avito/articles/709596/)\n",
        "\n",
        "Главная предпосылка теста заключается в том, что распределение не меняется, но у него происходит сдвиг.\n",
        "\n",
        "\\begin{equation*}\n",
        "    \\begin{aligned}\n",
        "    & H_0: F_X(x) = F_Y(y) \\\\\n",
        "    & H_A: F_X(x) = F_Y(y + m), m \\ne 0\n",
        "    \\end{aligned}\n",
        "\\end{equation*}\n",
        "\n",
        "\n",
        "<center>\n",
        "<img src='https://raw.githubusercontent.com/hse-econ-data-science/andan_2023/main/sem12_more_ab/mw.png' align='center' width=\"300x\">\n",
        "</center>\n",
        "\n",
        "Воспользуемся этим."
      ]
    },
    {
      "cell_type": "code",
      "execution_count": 1,
      "id": "3a3e215c",
      "metadata": {
        "colab": {
          "base_uri": "https://localhost:8080/",
          "height": 430
        },
        "id": "3a3e215c",
        "outputId": "2a590a6d-371e-48c5-a4d9-4a0e04182a64"
      },
      "outputs": [
        {
          "output_type": "display_data",
          "data": {
            "text/plain": [
              "<Figure size 640x480 with 1 Axes>"
            ],
            "image/png": "[encoded data removed]"
          },
          "metadata": {}
        }
      ],
      "source": [
        "import matplotlib.pyplot as plt\n",
        "import scipy.stats as sts\n",
        "\n",
        "n_obs = 10**6\n",
        "x = sts.norm(0.5, 0.25).rvs(n_obs)\n",
        "y = 3*sts.bernoulli(0.5).rvs(n_obs) - 1\n",
        "\n",
        "# polarized opinions as a result of AB test\n",
        "\n",
        "plt.hist(x, bins=100, density=True, label='N(0.5,1)');\n",
        "plt.hist(y, density=True, label='Bern(0.5)', log=True);\n",
        "plt.legend();"
      ]
    },
    {
      "cell_type": "code",
      "execution_count": 2,
      "id": "1057b4e6",
      "metadata": {
        "colab": {
          "base_uri": "https://localhost:8080/"
        },
        "id": "1057b4e6",
        "outputId": "75fdbe1d-4b0e-4b4c-d397-47613a0473c2"
      },
      "outputs": [
        {
          "output_type": "execute_result",
          "data": {
            "text/plain": [
              "np.float64(0.8015380886349799)"
            ]
          },
          "metadata": {},
          "execution_count": 2
        }
      ],
      "source": [
        "# Mann-Whitney says there's no change where there obviously is\n",
        "_, pval = sts.mannwhitneyu(x, y, alternative='two-sided')\n",
        "pval"
      ]
    },
    {
      "cell_type": "code",
      "execution_count": 4,
      "id": "abb42670",
      "metadata": {
        "colab": {
          "base_uri": "https://localhost:8080/"
        },
        "id": "abb42670",
        "outputId": "8206b15e-c6c9-4375-c619-4abd597b7630"
      },
      "outputs": [
        {
          "output_type": "execute_result",
          "data": {
            "text/plain": [
              "KstestResult(statistic=np.float64(0.500101), pvalue=np.float64(0.0), statistic_location=np.float64(-1.0), statistic_sign=np.int8(-1))"
            ]
          },
          "metadata": {},
          "execution_count": 4
        }
      ],
      "source": [
        "# Kolmogorod-Smirnov test is noticing the shift\n",
        "sts.ks_2samp(x, y)"
      ]
    },
    {
      "cell_type": "markdown",
      "id": "77248b58",
      "metadata": {
        "id": "77248b58"
      },
      "source": [
        "__а) [5 баллов]__ Проведите для подобной ситуации с поляризацией больше испытаний. Постройте для теста Манна-Уитни и для KS-теста ROC-кривые."
      ]
    },
    {
      "cell_type": "code",
      "execution_count": null,
      "id": "2972ae8f",
      "metadata": {
        "id": "2972ae8f"
      },
      "outputs": [],
      "source": [
        "### ╰( ͡° ͜ʖ ͡° )つ▬▬ι═══════  bzzzzzzzzzz\n",
        "# will the code be with you"
      ]
    },
    {
      "cell_type": "markdown",
      "id": "1b920c71",
      "metadata": {
        "id": "1b920c71"
      },
      "source": [
        "__б) [5 баллов]__ Придумайте ещё какой-нибудь пример, где тест Манна-Уитни сломается, а KS-тест нет. Нарисуйте для него ROC-кривые."
      ]
    },
    {
      "cell_type": "code",
      "execution_count": null,
      "id": "44df84b8",
      "metadata": {
        "id": "44df84b8"
      },
      "outputs": [],
      "source": [
        "### ╰( ͡° ͜ʖ ͡° )つ▬▬ι═══════  bzzzzzzzzzz\n",
        "# will the code be with you"
      ]
    },
    {
      "cell_type": "markdown",
      "id": "618be2ee",
      "metadata": {
        "id": "618be2ee"
      },
      "source": [
        "__в) [бонусные 5 баллов]__ Реализуйте [перестановочный тест](https://youtu.be/uKqsqAJtdzI) и с помощью симуляций продемонстрируйте, чето он обладает ровно такими же проблемами, как и тест Манна-Уитни."
      ]
    },
    {
      "cell_type": "code",
      "execution_count": null,
      "id": "b03ce774",
      "metadata": {
        "id": "b03ce774"
      },
      "outputs": [],
      "source": [
        "### ╰( ͡° ͜ʖ ͡° )つ▬▬ι═══════  bzzzzzzzzzz\n",
        "# will the code be with you"
      ]
    }
  ],
  "metadata": {
    "kernelspec": {
      "display_name": "Python 3 (ipykernel)",
      "language": "python",
      "name": "python3"
    },
    "language_info": {
      "codemirror_mode": {
        "name": "ipython",
        "version": 3
      },
      "file_extension": ".py",
      "mimetype": "text/x-python",
      "name": "python",
      "nbconvert_exporter": "python",
      "pygments_lexer": "ipython3",
      "version": "3.10.9"
    },
    "colab": {
      "provenance": [],
      "include_colab_link": true
    }
  },
  "nbformat": 4,
  "nbformat_minor": 5
}