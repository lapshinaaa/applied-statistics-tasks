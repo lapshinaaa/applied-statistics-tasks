{
  "cells": [
    {
      "cell_type": "markdown",
      "metadata": {
        "id": "view-in-github",
        "colab_type": "text"
      },
      "source": [
        "<a href=\"https://colab.research.google.com/github/lapshinaaa/applied-statistics-tasks/blob/main/AS5_KS_chi.ipynb\" target=\"_parent\"><img src=\"https://colab.research.google.com/assets/colab-badge.svg\" alt=\"Open In Colab\"/></a>"
      ]
    },
    {
      "cell_type": "markdown",
      "id": "9074d943",
      "metadata": {
        "id": "9074d943"
      },
      "source": [
        "<center>\n",
        "<img src=\"https://raw.githubusercontent.com/FUlyankin/r_probability/master/end_seminars_2020/sem08/real_expect.png\" width=\"500\">\n",
        "\n",
        "# Kolmogorov-Smirnov and Chi-squared tests\n",
        "</center>"
      ]
    },
    {
      "cell_type": "code",
      "execution_count": 1,
      "id": "66d6e013",
      "metadata": {
        "id": "66d6e013"
      },
      "outputs": [],
      "source": [
        "import numpy as np\n",
        "import pandas as pd\n",
        "\n",
        "from scipy import stats as sts\n",
        "\n",
        "import seaborn as sns\n",
        "import matplotlib.pyplot as plt\n",
        "\n",
        "plt.style.use('ggplot')\n",
        "%matplotlib inline"
      ]
    },
    {
      "cell_type": "markdown",
      "id": "3e41975e",
      "metadata": {
        "id": "3e41975e"
      },
      "source": [
        "## Task 1 (Homogeneous Game)\n",
        "\n",
        "Киллер - это весёлая лагерная игра. Краткие правила игры:\n",
        "\n",
        "- Игроки пишут свои имена на карточках и кладут их в шляпу\n",
        "- Игроки рандомно вытаскивают карточки из шляпы\n",
        "- Полученное имя - имя жертвы\n",
        "- Каждый игрок одновременно и убийца и жертва\n",
        "- Чтобы убить другого игрока, надо оказаться с ним наедине и застрелить из пальца\n",
        "- Жертва убитого становится новой жертвой игрока\n",
        "- Побеждает тот, кто совершит наибольшее число убийств\n",
        "\n",
        "На экономическом факультете было два раунда игры в киллера. Все убийства регистрировались в гугл-форме. В табличках `killer_time1.csv` и `killer_time2.csv` лежит время в часах, которое проходило между убийствами."
      ]
    },
    {
      "cell_type": "code",
      "execution_count": 2,
      "id": "a7a1a4ca",
      "metadata": {
        "id": "a7a1a4ca"
      },
      "outputs": [],
      "source": [
        "killer1 = pd.read_csv(\"killer_time1.csv\").hours_between_kill.values\n",
        "killer2 = pd.read_csv(\"killer_time2.csv\").hours_between_kill.values"
      ]
    },
    {
      "cell_type": "code",
      "execution_count": 3,
      "id": "057cba48",
      "metadata": {
        "colab": {
          "base_uri": "https://localhost:8080/",
          "height": 430
        },
        "id": "057cba48",
        "outputId": "0db555be-290f-408d-93f4-8c40cde7e2d0"
      },
      "outputs": [
        {
          "output_type": "display_data",
          "data": {
            "text/plain": [
              "<Figure size 640x480 with 1 Axes>"
            ],
            "image/png": "[encoded data removed]"
          },
          "metadata": {}
        }
      ],
      "source": [
        "plt.hist(killer1, bins=20);"
      ]
    },
    {
      "cell_type": "code",
      "execution_count": 4,
      "id": "64985567",
      "metadata": {
        "colab": {
          "base_uri": "https://localhost:8080/",
          "height": 430
        },
        "id": "64985567",
        "outputId": "0e81e599-a3b7-4765-cacc-80ffadedd9fa"
      },
      "outputs": [
        {
          "output_type": "display_data",
          "data": {
            "text/plain": [
              "<Figure size 640x480 with 1 Axes>"
            ],
            "image/png": "[encoded data removed]"
          },
          "metadata": {}
        }
      ],
      "source": [
        "plt.hist(killer2, bins=20);"
      ]
    },
    {
      "cell_type": "markdown",
      "id": "c81a4650",
      "metadata": {
        "id": "c81a4650"
      },
      "source": [
        "Мы хотим проверить гипотезу о том, что игры с точки зрения времени между убийствами прошли одинаково. Люди одинаково сильно были вовлечены в оба раунда игры и не потеряли энтузиазм.\n",
        "\n",
        "__а) [1 балл]__ Проверьте гипотезу об однородности выборок с помощью [теста Манна-Уитни.](https://docs.scipy.org/doc/scipy/reference/generated/scipy.stats.mannwhitneyu.html)"
      ]
    },
    {
      "cell_type": "markdown",
      "source": [
        "**Hypotheses**\n",
        "\n",
        "$$\n",
        "H_0: F_{\\text{round 1}} = F_{\\text{round 2}}\n",
        "$$\n",
        "\n",
        "$$\n",
        "H_1: F_{\\text{round 1}} \\ne F_{\\text{round 2}}\n",
        "$$\n"
      ],
      "metadata": {
        "id": "yow3pRqR7yHP"
      },
      "id": "yow3pRqR7yHP"
    },
    {
      "cell_type": "markdown",
      "source": [
        "So I'm going to treat killer1 as control and killer2 as treatment."
      ],
      "metadata": {
        "id": "yMdk5MgG8SMU"
      },
      "id": "yMdk5MgG8SMU"
    },
    {
      "cell_type": "code",
      "execution_count": 3,
      "id": "360e2b56",
      "metadata": {
        "colab": {
          "base_uri": "https://localhost:8080/"
        },
        "id": "360e2b56",
        "outputId": "3237385b-1439-4d5f-9c5d-ca535a98ffc7"
      },
      "outputs": [
        {
          "output_type": "stream",
          "name": "stdout",
          "text": [
            "Mann–Whitney U statistic = 269.0000, p-value = 0.4867\n"
          ]
        }
      ],
      "source": [
        "u_stat, p_value = sts.mannwhitneyu(killer1, killer2, alternative='two-sided')\n",
        "\n",
        "print(f\"Mann–Whitney U statistic = {u_stat:.4f}, p-value = {p_value:.4f}\")"
      ]
    },
    {
      "cell_type": "markdown",
      "source": [
        "p-value is much greater than 0.05 -> There’s no significant difference in the distribution of time between kills.\n",
        "→ Players behaved similarly; enthusiasm was stable."
      ],
      "metadata": {
        "id": "LmeD2x_r8mXZ"
      },
      "id": "LmeD2x_r8mXZ"
    },
    {
      "cell_type": "markdown",
      "id": "34e7e969",
      "metadata": {
        "id": "34e7e969"
      },
      "source": [
        "__б) [1 балл]__ Распределение выглядит, как экспоненциальное. Более того, по гистограммам возникает ощущение, что это одинаковое распределение. С помощью теста Колмогорова-Смирнова проверьте гипотезу о том, что обе выборки пришли из одного и того же распределения."
      ]
    },
    {
      "cell_type": "code",
      "execution_count": 4,
      "id": "947b5446",
      "metadata": {
        "colab": {
          "base_uri": "https://localhost:8080/"
        },
        "id": "947b5446",
        "outputId": "e519bf16-649c-4996-eea0-b426ac5bd13f"
      },
      "outputs": [
        {
          "output_type": "stream",
          "name": "stdout",
          "text": [
            "Kolmogorov-Smirnov statistic = 0.2190, p-value = 0.5453\n"
          ]
        }
      ],
      "source": [
        "ks_stat, p_val = sts.ks_2samp(killer1, killer2)\n",
        "\n",
        "print(f\"Kolmogorov-Smirnov statistic = {ks_stat:.4f}, p-value = {p_val:.4f}\")"
      ]
    },
    {
      "cell_type": "markdown",
      "source": [
        "p-value is much greater than 0.05 -> There’s no significant difference in the distribution of time between kills. → Players behaved similarly; enthusiasm was stable."
      ],
      "metadata": {
        "id": "sNEBuWuRCJeL"
      },
      "id": "sNEBuWuRCJeL"
    },
    {
      "cell_type": "markdown",
      "id": "0138398b",
      "metadata": {
        "id": "0138398b"
      },
      "source": [
        "__в) [3 балла]__ Ответьте на вопросы:\n",
        "\n",
        "- Какая гипотеза проверяется в тесте Манна-Уитни? Подходит ли этот тест для данной задачи?\n",
        "\n",
        "__Ответ:__\n",
        "\n",
        "- Какая гипотеза проверятеся в KS-тесте?\n",
        "\n",
        "__Ответ:__\n",
        "\n",
        "- Какой тест вы бы вырали для решения задачи?\n",
        "\n",
        "__Ответ:__"
      ]
    },
    {
      "cell_type": "markdown",
      "id": "31a25db0",
      "metadata": {
        "id": "31a25db0"
      },
      "source": [
        "## Задание 2 (парадокс Симпсона)\n",
        "\n",
        "Помимо решения задач и применения различных функций из библиотек необходимо очень аккуратно работать с данным и понимать, какие действия корректны, а какие нет. Перед вами результаты медицинских исследований:\n",
        "\n",
        "- из $1650$ мужчин, принимавших лекарство, выздоровели $770$,\n",
        "- из $223$ мужчин, не принимавших лекарство, выздоровели $88$,\n",
        "- из $245$ женщин, принимавших лекарство, выздоровели $165$,\n",
        "- из $750$ женщин, не принимавших лекарство женщин, выздоровели $440$.\n",
        "\n",
        "Необходимо найти ответы на следующие вопросы:\n",
        "\n",
        "1. Влияет ли лекарство на мужчин?\n",
        "2. Влияет ли лекарство на женщин?\n",
        "3. Влияет ли лекарство на людей обоих полов в целом?\n",
        "\n",
        "Будем считать, что исследование проводилось методом двойного слепого тестирования. Врач не знал, даёт ли он пациенту плацебо или лекарство, пациент не знал, пьёт ли он плацебо или лекарство."
      ]
    },
    {
      "cell_type": "markdown",
      "id": "9f822e34",
      "metadata": {
        "id": "9f822e34"
      },
      "source": [
        "Запишем данные в табличку. Пусть $A$ — принимавшие лекарство, $\\overline{A}$ — не принимавшие лекарство, $B$ — выздоровевшие, $\\overline{B}$ — не выздоровевшие."
      ]
    },
    {
      "cell_type": "markdown",
      "id": "54568c47",
      "metadata": {
        "id": "54568c47"
      },
      "source": [
        "<!--<img width=\"60%\" src=\"pics/pic2.png\">-->\n",
        "<table>\n",
        "<tr><td>\n",
        "    \n",
        "|Мужчины| $B$ |  $\\overline{B}$|\n",
        "|--|--|--|\n",
        "|$A$| 770 | 880 |\n",
        "|$\\overline{A}$| 88 | 135 |\n",
        "\n",
        "</td><td>\n",
        "    \n",
        "|Женщины| $B$ |  $\\overline{B}$|\n",
        "|--|--|--|\n",
        "|$A$| 165 | 80 |\n",
        "|$\\overline{A}$| 440 | 310 |\n",
        "\n",
        "</td><td>\n",
        "\n",
        "|Вместе| $B$ |  $\\overline{B}$|\n",
        "|--|--|--|\n",
        "|$A$| 935 | 960 |\n",
        "|$\\overline{A}$| 528 | 445 |\n",
        "\n",
        "</td></tr> </table>"
      ]
    },
    {
      "cell_type": "markdown",
      "id": "28bc8bf8",
      "metadata": {
        "id": "28bc8bf8"
      },
      "source": [
        "Для решения задачи воспользуйтесь критерием хи-квадрат Пирсона.\n",
        "\n",
        "Тест поможет нам понять, есть ли у лекарства какой-то эффект. Применить тест в python помогает функция `chi2_contingency` из пакета `scipy.stats`. Используйте её с параметром `correction=False`."
      ]
    },
    {
      "cell_type": "markdown",
      "id": "83f7b932",
      "metadata": {
        "id": "83f7b932"
      },
      "source": [
        "__а) [1 балл]__  Давайте попробуем найти ответ на вопрос, есть ли эффект от лекарства для мужчин?  Давайте предварительно посчитаем долю выздровевших мужчин, которые принимали лекарство и долю выздровевших мужчин, которые не принимали лекартсво. Сравните эти доли."
      ]
    },
    {
      "cell_type": "code",
      "execution_count": null,
      "id": "a03bdfbf",
      "metadata": {
        "id": "a03bdfbf"
      },
      "outputs": [],
      "source": [
        "# your thoughts here\n",
        "# (◕‿◕)♡"
      ]
    },
    {
      "cell_type": "markdown",
      "id": "b0a84f83",
      "metadata": {
        "id": "b0a84f83"
      },
      "source": [
        "Создадим матрицу размера $2 \\times 2.$ Внесём в неё частоты, полученные для мужчин."
      ]
    },
    {
      "cell_type": "code",
      "execution_count": null,
      "id": "bc3a3369",
      "metadata": {
        "id": "bc3a3369"
      },
      "outputs": [],
      "source": [
        "men = np.array([[770,880],[88,135]])"
      ]
    },
    {
      "cell_type": "markdown",
      "id": "59c1fe0a",
      "metadata": {
        "id": "59c1fe0a"
      },
      "source": [
        "Примените тест с параметром `correction=False` и сделайте выводы на уровне значимости $5\\%.$"
      ]
    },
    {
      "cell_type": "code",
      "execution_count": null,
      "id": "6fbcf327",
      "metadata": {
        "id": "6fbcf327"
      },
      "outputs": [],
      "source": [
        "# your code here\n",
        "# (￢_￢)"
      ]
    },
    {
      "cell_type": "markdown",
      "id": "ed1a41e3",
      "metadata": {
        "id": "ed1a41e3"
      },
      "source": [
        "__б) [1 балл]__ Сделайте всё то же самое, но руками, без помощи библиотеки.\n",
        "\n",
        "Для того, чтобы расчитать тестовую стаститику хи-квадрат, нам необходимо найти матрицу ожидаемых частот, такую же, которая у нас получилась в предыдущем пункте в output-е функции `chi2_contingency`.\n",
        "\n",
        "Используя матрицу из предыдущего пункта, посчитайте общее количество испытуемых мужчин."
      ]
    },
    {
      "cell_type": "code",
      "execution_count": null,
      "id": "b6948bed",
      "metadata": {
        "id": "b6948bed"
      },
      "outputs": [],
      "source": [
        "# your code here\n",
        "# (￢_￢)"
      ]
    },
    {
      "cell_type": "markdown",
      "id": "040d4633",
      "metadata": {
        "id": "040d4633"
      },
      "source": [
        "Посчитайте отдельно количество испытуемых мужчин, которые принимали лекарство, и которые не принимали его $(n1, n2)$"
      ]
    },
    {
      "cell_type": "code",
      "execution_count": null,
      "id": "9eba5f47",
      "metadata": {
        "id": "9eba5f47"
      },
      "outputs": [],
      "source": [
        "# your code here\n",
        "# (￢_￢)"
      ]
    },
    {
      "cell_type": "markdown",
      "id": "f0b4fd91",
      "metadata": {
        "id": "f0b4fd91"
      },
      "source": [
        "Найдите вероятности выздороветь или нет (независимо от группы по приему/не приему лекарства), то есть вероятность попасть в $B$ и $\\overline{B}$ для мужчин."
      ]
    },
    {
      "cell_type": "code",
      "execution_count": null,
      "id": "97b2e454",
      "metadata": {
        "id": "97b2e454"
      },
      "outputs": [],
      "source": [
        "# your code here\n",
        "# (￢_￢)"
      ]
    },
    {
      "cell_type": "markdown",
      "id": "cad7f014",
      "metadata": {
        "id": "cad7f014"
      },
      "source": [
        "Расчитайте ожидаемые (теоритические) значения для каждой ячейки матрицы. Для этого перемножьте вероятности из предыдущего пункта со значениями $n_1$ и $n_2$. Полученную матрицу можно сравнить с выводом библиотеки`scipy.stats`, она должна быть идентичной."
      ]
    },
    {
      "cell_type": "code",
      "execution_count": null,
      "id": "5a5743f7",
      "metadata": {
        "id": "5a5743f7"
      },
      "outputs": [],
      "source": [
        "# your code here\n",
        "# (￢_￢)"
      ]
    },
    {
      "cell_type": "markdown",
      "id": "6cc67e69",
      "metadata": {
        "id": "6cc67e69"
      },
      "source": [
        "Расчитайте наблюдаемую статистику и найдите `p_value` с помощью `sts.chi2.cdf` с параметром `df=1`.\n",
        "\n",
        "\\begin{equation*} \\chi^2_d = \\sum {\\frac {(O-E)^2}{E}},\\end{equation*}\n",
        "\n",
        "где\n",
        "\n",
        "- $E$ - наши ожидаемые частоты(матрица из предыдущего пукта),\n",
        "- $O$ - наблюдаемы частоты(первоначальная матрица)."
      ]
    },
    {
      "cell_type": "code",
      "execution_count": null,
      "id": "5955d367",
      "metadata": {
        "id": "5955d367"
      },
      "outputs": [],
      "source": [
        "# your code here\n",
        "# (￢_￢)"
      ]
    },
    {
      "cell_type": "markdown",
      "id": "909580f0",
      "metadata": {
        "id": "909580f0"
      },
      "source": [
        "__в) [1 балл]__  Ответьте на вопрос: есть ли эффект от лекарства для женщин? (повторите процедуру пункта а)\n",
        "\n",
        "Как и в предыдущий раз, для начала, посчитайте долю выздровевших женщин, которые принимали лекарство и долю выздровевших женщин, которые не принимали лекартсво. Сравните эти доли."
      ]
    },
    {
      "cell_type": "markdown",
      "id": "ac6c195d",
      "metadata": {
        "id": "ac6c195d"
      },
      "source": [
        "Создайте матрицу с данными из таблицы по женщинам, примените тест с параметром `correction=False` и сделайте выводы на уровене значимости $5\\%$."
      ]
    },
    {
      "cell_type": "code",
      "execution_count": null,
      "id": "e7ab26a5",
      "metadata": {
        "id": "e7ab26a5"
      },
      "outputs": [],
      "source": [
        "# your code here\n",
        "# (￢_￢)"
      ]
    },
    {
      "cell_type": "markdown",
      "id": "e492b36c",
      "metadata": {
        "id": "e492b36c"
      },
      "source": [
        "__г) [1 балл]__ Ответьте на вопрос: есть ли эффект от лекарства для объединенной группы?"
      ]
    },
    {
      "cell_type": "code",
      "execution_count": null,
      "id": "8bada352",
      "metadata": {
        "id": "8bada352"
      },
      "outputs": [],
      "source": [
        "# your code here\n",
        "# (￢_￢)"
      ]
    },
    {
      "cell_type": "markdown",
      "id": "b3405c3a",
      "metadata": {
        "id": "b3405c3a"
      },
      "source": [
        "__д) [1 балл]__  Соотносится ли это с результатами по группам мужчин и женщин, взятых отдельно?"
      ]
    },
    {
      "cell_type": "code",
      "execution_count": null,
      "id": "d4b2d293",
      "metadata": {
        "id": "d4b2d293"
      },
      "outputs": [],
      "source": [
        "# your thoughts here\n",
        "# (◕‿◕)♡"
      ]
    },
    {
      "cell_type": "markdown",
      "id": "51ade28f",
      "metadata": {
        "id": "51ade28f"
      },
      "source": [
        "## Что произошло?\n",
        "\n",
        "Если вы все сделали правильно, скорее всего у вас получились противоречивые значимые результаты. Давайте разберемся почему это так.\n",
        "\n",
        "Может произойти такая ситуация, что новое лекарство может оказаться эффективным в каждом из отдельных исследований, на каждой отдельной группе, но объединение результатов укажет на то, что это лекарство либо бесполезно, либо вредно. [Это называется __парадокс Симпсона.__](https://ru.wikipedia.org/wiki/Парадокс_Симпсона) Он довольно часто встречается на практике в разном виде.\n",
        "\n",
        "Проблема здесь в том, что объединять эти выборки просто слив данные вместе — нельзя. Контрольные группы людей, не принимавших лекарство, занимают разный объем от выборок — примерно 12% в случае мужчин и 75% в случае женщин."
      ]
    }
  ],
  "metadata": {
    "kernelspec": {
      "display_name": "Python 3",
      "language": "python",
      "name": "python3"
    },
    "language_info": {
      "codemirror_mode": {
        "name": "ipython",
        "version": 3
      },
      "file_extension": ".py",
      "mimetype": "text/x-python",
      "name": "python",
      "nbconvert_exporter": "python",
      "pygments_lexer": "ipython3",
      "version": "3.10.13"
    },
    "colab": {
      "provenance": [],
      "include_colab_link": true
    }
  },
  "nbformat": 4,
  "nbformat_minor": 5
}