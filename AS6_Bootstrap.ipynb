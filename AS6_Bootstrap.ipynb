{
  "cells": [
    {
      "cell_type": "markdown",
      "metadata": {
        "id": "view-in-github",
        "colab_type": "text"
      },
      "source": [
        "<a href=\"https://colab.research.google.com/github/lapshinaaa/applied-statistics-tasks/blob/main/AS6_Bootstrap.ipynb\" target=\"_parent\"><img src=\"https://colab.research.google.com/assets/colab-badge.svg\" alt=\"Open In Colab\"/></a>"
      ]
    },
    {
      "cell_type": "markdown",
      "id": "9074d943",
      "metadata": {
        "id": "9074d943"
      },
      "source": [
        "<center>\n",
        "<img src=\"https://raw.githubusercontent.com/FUlyankin/r_probability/master/end_seminars_2020/sem08/real_expect.png\" width=\"500\">\n",
        "\n",
        "# Bootstrap\n",
        "</center>"
      ]
    },
    {
      "cell_type": "code",
      "execution_count": 1,
      "id": "9ffeb8fa",
      "metadata": {
        "id": "9ffeb8fa"
      },
      "outputs": [],
      "source": [
        "import numpy as np\n",
        "import pandas as pd\n",
        "\n",
        "from scipy import stats as sts\n",
        "\n",
        "import seaborn as sns\n",
        "import matplotlib.pyplot as plt\n",
        "\n",
        "plt.style.use('ggplot')\n",
        "%matplotlib inline"
      ]
    },
    {
      "cell_type": "markdown",
      "id": "3e41975e",
      "metadata": {
        "vscode": {
          "languageId": "plaintext"
        },
        "id": "3e41975e"
      },
      "source": [
        "## Task 1 (discrimination)\n",
        "\n",
        "## 📖 Case Description: Verizon Repair Time Investigation  \n",
        "\n",
        "**Verizon** is the primary regional telecommunications provider in the western United States, responsible for maintaining the local landline infrastructure (known as the *Incumbent Local Exchange Carrier*, or **ILEC**).  \n",
        "\n",
        "In addition to its own services, Verizon also offered long-distance communication lines — just like several of its competitors, collectively referred to as *Competing Local Exchange Carriers* (**CLECs**).  \n",
        "\n",
        "Whenever a malfunction occurred, Verizon was obligated to repair not only its own equipment but also that of its competitors. Crucially, it had to do so **at the same speed** — repair times for CLEC equipment were legally required to be no slower than for Verizon’s own infrastructure. The **Public Utilities Commission** monitored compliance with this rule.  \n",
        "\n",
        "Over time, **suspicions arose** that Verizon was repairing its competitors’ equipment **more slowly** than its own. During regulatory hearings concerning these potential violations, **Tim Hesterberg**, the author of a well-known paper on the bootstrap, served as a consultant for Verizon.  \n",
        "\n",
        "The Commission compared the repair times for Verizon’s own equipment versus CLEC equipment. For each case, they tested the **null hypothesis of equal mean repair times**, using a **significance level of 1%**.  \n",
        "\n",
        "If more than 1% of these tests turned out significant, Verizon would face **heavy penalties**. The Commission initially relied on **t-tests** for comparing means, but following Hesterberg’s advice, Verizon proposed using **robust, nonparametric tests** — methods less sensitive to outliers and not reliant on the normality of the underlying distributions.  \n",
        "\n",
        "In this assignment, we will approach the same question — whether Verizon systematically discriminated against competitors — using a **bootstrap approach**.  \n",
        "We will:\n",
        "- Construct a **confidence interval for the difference in medians**,  \n",
        "- Check whether **zero lies within that interval**,  \n",
        "- And use a **significance level of 1%**.  \n",
        "\n",
        "The analysis will be done for **one CLEC company** and **Verizon**, simulating the original investigation."
      ]
    },
    {
      "cell_type": "markdown",
      "source": [
        "### 🎯 Why We Check Whether Zero Lies Within the Confidence Interval  \n",
        "\n",
        "We are building a **bootstrap confidence interval** for the **difference in medians** between two groups:  \n",
        "\n",
        "$$\n",
        "\\Delta = \\tilde{X}_{\\text{Verizon}} - \\tilde{X}_{\\text{CLEC}}\n",
        "$$\n",
        "\n",
        "where each $\\tilde{X}$ represents the sample **median repair time**.  \n",
        "\n",
        "Using bootstrap resampling, we estimate the **sampling distribution** of $\\Delta$ — how this difference would vary if we repeatedly collected new samples.  \n",
        "From that, we construct the **99% confidence interval** (since $\\alpha = 0.01$):\n",
        "\n",
        "$$\n",
        "CI_{99\\%} = [ \\Delta_{\\text{low}}, \\Delta_{\\text{high}} ]\n",
        "$$\n",
        "\n",
        "---\n",
        "\n",
        "#### 💡 Interpretation  \n",
        "\n",
        "- The value **0** corresponds to **no difference in medians**:  \n",
        "  $$\n",
        "  H_0: \\text{Median(Verizon)} = \\text{Median(CLEC)}\n",
        "  \\quad \\Rightarrow \\quad \\Delta = 0\n",
        "  $$\n",
        "\n",
        "- If **0 lies inside** the confidence interval, it means the observed difference could reasonably be explained by random variation.  \n",
        "  → We **fail to reject $H_0$**: no statistically significant difference in repair times.  \n",
        "\n",
        "- If **0 lies outside** the confidence interval, the difference is too large to be due to chance.  \n",
        "  → We **reject $H_0$**: there is a statistically significant difference between Verizon and CLEC repair times.  \n",
        "\n",
        "---\n",
        "\n",
        "#### 🧠 Summary  \n",
        "\n",
        "In this context, **zero represents the absence of discrimination** — equal typical (median) repair times.  \n",
        "If the 99% bootstrap confidence interval for the median difference **excludes zero**, Verizon and CLEC repair times differ significantly at the 1% level.  \n",
        "If **zero is included**, we have no evidence of such difference.\n"
      ],
      "metadata": {
        "id": "IH6wN-7DBlni"
      },
      "id": "IH6wN-7DBlni"
    },
    {
      "cell_type": "code",
      "execution_count": 2,
      "id": "a7a1a4ca",
      "metadata": {
        "colab": {
          "base_uri": "https://localhost:8080/",
          "height": 223
        },
        "id": "a7a1a4ca",
        "outputId": "b0c60cf0-cbdc-4354-f787-9d8844ec74f1"
      },
      "outputs": [
        {
          "output_type": "stream",
          "name": "stdout",
          "text": [
            "(1687, 2)\n"
          ]
        },
        {
          "output_type": "execute_result",
          "data": {
            "text/plain": [
              "    Time Group\n",
              "0  17.50  ILEC\n",
              "1   2.40  ILEC\n",
              "2   0.00  ILEC\n",
              "3   0.65  ILEC\n",
              "4  22.23  ILEC"
            ],
            "text/html": [
              "\n",
              "  <div id=\"df-a0a24303-142c-4ebc-9ee1-e45c2252abd7\" class=\"colab-df-container\">\n",
              "    <div>\n",
              "<style scoped>\n",
              "    .dataframe tbody tr th:only-of-type {\n",
              "        vertical-align: middle;\n",
              "    }\n",
              "\n",
              "    .dataframe tbody tr th {\n",
              "        vertical-align: top;\n",
              "    }\n",
              "\n",
              "    .dataframe thead th {\n",
              "        text-align: right;\n",
              "    }\n",
              "</style>\n",
              "<table border=\"1\" class=\"dataframe\">\n",
              "  <thead>\n",
              "    <tr style=\"text-align: right;\">\n",
              "      <th></th>\n",
              "      <th>Time</th>\n",
              "      <th>Group</th>\n",
              "    </tr>\n",
              "  </thead>\n",
              "  <tbody>\n",
              "    <tr>\n",
              "      <th>0</th>\n",
              "      <td>17.50</td>\n",
              "      <td>ILEC</td>\n",
              "    </tr>\n",
              "    <tr>\n",
              "      <th>1</th>\n",
              "      <td>2.40</td>\n",
              "      <td>ILEC</td>\n",
              "    </tr>\n",
              "    <tr>\n",
              "      <th>2</th>\n",
              "      <td>0.00</td>\n",
              "      <td>ILEC</td>\n",
              "    </tr>\n",
              "    <tr>\n",
              "      <th>3</th>\n",
              "      <td>0.65</td>\n",
              "      <td>ILEC</td>\n",
              "    </tr>\n",
              "    <tr>\n",
              "      <th>4</th>\n",
              "      <td>22.23</td>\n",
              "      <td>ILEC</td>\n",
              "    </tr>\n",
              "  </tbody>\n",
              "</table>\n",
              "</div>\n",
              "    <div class=\"colab-df-buttons\">\n",
              "\n",
              "  <div class=\"colab-df-container\">\n",
              "    <button class=\"colab-df-convert\" onclick=\"convertToInteractive('df-a0a24303-142c-4ebc-9ee1-e45c2252abd7')\"\n",
              "            title=\"Convert this dataframe to an interactive table.\"\n",
              "            style=\"display:none;\">\n",
              "\n",
              "  <svg xmlns=\"http://www.w3.org/2000/svg\" height=\"24px\" viewBox=\"0 -960 960 960\">\n",
              "    <path d=\"M120-120v-720h720v720H120Zm60-500h600v-160H180v160Zm220 220h160v-160H400v160Zm0 220h160v-160H400v160ZM180-400h160v-160H180v160Zm440 0h160v-160H620v160ZM180-180h160v-160H180v160Zm440 0h160v-160H620v160Z\"/>\n",
              "  </svg>\n",
              "    </button>\n",
              "\n",
              "  <style>\n",
              "    .colab-df-container {\n",
              "      display:flex;\n",
              "      gap: 12px;\n",
              "    }\n",
              "\n",
              "    .colab-df-convert {\n",
              "      background-color: #E8F0FE;\n",
              "      border: none;\n",
              "      border-radius: 50%;\n",
              "      cursor: pointer;\n",
              "      display: none;\n",
              "      fill: #1967D2;\n",
              "      height: 32px;\n",
              "      padding: 0 0 0 0;\n",
              "      width: 32px;\n",
              "    }\n",
              "\n",
              "    .colab-df-convert:hover {\n",
              "      background-color: #E2EBFA;\n",
              "      box-shadow: 0px 1px 2px rgba(60, 64, 67, 0.3), 0px 1px 3px 1px rgba(60, 64, 67, 0.15);\n",
              "      fill: #174EA6;\n",
              "    }\n",
              "\n",
              "    .colab-df-buttons div {\n",
              "      margin-bottom: 4px;\n",
              "    }\n",
              "\n",
              "    [theme=dark] .colab-df-convert {\n",
              "      background-color: #3B4455;\n",
              "      fill: #D2E3FC;\n",
              "    }\n",
              "\n",
              "    [theme=dark] .colab-df-convert:hover {\n",
              "      background-color: #434B5C;\n",
              "      box-shadow: 0px 1px 3px 1px rgba(0, 0, 0, 0.15);\n",
              "      filter: drop-shadow(0px 1px 2px rgba(0, 0, 0, 0.3));\n",
              "      fill: #FFFFFF;\n",
              "    }\n",
              "  </style>\n",
              "\n",
              "    <script>\n",
              "      const buttonEl =\n",
              "        document.querySelector('#df-a0a24303-142c-4ebc-9ee1-e45c2252abd7 button.colab-df-convert');\n",
              "      buttonEl.style.display =\n",
              "        google.colab.kernel.accessAllowed ? 'block' : 'none';\n",
              "\n",
              "      async function convertToInteractive(key) {\n",
              "        const element = document.querySelector('#df-a0a24303-142c-4ebc-9ee1-e45c2252abd7');\n",
              "        const dataTable =\n",
              "          await google.colab.kernel.invokeFunction('convertToInteractive',\n",
              "                                                    [key], {});\n",
              "        if (!dataTable) return;\n",
              "\n",
              "        const docLinkHtml = 'Like what you see? Visit the ' +\n",
              "          '<a target=\"_blank\" href=https://colab.research.google.com/notebooks/data_table.ipynb>data table notebook</a>'\n",
              "          + ' to learn more about interactive tables.';\n",
              "        element.innerHTML = '';\n",
              "        dataTable['output_type'] = 'display_data';\n",
              "        await google.colab.output.renderOutput(dataTable, element);\n",
              "        const docLink = document.createElement('div');\n",
              "        docLink.innerHTML = docLinkHtml;\n",
              "        element.appendChild(docLink);\n",
              "      }\n",
              "    </script>\n",
              "  </div>\n",
              "\n",
              "\n",
              "    <div id=\"df-ff30833f-090d-4c81-be2f-97119543b217\">\n",
              "      <button class=\"colab-df-quickchart\" onclick=\"quickchart('df-ff30833f-090d-4c81-be2f-97119543b217')\"\n",
              "                title=\"Suggest charts\"\n",
              "                style=\"display:none;\">\n",
              "\n",
              "<svg xmlns=\"http://www.w3.org/2000/svg\" height=\"24px\"viewBox=\"0 0 24 24\"\n",
              "     width=\"24px\">\n",
              "    <g>\n",
              "        <path d=\"M19 3H5c-1.1 0-2 .9-2 2v14c0 1.1.9 2 2 2h14c1.1 0 2-.9 2-2V5c0-1.1-.9-2-2-2zM9 17H7v-7h2v7zm4 0h-2V7h2v10zm4 0h-2v-4h2v4z\"/>\n",
              "    </g>\n",
              "</svg>\n",
              "      </button>\n",
              "\n",
              "<style>\n",
              "  .colab-df-quickchart {\n",
              "      --bg-color: #E8F0FE;\n",
              "      --fill-color: #1967D2;\n",
              "      --hover-bg-color: #E2EBFA;\n",
              "      --hover-fill-color: #174EA6;\n",
              "      --disabled-fill-color: #AAA;\n",
              "      --disabled-bg-color: #DDD;\n",
              "  }\n",
              "\n",
              "  [theme=dark] .colab-df-quickchart {\n",
              "      --bg-color: #3B4455;\n",
              "      --fill-color: #D2E3FC;\n",
              "      --hover-bg-color: #434B5C;\n",
              "      --hover-fill-color: #FFFFFF;\n",
              "      --disabled-bg-color: #3B4455;\n",
              "      --disabled-fill-color: #666;\n",
              "  }\n",
              "\n",
              "  .colab-df-quickchart {\n",
              "    background-color: var(--bg-color);\n",
              "    border: none;\n",
              "    border-radius: 50%;\n",
              "    cursor: pointer;\n",
              "    display: none;\n",
              "    fill: var(--fill-color);\n",
              "    height: 32px;\n",
              "    padding: 0;\n",
              "    width: 32px;\n",
              "  }\n",
              "\n",
              "  .colab-df-quickchart:hover {\n",
              "    background-color: var(--hover-bg-color);\n",
              "    box-shadow: 0 1px 2px rgba(60, 64, 67, 0.3), 0 1px 3px 1px rgba(60, 64, 67, 0.15);\n",
              "    fill: var(--button-hover-fill-color);\n",
              "  }\n",
              "\n",
              "  .colab-df-quickchart-complete:disabled,\n",
              "  .colab-df-quickchart-complete:disabled:hover {\n",
              "    background-color: var(--disabled-bg-color);\n",
              "    fill: var(--disabled-fill-color);\n",
              "    box-shadow: none;\n",
              "  }\n",
              "\n",
              "  .colab-df-spinner {\n",
              "    border: 2px solid var(--fill-color);\n",
              "    border-color: transparent;\n",
              "    border-bottom-color: var(--fill-color);\n",
              "    animation:\n",
              "      spin 1s steps(1) infinite;\n",
              "  }\n",
              "\n",
              "  @keyframes spin {\n",
              "    0% {\n",
              "      border-color: transparent;\n",
              "      border-bottom-color: var(--fill-color);\n",
              "      border-left-color: var(--fill-color);\n",
              "    }\n",
              "    20% {\n",
              "      border-color: transparent;\n",
              "      border-left-color: var(--fill-color);\n",
              "      border-top-color: var(--fill-color);\n",
              "    }\n",
              "    30% {\n",
              "      border-color: transparent;\n",
              "      border-left-color: var(--fill-color);\n",
              "      border-top-color: var(--fill-color);\n",
              "      border-right-color: var(--fill-color);\n",
              "    }\n",
              "    40% {\n",
              "      border-color: transparent;\n",
              "      border-right-color: var(--fill-color);\n",
              "      border-top-color: var(--fill-color);\n",
              "    }\n",
              "    60% {\n",
              "      border-color: transparent;\n",
              "      border-right-color: var(--fill-color);\n",
              "    }\n",
              "    80% {\n",
              "      border-color: transparent;\n",
              "      border-right-color: var(--fill-color);\n",
              "      border-bottom-color: var(--fill-color);\n",
              "    }\n",
              "    90% {\n",
              "      border-color: transparent;\n",
              "      border-bottom-color: var(--fill-color);\n",
              "    }\n",
              "  }\n",
              "</style>\n",
              "\n",
              "      <script>\n",
              "        async function quickchart(key) {\n",
              "          const quickchartButtonEl =\n",
              "            document.querySelector('#' + key + ' button');\n",
              "          quickchartButtonEl.disabled = true;  // To prevent multiple clicks.\n",
              "          quickchartButtonEl.classList.add('colab-df-spinner');\n",
              "          try {\n",
              "            const charts = await google.colab.kernel.invokeFunction(\n",
              "                'suggestCharts', [key], {});\n",
              "          } catch (error) {\n",
              "            console.error('Error during call to suggestCharts:', error);\n",
              "          }\n",
              "          quickchartButtonEl.classList.remove('colab-df-spinner');\n",
              "          quickchartButtonEl.classList.add('colab-df-quickchart-complete');\n",
              "        }\n",
              "        (() => {\n",
              "          let quickchartButtonEl =\n",
              "            document.querySelector('#df-ff30833f-090d-4c81-be2f-97119543b217 button');\n",
              "          quickchartButtonEl.style.display =\n",
              "            google.colab.kernel.accessAllowed ? 'block' : 'none';\n",
              "        })();\n",
              "      </script>\n",
              "    </div>\n",
              "\n",
              "    </div>\n",
              "  </div>\n"
            ],
            "application/vnd.google.colaboratory.intrinsic+json": {
              "type": "dataframe",
              "variable_name": "df",
              "summary": "{\n  \"name\": \"df\",\n  \"rows\": 1687,\n  \"fields\": [\n    {\n      \"column\": \"Time\",\n      \"properties\": {\n        \"dtype\": \"number\",\n        \"std\": 14.788484023724557,\n        \"min\": 0.0,\n        \"max\": 191.6,\n        \"num_unique_values\": 743,\n        \"samples\": [\n          0.92,\n          3.4,\n          4.3\n        ],\n        \"semantic_type\": \"\",\n        \"description\": \"\"\n      }\n    },\n    {\n      \"column\": \"Group\",\n      \"properties\": {\n        \"dtype\": \"category\",\n        \"num_unique_values\": 2,\n        \"samples\": [\n          \"CLEC\",\n          \"ILEC\"\n        ],\n        \"semantic_type\": \"\",\n        \"description\": \"\"\n      }\n    }\n  ]\n}"
            }
          },
          "metadata": {},
          "execution_count": 2
        }
      ],
      "source": [
        "df = pd.read_csv('verizon.txt', sep='\\t')\n",
        "print(df.shape)\n",
        "\n",
        "# ILEC - Verizion\n",
        "# CLEC - внешние клиенты\n",
        "df.head()"
      ]
    },
    {
      "cell_type": "markdown",
      "id": "057cba48",
      "metadata": {
        "id": "057cba48"
      },
      "source": [
        "Посмотрим на то, как распределено время ремонта для разных компаний, а также на число наблюдений, которым мы располагаем."
      ]
    },
    {
      "cell_type": "code",
      "execution_count": 3,
      "id": "64985567",
      "metadata": {
        "colab": {
          "base_uri": "https://localhost:8080/",
          "height": 143
        },
        "id": "64985567",
        "outputId": "c6d20782-805e-41bf-e1a7-e12e77ccbe0e"
      },
      "outputs": [
        {
          "output_type": "execute_result",
          "data": {
            "text/plain": [
              "       count       mean  median        std\n",
              "Group                                     \n",
              "CLEC      23  16.509130   14.33  19.503576\n",
              "ILEC    1664   8.411611    3.59  14.690039"
            ],
            "text/html": [
              "\n",
              "  <div id=\"df-813115e0-d5fb-4e2f-a52d-afd7fc33f3f3\" class=\"colab-df-container\">\n",
              "    <div>\n",
              "<style scoped>\n",
              "    .dataframe tbody tr th:only-of-type {\n",
              "        vertical-align: middle;\n",
              "    }\n",
              "\n",
              "    .dataframe tbody tr th {\n",
              "        vertical-align: top;\n",
              "    }\n",
              "\n",
              "    .dataframe thead th {\n",
              "        text-align: right;\n",
              "    }\n",
              "</style>\n",
              "<table border=\"1\" class=\"dataframe\">\n",
              "  <thead>\n",
              "    <tr style=\"text-align: right;\">\n",
              "      <th></th>\n",
              "      <th>count</th>\n",
              "      <th>mean</th>\n",
              "      <th>median</th>\n",
              "      <th>std</th>\n",
              "    </tr>\n",
              "    <tr>\n",
              "      <th>Group</th>\n",
              "      <th></th>\n",
              "      <th></th>\n",
              "      <th></th>\n",
              "      <th></th>\n",
              "    </tr>\n",
              "  </thead>\n",
              "  <tbody>\n",
              "    <tr>\n",
              "      <th>CLEC</th>\n",
              "      <td>23</td>\n",
              "      <td>16.509130</td>\n",
              "      <td>14.33</td>\n",
              "      <td>19.503576</td>\n",
              "    </tr>\n",
              "    <tr>\n",
              "      <th>ILEC</th>\n",
              "      <td>1664</td>\n",
              "      <td>8.411611</td>\n",
              "      <td>3.59</td>\n",
              "      <td>14.690039</td>\n",
              "    </tr>\n",
              "  </tbody>\n",
              "</table>\n",
              "</div>\n",
              "    <div class=\"colab-df-buttons\">\n",
              "\n",
              "  <div class=\"colab-df-container\">\n",
              "    <button class=\"colab-df-convert\" onclick=\"convertToInteractive('df-813115e0-d5fb-4e2f-a52d-afd7fc33f3f3')\"\n",
              "            title=\"Convert this dataframe to an interactive table.\"\n",
              "            style=\"display:none;\">\n",
              "\n",
              "  <svg xmlns=\"http://www.w3.org/2000/svg\" height=\"24px\" viewBox=\"0 -960 960 960\">\n",
              "    <path d=\"M120-120v-720h720v720H120Zm60-500h600v-160H180v160Zm220 220h160v-160H400v160Zm0 220h160v-160H400v160ZM180-400h160v-160H180v160Zm440 0h160v-160H620v160ZM180-180h160v-160H180v160Zm440 0h160v-160H620v160Z\"/>\n",
              "  </svg>\n",
              "    </button>\n",
              "\n",
              "  <style>\n",
              "    .colab-df-container {\n",
              "      display:flex;\n",
              "      gap: 12px;\n",
              "    }\n",
              "\n",
              "    .colab-df-convert {\n",
              "      background-color: #E8F0FE;\n",
              "      border: none;\n",
              "      border-radius: 50%;\n",
              "      cursor: pointer;\n",
              "      display: none;\n",
              "      fill: #1967D2;\n",
              "      height: 32px;\n",
              "      padding: 0 0 0 0;\n",
              "      width: 32px;\n",
              "    }\n",
              "\n",
              "    .colab-df-convert:hover {\n",
              "      background-color: #E2EBFA;\n",
              "      box-shadow: 0px 1px 2px rgba(60, 64, 67, 0.3), 0px 1px 3px 1px rgba(60, 64, 67, 0.15);\n",
              "      fill: #174EA6;\n",
              "    }\n",
              "\n",
              "    .colab-df-buttons div {\n",
              "      margin-bottom: 4px;\n",
              "    }\n",
              "\n",
              "    [theme=dark] .colab-df-convert {\n",
              "      background-color: #3B4455;\n",
              "      fill: #D2E3FC;\n",
              "    }\n",
              "\n",
              "    [theme=dark] .colab-df-convert:hover {\n",
              "      background-color: #434B5C;\n",
              "      box-shadow: 0px 1px 3px 1px rgba(0, 0, 0, 0.15);\n",
              "      filter: drop-shadow(0px 1px 2px rgba(0, 0, 0, 0.3));\n",
              "      fill: #FFFFFF;\n",
              "    }\n",
              "  </style>\n",
              "\n",
              "    <script>\n",
              "      const buttonEl =\n",
              "        document.querySelector('#df-813115e0-d5fb-4e2f-a52d-afd7fc33f3f3 button.colab-df-convert');\n",
              "      buttonEl.style.display =\n",
              "        google.colab.kernel.accessAllowed ? 'block' : 'none';\n",
              "\n",
              "      async function convertToInteractive(key) {\n",
              "        const element = document.querySelector('#df-813115e0-d5fb-4e2f-a52d-afd7fc33f3f3');\n",
              "        const dataTable =\n",
              "          await google.colab.kernel.invokeFunction('convertToInteractive',\n",
              "                                                    [key], {});\n",
              "        if (!dataTable) return;\n",
              "\n",
              "        const docLinkHtml = 'Like what you see? Visit the ' +\n",
              "          '<a target=\"_blank\" href=https://colab.research.google.com/notebooks/data_table.ipynb>data table notebook</a>'\n",
              "          + ' to learn more about interactive tables.';\n",
              "        element.innerHTML = '';\n",
              "        dataTable['output_type'] = 'display_data';\n",
              "        await google.colab.output.renderOutput(dataTable, element);\n",
              "        const docLink = document.createElement('div');\n",
              "        docLink.innerHTML = docLinkHtml;\n",
              "        element.appendChild(docLink);\n",
              "      }\n",
              "    </script>\n",
              "  </div>\n",
              "\n",
              "\n",
              "    <div id=\"df-af8fcc29-1499-4d17-b152-4abd485aba72\">\n",
              "      <button class=\"colab-df-quickchart\" onclick=\"quickchart('df-af8fcc29-1499-4d17-b152-4abd485aba72')\"\n",
              "                title=\"Suggest charts\"\n",
              "                style=\"display:none;\">\n",
              "\n",
              "<svg xmlns=\"http://www.w3.org/2000/svg\" height=\"24px\"viewBox=\"0 0 24 24\"\n",
              "     width=\"24px\">\n",
              "    <g>\n",
              "        <path d=\"M19 3H5c-1.1 0-2 .9-2 2v14c0 1.1.9 2 2 2h14c1.1 0 2-.9 2-2V5c0-1.1-.9-2-2-2zM9 17H7v-7h2v7zm4 0h-2V7h2v10zm4 0h-2v-4h2v4z\"/>\n",
              "    </g>\n",
              "</svg>\n",
              "      </button>\n",
              "\n",
              "<style>\n",
              "  .colab-df-quickchart {\n",
              "      --bg-color: #E8F0FE;\n",
              "      --fill-color: #1967D2;\n",
              "      --hover-bg-color: #E2EBFA;\n",
              "      --hover-fill-color: #174EA6;\n",
              "      --disabled-fill-color: #AAA;\n",
              "      --disabled-bg-color: #DDD;\n",
              "  }\n",
              "\n",
              "  [theme=dark] .colab-df-quickchart {\n",
              "      --bg-color: #3B4455;\n",
              "      --fill-color: #D2E3FC;\n",
              "      --hover-bg-color: #434B5C;\n",
              "      --hover-fill-color: #FFFFFF;\n",
              "      --disabled-bg-color: #3B4455;\n",
              "      --disabled-fill-color: #666;\n",
              "  }\n",
              "\n",
              "  .colab-df-quickchart {\n",
              "    background-color: var(--bg-color);\n",
              "    border: none;\n",
              "    border-radius: 50%;\n",
              "    cursor: pointer;\n",
              "    display: none;\n",
              "    fill: var(--fill-color);\n",
              "    height: 32px;\n",
              "    padding: 0;\n",
              "    width: 32px;\n",
              "  }\n",
              "\n",
              "  .colab-df-quickchart:hover {\n",
              "    background-color: var(--hover-bg-color);\n",
              "    box-shadow: 0 1px 2px rgba(60, 64, 67, 0.3), 0 1px 3px 1px rgba(60, 64, 67, 0.15);\n",
              "    fill: var(--button-hover-fill-color);\n",
              "  }\n",
              "\n",
              "  .colab-df-quickchart-complete:disabled,\n",
              "  .colab-df-quickchart-complete:disabled:hover {\n",
              "    background-color: var(--disabled-bg-color);\n",
              "    fill: var(--disabled-fill-color);\n",
              "    box-shadow: none;\n",
              "  }\n",
              "\n",
              "  .colab-df-spinner {\n",
              "    border: 2px solid var(--fill-color);\n",
              "    border-color: transparent;\n",
              "    border-bottom-color: var(--fill-color);\n",
              "    animation:\n",
              "      spin 1s steps(1) infinite;\n",
              "  }\n",
              "\n",
              "  @keyframes spin {\n",
              "    0% {\n",
              "      border-color: transparent;\n",
              "      border-bottom-color: var(--fill-color);\n",
              "      border-left-color: var(--fill-color);\n",
              "    }\n",
              "    20% {\n",
              "      border-color: transparent;\n",
              "      border-left-color: var(--fill-color);\n",
              "      border-top-color: var(--fill-color);\n",
              "    }\n",
              "    30% {\n",
              "      border-color: transparent;\n",
              "      border-left-color: var(--fill-color);\n",
              "      border-top-color: var(--fill-color);\n",
              "      border-right-color: var(--fill-color);\n",
              "    }\n",
              "    40% {\n",
              "      border-color: transparent;\n",
              "      border-right-color: var(--fill-color);\n",
              "      border-top-color: var(--fill-color);\n",
              "    }\n",
              "    60% {\n",
              "      border-color: transparent;\n",
              "      border-right-color: var(--fill-color);\n",
              "    }\n",
              "    80% {\n",
              "      border-color: transparent;\n",
              "      border-right-color: var(--fill-color);\n",
              "      border-bottom-color: var(--fill-color);\n",
              "    }\n",
              "    90% {\n",
              "      border-color: transparent;\n",
              "      border-bottom-color: var(--fill-color);\n",
              "    }\n",
              "  }\n",
              "</style>\n",
              "\n",
              "      <script>\n",
              "        async function quickchart(key) {\n",
              "          const quickchartButtonEl =\n",
              "            document.querySelector('#' + key + ' button');\n",
              "          quickchartButtonEl.disabled = true;  // To prevent multiple clicks.\n",
              "          quickchartButtonEl.classList.add('colab-df-spinner');\n",
              "          try {\n",
              "            const charts = await google.colab.kernel.invokeFunction(\n",
              "                'suggestCharts', [key], {});\n",
              "          } catch (error) {\n",
              "            console.error('Error during call to suggestCharts:', error);\n",
              "          }\n",
              "          quickchartButtonEl.classList.remove('colab-df-spinner');\n",
              "          quickchartButtonEl.classList.add('colab-df-quickchart-complete');\n",
              "        }\n",
              "        (() => {\n",
              "          let quickchartButtonEl =\n",
              "            document.querySelector('#df-af8fcc29-1499-4d17-b152-4abd485aba72 button');\n",
              "          quickchartButtonEl.style.display =\n",
              "            google.colab.kernel.accessAllowed ? 'block' : 'none';\n",
              "        })();\n",
              "      </script>\n",
              "    </div>\n",
              "\n",
              "    </div>\n",
              "  </div>\n"
            ],
            "application/vnd.google.colaboratory.intrinsic+json": {
              "type": "dataframe",
              "summary": "{\n  \"name\": \"df\",\n  \"rows\": 2,\n  \"fields\": [\n    {\n      \"column\": \"Group\",\n      \"properties\": {\n        \"dtype\": \"string\",\n        \"num_unique_values\": 2,\n        \"samples\": [\n          \"ILEC\",\n          \"CLEC\"\n        ],\n        \"semantic_type\": \"\",\n        \"description\": \"\"\n      }\n    },\n    {\n      \"column\": \"count\",\n      \"properties\": {\n        \"dtype\": \"number\",\n        \"std\": 1160,\n        \"min\": 23,\n        \"max\": 1664,\n        \"num_unique_values\": 2,\n        \"samples\": [\n          1664,\n          23\n        ],\n        \"semantic_type\": \"\",\n        \"description\": \"\"\n      }\n    },\n    {\n      \"column\": \"mean\",\n      \"properties\": {\n        \"dtype\": \"number\",\n        \"std\": 5.725811202285203,\n        \"min\": 8.411610576923078,\n        \"max\": 16.50913043478261,\n        \"num_unique_values\": 2,\n        \"samples\": [\n          8.411610576923078,\n          16.50913043478261\n        ],\n        \"semantic_type\": \"\",\n        \"description\": \"\"\n      }\n    },\n    {\n      \"column\": \"median\",\n      \"properties\": {\n        \"dtype\": \"number\",\n        \"std\": 7.594326829943521,\n        \"min\": 3.59,\n        \"max\": 14.33,\n        \"num_unique_values\": 2,\n        \"samples\": [\n          3.59,\n          14.33\n        ],\n        \"semantic_type\": \"\",\n        \"description\": \"\"\n      }\n    },\n    {\n      \"column\": \"std\",\n      \"properties\": {\n        \"dtype\": \"number\",\n        \"std\": 3.4036841281843238,\n        \"min\": 14.690039386467937,\n        \"max\": 19.503575642580252,\n        \"num_unique_values\": 2,\n        \"samples\": [\n          14.690039386467937,\n          19.503575642580252\n        ],\n        \"semantic_type\": \"\",\n        \"description\": \"\"\n      }\n    }\n  ]\n}"
            }
          },
          "metadata": {},
          "execution_count": 3
        }
      ],
      "source": [
        "df.groupby('Group')['Time'].agg(['count', 'mean', 'median', 'std'])"
      ]
    },
    {
      "cell_type": "markdown",
      "id": "b24c9715",
      "metadata": {
        "id": "b24c9715"
      },
      "source": [
        "В данных есть существенный перекос в количестве наблюдений. Среднее время ремонта CLEC почти вдвое больше, чем для ILEC. Вопрос в том, является ли это свидетельством дискриминации. Если посмотреть на распределение, можно заметить, что распределение времени на ремонт CLEC имеет как минимум один выброс. Тем не менее, если смотреть на медианы, которые робастны (нечувствительны) к выбросам, ситуация, связанная со временем оказывается ещё более драмматичной."
      ]
    },
    {
      "cell_type": "code",
      "execution_count": 4,
      "id": "2ba4feb4",
      "metadata": {
        "colab": {
          "base_uri": "https://localhost:8080/",
          "height": 445
        },
        "id": "2ba4feb4",
        "outputId": "710c0dd8-a94f-4a5a-b0e3-f6ad509a1d50"
      },
      "outputs": [
        {
          "output_type": "display_data",
          "data": {
            "text/plain": [
              "<Figure size 1200x500 with 1 Axes>"
            ],
            "image/png": "[encoded data removed]"
          },
          "metadata": {}
        }
      ],
      "source": [
        "plt.figure(figsize=(12,5))\n",
        "df[df.Group == 'ILEC'].Time.hist(bins=15, label='Verizion', alpha=0.4, density=True)\n",
        "df[df.Group == 'CLEC'].Time.hist(bins=15, label='CLEC', alpha=0.4, density=True)\n",
        "plt.legend();"
      ]
    },
    {
      "cell_type": "markdown",
      "id": "75dbf91b",
      "metadata": {
        "id": "75dbf91b"
      },
      "source": [
        "__а) [2 балла]__ Постройте для разницы $med_{CLEC} - med_{Verizion}$ доверительный интервал Эфрона (перцентильный доверительный интервал)."
      ]
    },
    {
      "cell_type": "code",
      "execution_count": 10,
      "id": "cc397d35",
      "metadata": {
        "colab": {
          "base_uri": "https://localhost:8080/"
        },
        "id": "cc397d35",
        "outputId": "7f3c20b9-e09f-4478-dd41-1ab8d154f0bb"
      },
      "outputs": [
        {
          "output_type": "execute_result",
          "data": {
            "text/plain": [
              "array([ 4.63 , 16.215, 10.85 , ..., 14.47 ,  4.83 ,  5.02 ])"
            ]
          },
          "metadata": {},
          "execution_count": 10
        }
      ],
      "source": [
        "verizon = df[df.Group == 'ILEC'][\"Time\"]\n",
        "clec = df[df.Group == 'CLEC'][\"Time\"]\n",
        "\n",
        "B_sample=10**4\n",
        "alpha = 0.01\n",
        "# collecting bootstrap differences in medians\n",
        "boot_diffs = np.empty(B_sample)\n",
        "\n",
        "rng = np.random.default_rng(seed=123456)\n",
        "\n",
        "for sample in range(B_sample):\n",
        "  sample_verizon = rng.choice(verizon, size=len(verizon), replace=True)\n",
        "  sample_clec = rng.choice(clec, size=len(clec), replace=True)\n",
        "  boot_diffs[sample] = np.median(sample_clec) - np.median(sample_verizon)\n",
        "\n",
        "boot_diffs"
      ]
    },
    {
      "cell_type": "code",
      "source": [
        "left = np.quantile(boot_diffs, alpha/2)\n",
        "right = np.quantile(boot_diffs, 1-alpha/2)"
      ],
      "metadata": {
        "id": "V1xTeSBoJgDZ"
      },
      "id": "V1xTeSBoJgDZ",
      "execution_count": 11,
      "outputs": []
    },
    {
      "cell_type": "code",
      "source": [
        "left"
      ],
      "metadata": {
        "colab": {
          "base_uri": "https://localhost:8080/"
        },
        "id": "wwKZfn3PKHQj",
        "outputId": "4ba4c966-bc81-4637-8643-164c5ec9c6a9"
      },
      "id": "wwKZfn3PKHQj",
      "execution_count": 12,
      "outputs": [
        {
          "output_type": "execute_result",
          "data": {
            "text/plain": [
              "np.float64(1.71)"
            ]
          },
          "metadata": {},
          "execution_count": 12
        }
      ]
    },
    {
      "cell_type": "code",
      "execution_count": 13,
      "id": "1ac14990",
      "metadata": {
        "id": "1ac14990"
      },
      "outputs": [],
      "source": [
        "# проверка того, что задание решено верно\n",
        "assert left > 1.6\n",
        "assert right < 20\n",
        "\n",
        "# подобные тесты скрыты от вас"
      ]
    },
    {
      "cell_type": "markdown",
      "id": "8c10b92c",
      "metadata": {
        "id": "8c10b92c"
      },
      "source": [
        "В целом, перцентильный интервал выглядит самым простым вариантом оценивания, однако в реальности он даёт весьма плохие результаты, так как сильно зависит от того насколько хорошо изначальная выборка аппроксимирует истинное распределение случайной величины. В данной ситуации из-за того, что исходное распределение асимметрично, мы получаем смещение."
      ]
    },
    {
      "cell_type": "markdown",
      "id": "53c7db8c",
      "metadata": {
        "id": "53c7db8c"
      },
      "source": [
        "__б) [2 балла]__ Постройте для разницы $med_{CLEC} - med_{Verizion}$ доверительный интервал Холла (обратный перцентильный доверительный интервал)."
      ]
    },
    {
      "cell_type": "code",
      "execution_count": null,
      "id": "28d6e939",
      "metadata": {
        "id": "28d6e939"
      },
      "outputs": [],
      "source": [
        "### ╰( ͡° ͜ʖ ͡° )つ▬▬ι═══════  bzzzzzzzzzz\n",
        "# will the code be with you\n",
        "\n",
        "left = ...\n",
        "right = ...\n",
        "\n",
        "# your code here\n"
      ]
    },
    {
      "cell_type": "code",
      "execution_count": null,
      "id": "7108e0b0",
      "metadata": {
        "id": "7108e0b0"
      },
      "outputs": [],
      "source": [
        "# проверка того, что задание решено верно\n",
        "assert left > 3\n",
        "assert right < 22\n",
        "\n",
        "# подобные тесты скрыты от вас"
      ]
    },
    {
      "cell_type": "markdown",
      "id": "c81a4650",
      "metadata": {
        "id": "c81a4650"
      },
      "source": [
        "Холл в своей работе называл перцентильный интервал \"the wrong pivot, backwards\". Обратный перцентильный интервал для асимметричных распределений делает то же самое, но в обратном направлении."
      ]
    },
    {
      "cell_type": "markdown",
      "id": "dea4ffe9",
      "metadata": {
        "id": "dea4ffe9"
      },
      "source": [
        "__в) [2 балла]__ Постройте $t-$ перцентильный доверительный интервал:\n",
        "\n",
        "1. Найдите точечную оценку неизвестного параметра (разность медиан) и точечную оценку стандартного отклонения\n",
        "2. Сгенерируйте $10^5$ boostrap-выборок\n",
        "3. Рассчитайте по каждой выбооке выборочную разницу медиан\n",
        "4. Рассчитайте по каждой выборке стандартную ошибку\n",
        "5. Найдите по каждой выборке $$t^* = \\frac{\\hat \\theta^{*} - \\hat{\\theta}}{S^{*}}$$\n",
        "6. Найдите для $t^{*}$ квантили уровня $0.05$ и $0.95$\n",
        "7. Постройте доверительный интервал для разности медиан\n",
        "\n",
        "В качестве $S^{*}$ исполизуйте сумму стандартных отклонений, посчитанных по выборкам $x$ и $y$. Конечно же, мы используем при таком подходе неправильное стандартное отклонение. При этом мы надеемся, что бутсрэп сам поправит нашу ошибку. При таком подходе главное, чтобы знаменатель сходился по вероятности к какому-нибудь пределу."
      ]
    },
    {
      "cell_type": "code",
      "execution_count": null,
      "id": "00721627",
      "metadata": {
        "id": "00721627"
      },
      "outputs": [],
      "source": [
        "### ╰( ͡° ͜ʖ ͡° )つ▬▬ι═══════  bzzzzzzzzzz\n",
        "# will the code be with you\n",
        "\n",
        "theta_hat = ...\n",
        "std_hat = ...\n",
        "\n",
        "left = ...\n",
        "right = ...\n",
        "\n",
        "alpha = 0.01\n",
        "# your code here\n"
      ]
    },
    {
      "cell_type": "code",
      "execution_count": null,
      "id": "8bd2bbd6",
      "metadata": {
        "id": "8bd2bbd6"
      },
      "outputs": [],
      "source": [
        "# проверка того, что задание решено верно\n",
        "assert left < 2\n",
        "assert right > 20\n",
        "\n",
        "# подобные тесты скрыты от вас"
      ]
    },
    {
      "cell_type": "markdown",
      "id": "afdbf607",
      "metadata": {
        "id": "afdbf607"
      },
      "source": [
        "У $t$-bootstrap есть одно интересное свойство: он \"уважает\" асимметрию распределений при расчёте доверительных интервалов.\n",
        "\n",
        "__г) [2 балла]__ Что в итоге? Есть ли дискриминация на рынке?\n",
        "\n",
        "__Ответ:__"
      ]
    },
    {
      "cell_type": "markdown",
      "id": "50f67405",
      "metadata": {
        "id": "50f67405"
      },
      "source": [
        "__д) [2 балла]__ Попробуйте оценить  $S^{*}$ с помощью двойного бутстрапа:\n",
        "\n",
        "1. Бутстрапируем $B$ выборок\n",
        "2. Для каждой сбутстрапированной выборки делаем ещё $B$ итераций бутстрапа, рассматривая эту выборку как исходную\n",
        "3. По каждой выборке второго уровня находим асимметрию, подсчитываем по полученным асимметриям стандартное отклонение\n",
        "4. Теперь у нас есть $B$ асимметрий и $B$ их стандартных отклонений\n",
        "5. Стандартное отклонение, найденное по выборке асимметрий первого уровня мы будем использовать для подсчёта наблюдаемого значения статистики\n",
        "\n",
        "Получается матрёшка из бутстрапов. Внутри каждого бутстрапа ещё $B$ бутсрапов. Изменились ли ваши выводы?"
      ]
    },
    {
      "cell_type": "code",
      "execution_count": null,
      "id": "364efc88",
      "metadata": {
        "id": "364efc88"
      },
      "outputs": [],
      "source": [
        "### ╰( ͡° ͜ʖ ͡° )つ▬▬ι═══════  bzzzzzzzzzz\n",
        "# will the code be with you"
      ]
    }
  ],
  "metadata": {
    "kernelspec": {
      "display_name": "Python 3",
      "language": "python",
      "name": "python3"
    },
    "language_info": {
      "codemirror_mode": {
        "name": "ipython",
        "version": 3
      },
      "file_extension": ".py",
      "mimetype": "text/x-python",
      "name": "python",
      "nbconvert_exporter": "python",
      "pygments_lexer": "ipython3",
      "version": "3.10.13"
    },
    "colab": {
      "provenance": [],
      "include_colab_link": true
    }
  },
  "nbformat": 4,
  "nbformat_minor": 5
}