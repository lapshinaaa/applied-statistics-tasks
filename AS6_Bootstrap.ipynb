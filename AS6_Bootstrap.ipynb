{
  "cells": [
    {
      "cell_type": "markdown",
      "metadata": {
        "id": "view-in-github",
        "colab_type": "text"
      },
      "source": [
        "<a href=\"https://colab.research.google.com/github/lapshinaaa/applied-statistics-tasks/blob/main/AS6_Bootstrap.ipynb\" target=\"_parent\"><img src=\"https://colab.research.google.com/assets/colab-badge.svg\" alt=\"Open In Colab\"/></a>"
      ]
    },
    {
      "cell_type": "markdown",
      "id": "9074d943",
      "metadata": {
        "id": "9074d943"
      },
      "source": [
        "<center>\n",
        "<img src=\"https://raw.githubusercontent.com/FUlyankin/r_probability/master/end_seminars_2020/sem08/real_expect.png\" width=\"500\">\n",
        "\n",
        "# Bootstrap\n",
        "</center>"
      ]
    },
    {
      "cell_type": "code",
      "execution_count": null,
      "id": "9ffeb8fa",
      "metadata": {
        "id": "9ffeb8fa"
      },
      "outputs": [],
      "source": [
        "import numpy as np\n",
        "import pandas as pd\n",
        "\n",
        "from scipy import stats as sts\n",
        "\n",
        "import seaborn as sns\n",
        "import matplotlib.pyplot as plt\n",
        "\n",
        "plt.style.use('ggplot')\n",
        "%matplotlib inline"
      ]
    },
    {
      "cell_type": "markdown",
      "id": "3e41975e",
      "metadata": {
        "id": "3e41975e"
      },
      "source": [
        "## Task 1 (discrimination)\n",
        "\n",
        "## 📖 Case Description: Verizon Repair Time Investigation  \n",
        "\n",
        "**Verizon** is the primary regional telecommunications provider in the western United States, responsible for maintaining the local landline infrastructure (known as the *Incumbent Local Exchange Carrier*, or **ILEC**).  \n",
        "\n",
        "In addition to its own services, Verizon also offered long-distance communication lines — just like several of its competitors, collectively referred to as *Competing Local Exchange Carriers* (**CLECs**).  \n",
        "\n",
        "Whenever a malfunction occurred, Verizon was obligated to repair not only its own equipment but also that of its competitors. Crucially, it had to do so **at the same speed** — repair times for CLEC equipment were legally required to be no slower than for Verizon’s own infrastructure. The **Public Utilities Commission** monitored compliance with this rule.  \n",
        "\n",
        "Over time, **suspicions arose** that Verizon was repairing its competitors’ equipment **more slowly** than its own. During regulatory hearings concerning these potential violations, **Tim Hesterberg**, the author of a well-known paper on the bootstrap, served as a consultant for Verizon.  \n",
        "\n",
        "The Commission compared the repair times for Verizon’s own equipment versus CLEC equipment. For each case, they tested the **null hypothesis of equal mean repair times**, using a **significance level of 1%**.  \n",
        "\n",
        "If more than 1% of these tests turned out significant, Verizon would face **heavy penalties**. The Commission initially relied on **t-tests** for comparing means, but following Hesterberg’s advice, Verizon proposed using **robust, nonparametric tests** — methods less sensitive to outliers and not reliant on the normality of the underlying distributions.  \n",
        "\n",
        "In this assignment, we will approach the same question — whether Verizon systematically discriminated against competitors — using a **bootstrap approach**.  \n",
        "We will:\n",
        "- Construct a **confidence interval for the difference in medians**,  \n",
        "- Check whether **zero lies within that interval**,  \n",
        "- And use a **significance level of 1%**.  \n",
        "\n",
        "The analysis will be done for **one CLEC company** and **Verizon**, simulating the original investigation."
      ]
    },
    {
      "cell_type": "markdown",
      "id": "IH6wN-7DBlni",
      "metadata": {
        "id": "IH6wN-7DBlni"
      },
      "source": [
        "### 🎯 Why We Check Whether Zero Lies Within the Confidence Interval  \n",
        "\n",
        "We are building a **bootstrap confidence interval** for the **difference in medians** between two groups:  \n",
        "\n",
        "$$\n",
        "\\Delta = \\tilde{X}_{\\text{Verizon}} - \\tilde{X}_{\\text{CLEC}}\n",
        "$$\n",
        "\n",
        "where each $\\tilde{X}$ represents the sample **median repair time**.  \n",
        "\n",
        "Using bootstrap resampling, we estimate the **sampling distribution** of $\\Delta$ — how this difference would vary if we repeatedly collected new samples.  \n",
        "From that, we construct the **99% confidence interval** (since $\\alpha = 0.01$):\n",
        "\n",
        "$$\n",
        "CI_{99\\%} = [ \\Delta_{\\text{low}}, \\Delta_{\\text{high}} ]\n",
        "$$\n",
        "\n",
        "---\n",
        "\n",
        "#### 💡 Interpretation  \n",
        "\n",
        "- The value **0** corresponds to **no difference in medians**:  \n",
        "  $$\n",
        "  H_0: \\text{Median(Verizon)} = \\text{Median(CLEC)}\n",
        "  \\quad \\Rightarrow \\quad \\Delta = 0\n",
        "  $$\n",
        "\n",
        "- If **0 lies inside** the confidence interval, it means the observed difference could reasonably be explained by random variation.  \n",
        "  → We **fail to reject $H_0$**: no statistically significant difference in repair times.  \n",
        "\n",
        "- If **0 lies outside** the confidence interval, the difference is too large to be due to chance.  \n",
        "  → We **reject $H_0$**: there is a statistically significant difference between Verizon and CLEC repair times.  \n",
        "\n",
        "---\n",
        "\n",
        "#### 🧠 Summary  \n",
        "\n",
        "In this context, **zero represents the absence of discrimination** — equal typical (median) repair times.  \n",
        "If the 99% bootstrap confidence interval for the median difference **excludes zero**, Verizon and CLEC repair times differ significantly at the 1% level.  \n",
        "If **zero is included**, we have no evidence of such difference.\n"
      ]
    },
    {
      "cell_type": "code",
      "execution_count": null,
      "id": "a7a1a4ca",
      "metadata": {
        "colab": {
          "base_uri": "https://localhost:8080/",
          "height": 223
        },
        "id": "a7a1a4ca",
        "outputId": "c953ef00-14af-420f-e362-f078e66fb99a"
      },
      "outputs": [
        {
          "name": "stdout",
          "output_type": "stream",
          "text": [
            "(1687, 2)\n"
          ]
        },
        {
          "data": {
            "application/vnd.google.colaboratory.intrinsic+json": {
              "summary": "{\n  \"name\": \"df\",\n  \"rows\": 1687,\n  \"fields\": [\n    {\n      \"column\": \"Time\",\n      \"properties\": {\n        \"dtype\": \"number\",\n        \"std\": 14.788484023724557,\n        \"min\": 0.0,\n        \"max\": 191.6,\n        \"num_unique_values\": 743,\n        \"samples\": [\n          0.92,\n          3.4,\n          4.3\n        ],\n        \"semantic_type\": \"\",\n        \"description\": \"\"\n      }\n    },\n    {\n      \"column\": \"Group\",\n      \"properties\": {\n        \"dtype\": \"category\",\n        \"num_unique_values\": 2,\n        \"samples\": [\n          \"CLEC\",\n          \"ILEC\"\n        ],\n        \"semantic_type\": \"\",\n        \"description\": \"\"\n      }\n    }\n  ]\n}",
              "type": "dataframe",
              "variable_name": "df"
            },
            "text/html": [
              "\n",
              "  <div id=\"df-25550e5f-172c-4705-b98a-05a3a5d75477\" class=\"colab-df-container\">\n",
              "    <div>\n",
              "<style scoped>\n",
              "    .dataframe tbody tr th:only-of-type {\n",
              "        vertical-align: middle;\n",
              "    }\n",
              "\n",
              "    .dataframe tbody tr th {\n",
              "        vertical-align: top;\n",
              "    }\n",
              "\n",
              "    .dataframe thead th {\n",
              "        text-align: right;\n",
              "    }\n",
              "</style>\n",
              "<table border=\"1\" class=\"dataframe\">\n",
              "  <thead>\n",
              "    <tr style=\"text-align: right;\">\n",
              "      <th></th>\n",
              "      <th>Time</th>\n",
              "      <th>Group</th>\n",
              "    </tr>\n",
              "  </thead>\n",
              "  <tbody>\n",
              "    <tr>\n",
              "      <th>0</th>\n",
              "      <td>17.50</td>\n",
              "      <td>ILEC</td>\n",
              "    </tr>\n",
              "    <tr>\n",
              "      <th>1</th>\n",
              "      <td>2.40</td>\n",
              "      <td>ILEC</td>\n",
              "    </tr>\n",
              "    <tr>\n",
              "      <th>2</th>\n",
              "      <td>0.00</td>\n",
              "      <td>ILEC</td>\n",
              "    </tr>\n",
              "    <tr>\n",
              "      <th>3</th>\n",
              "      <td>0.65</td>\n",
              "      <td>ILEC</td>\n",
              "    </tr>\n",
              "    <tr>\n",
              "      <th>4</th>\n",
              "      <td>22.23</td>\n",
              "      <td>ILEC</td>\n",
              "    </tr>\n",
              "  </tbody>\n",
              "</table>\n",
              "</div>\n",
              "    <div class=\"colab-df-buttons\">\n",
              "\n",
              "  <div class=\"colab-df-container\">\n",
              "    <button class=\"colab-df-convert\" onclick=\"convertToInteractive('df-25550e5f-172c-4705-b98a-05a3a5d75477')\"\n",
              "            title=\"Convert this dataframe to an interactive table.\"\n",
              "            style=\"display:none;\">\n",
              "\n",
              "  <svg xmlns=\"http://www.w3.org/2000/svg\" height=\"24px\" viewBox=\"0 -960 960 960\">\n",
              "    <path d=\"M120-120v-720h720v720H120Zm60-500h600v-160H180v160Zm220 220h160v-160H400v160Zm0 220h160v-160H400v160ZM180-400h160v-160H180v160Zm440 0h160v-160H620v160ZM180-180h160v-160H180v160Zm440 0h160v-160H620v160Z\"/>\n",
              "  </svg>\n",
              "    </button>\n",
              "\n",
              "  <style>\n",
              "    .colab-df-container {\n",
              "      display:flex;\n",
              "      gap: 12px;\n",
              "    }\n",
              "\n",
              "    .colab-df-convert {\n",
              "      background-color: #E8F0FE;\n",
              "      border: none;\n",
              "      border-radius: 50%;\n",
              "      cursor: pointer;\n",
              "      display: none;\n",
              "      fill: #1967D2;\n",
              "      height: 32px;\n",
              "      padding: 0 0 0 0;\n",
              "      width: 32px;\n",
              "    }\n",
              "\n",
              "    .colab-df-convert:hover {\n",
              "      background-color: #E2EBFA;\n",
              "      box-shadow: 0px 1px 2px rgba(60, 64, 67, 0.3), 0px 1px 3px 1px rgba(60, 64, 67, 0.15);\n",
              "      fill: #174EA6;\n",
              "    }\n",
              "\n",
              "    .colab-df-buttons div {\n",
              "      margin-bottom: 4px;\n",
              "    }\n",
              "\n",
              "    [theme=dark] .colab-df-convert {\n",
              "      background-color: #3B4455;\n",
              "      fill: #D2E3FC;\n",
              "    }\n",
              "\n",
              "    [theme=dark] .colab-df-convert:hover {\n",
              "      background-color: #434B5C;\n",
              "      box-shadow: 0px 1px 3px 1px rgba(0, 0, 0, 0.15);\n",
              "      filter: drop-shadow(0px 1px 2px rgba(0, 0, 0, 0.3));\n",
              "      fill: #FFFFFF;\n",
              "    }\n",
              "  </style>\n",
              "\n",
              "    <script>\n",
              "      const buttonEl =\n",
              "        document.querySelector('#df-25550e5f-172c-4705-b98a-05a3a5d75477 button.colab-df-convert');\n",
              "      buttonEl.style.display =\n",
              "        google.colab.kernel.accessAllowed ? 'block' : 'none';\n",
              "\n",
              "      async function convertToInteractive(key) {\n",
              "        const element = document.querySelector('#df-25550e5f-172c-4705-b98a-05a3a5d75477');\n",
              "        const dataTable =\n",
              "          await google.colab.kernel.invokeFunction('convertToInteractive',\n",
              "                                                    [key], {});\n",
              "        if (!dataTable) return;\n",
              "\n",
              "        const docLinkHtml = 'Like what you see? Visit the ' +\n",
              "          '<a target=\"_blank\" href=https://colab.research.google.com/notebooks/data_table.ipynb>data table notebook</a>'\n",
              "          + ' to learn more about interactive tables.';\n",
              "        element.innerHTML = '';\n",
              "        dataTable['output_type'] = 'display_data';\n",
              "        await google.colab.output.renderOutput(dataTable, element);\n",
              "        const docLink = document.createElement('div');\n",
              "        docLink.innerHTML = docLinkHtml;\n",
              "        element.appendChild(docLink);\n",
              "      }\n",
              "    </script>\n",
              "  </div>\n",
              "\n",
              "\n",
              "    <div id=\"df-6b1da09a-5658-49b9-82d9-d0fb08c94b5f\">\n",
              "      <button class=\"colab-df-quickchart\" onclick=\"quickchart('df-6b1da09a-5658-49b9-82d9-d0fb08c94b5f')\"\n",
              "                title=\"Suggest charts\"\n",
              "                style=\"display:none;\">\n",
              "\n",
              "<svg xmlns=\"http://www.w3.org/2000/svg\" height=\"24px\"viewBox=\"0 0 24 24\"\n",
              "     width=\"24px\">\n",
              "    <g>\n",
              "        <path d=\"M19 3H5c-1.1 0-2 .9-2 2v14c0 1.1.9 2 2 2h14c1.1 0 2-.9 2-2V5c0-1.1-.9-2-2-2zM9 17H7v-7h2v7zm4 0h-2V7h2v10zm4 0h-2v-4h2v4z\"/>\n",
              "    </g>\n",
              "</svg>\n",
              "      </button>\n",
              "\n",
              "<style>\n",
              "  .colab-df-quickchart {\n",
              "      --bg-color: #E8F0FE;\n",
              "      --fill-color: #1967D2;\n",
              "      --hover-bg-color: #E2EBFA;\n",
              "      --hover-fill-color: #174EA6;\n",
              "      --disabled-fill-color: #AAA;\n",
              "      --disabled-bg-color: #DDD;\n",
              "  }\n",
              "\n",
              "  [theme=dark] .colab-df-quickchart {\n",
              "      --bg-color: #3B4455;\n",
              "      --fill-color: #D2E3FC;\n",
              "      --hover-bg-color: #434B5C;\n",
              "      --hover-fill-color: #FFFFFF;\n",
              "      --disabled-bg-color: #3B4455;\n",
              "      --disabled-fill-color: #666;\n",
              "  }\n",
              "\n",
              "  .colab-df-quickchart {\n",
              "    background-color: var(--bg-color);\n",
              "    border: none;\n",
              "    border-radius: 50%;\n",
              "    cursor: pointer;\n",
              "    display: none;\n",
              "    fill: var(--fill-color);\n",
              "    height: 32px;\n",
              "    padding: 0;\n",
              "    width: 32px;\n",
              "  }\n",
              "\n",
              "  .colab-df-quickchart:hover {\n",
              "    background-color: var(--hover-bg-color);\n",
              "    box-shadow: 0 1px 2px rgba(60, 64, 67, 0.3), 0 1px 3px 1px rgba(60, 64, 67, 0.15);\n",
              "    fill: var(--button-hover-fill-color);\n",
              "  }\n",
              "\n",
              "  .colab-df-quickchart-complete:disabled,\n",
              "  .colab-df-quickchart-complete:disabled:hover {\n",
              "    background-color: var(--disabled-bg-color);\n",
              "    fill: var(--disabled-fill-color);\n",
              "    box-shadow: none;\n",
              "  }\n",
              "\n",
              "  .colab-df-spinner {\n",
              "    border: 2px solid var(--fill-color);\n",
              "    border-color: transparent;\n",
              "    border-bottom-color: var(--fill-color);\n",
              "    animation:\n",
              "      spin 1s steps(1) infinite;\n",
              "  }\n",
              "\n",
              "  @keyframes spin {\n",
              "    0% {\n",
              "      border-color: transparent;\n",
              "      border-bottom-color: var(--fill-color);\n",
              "      border-left-color: var(--fill-color);\n",
              "    }\n",
              "    20% {\n",
              "      border-color: transparent;\n",
              "      border-left-color: var(--fill-color);\n",
              "      border-top-color: var(--fill-color);\n",
              "    }\n",
              "    30% {\n",
              "      border-color: transparent;\n",
              "      border-left-color: var(--fill-color);\n",
              "      border-top-color: var(--fill-color);\n",
              "      border-right-color: var(--fill-color);\n",
              "    }\n",
              "    40% {\n",
              "      border-color: transparent;\n",
              "      border-right-color: var(--fill-color);\n",
              "      border-top-color: var(--fill-color);\n",
              "    }\n",
              "    60% {\n",
              "      border-color: transparent;\n",
              "      border-right-color: var(--fill-color);\n",
              "    }\n",
              "    80% {\n",
              "      border-color: transparent;\n",
              "      border-right-color: var(--fill-color);\n",
              "      border-bottom-color: var(--fill-color);\n",
              "    }\n",
              "    90% {\n",
              "      border-color: transparent;\n",
              "      border-bottom-color: var(--fill-color);\n",
              "    }\n",
              "  }\n",
              "</style>\n",
              "\n",
              "      <script>\n",
              "        async function quickchart(key) {\n",
              "          const quickchartButtonEl =\n",
              "            document.querySelector('#' + key + ' button');\n",
              "          quickchartButtonEl.disabled = true;  // To prevent multiple clicks.\n",
              "          quickchartButtonEl.classList.add('colab-df-spinner');\n",
              "          try {\n",
              "            const charts = await google.colab.kernel.invokeFunction(\n",
              "                'suggestCharts', [key], {});\n",
              "          } catch (error) {\n",
              "            console.error('Error during call to suggestCharts:', error);\n",
              "          }\n",
              "          quickchartButtonEl.classList.remove('colab-df-spinner');\n",
              "          quickchartButtonEl.classList.add('colab-df-quickchart-complete');\n",
              "        }\n",
              "        (() => {\n",
              "          let quickchartButtonEl =\n",
              "            document.querySelector('#df-6b1da09a-5658-49b9-82d9-d0fb08c94b5f button');\n",
              "          quickchartButtonEl.style.display =\n",
              "            google.colab.kernel.accessAllowed ? 'block' : 'none';\n",
              "        })();\n",
              "      </script>\n",
              "    </div>\n",
              "\n",
              "    </div>\n",
              "  </div>\n"
            ],
            "text/plain": [
              "    Time Group\n",
              "0  17.50  ILEC\n",
              "1   2.40  ILEC\n",
              "2   0.00  ILEC\n",
              "3   0.65  ILEC\n",
              "4  22.23  ILEC"
            ]
          },
          "execution_count": 17,
          "metadata": {},
          "output_type": "execute_result"
        }
      ],
      "source": [
        "df = pd.read_csv('verizon.txt', sep='\\t')\n",
        "print(df.shape)\n",
        "\n",
        "# ILEC - Verizion\n",
        "# CLEC - внешние клиенты\n",
        "df.head()"
      ]
    },
    {
      "cell_type": "markdown",
      "id": "057cba48",
      "metadata": {
        "id": "057cba48"
      },
      "source": [
        "Посмотрим на то, как распределено время ремонта для разных компаний, а также на число наблюдений, которым мы располагаем."
      ]
    },
    {
      "cell_type": "code",
      "execution_count": null,
      "id": "64985567",
      "metadata": {
        "colab": {
          "base_uri": "https://localhost:8080/",
          "height": 143
        },
        "id": "64985567",
        "outputId": "418be32e-9432-4ed0-d05b-103e8a4b702c"
      },
      "outputs": [
        {
          "data": {
            "application/vnd.google.colaboratory.intrinsic+json": {
              "summary": "{\n  \"name\": \"df\",\n  \"rows\": 2,\n  \"fields\": [\n    {\n      \"column\": \"Group\",\n      \"properties\": {\n        \"dtype\": \"string\",\n        \"num_unique_values\": 2,\n        \"samples\": [\n          \"ILEC\",\n          \"CLEC\"\n        ],\n        \"semantic_type\": \"\",\n        \"description\": \"\"\n      }\n    },\n    {\n      \"column\": \"count\",\n      \"properties\": {\n        \"dtype\": \"number\",\n        \"std\": 1160,\n        \"min\": 23,\n        \"max\": 1664,\n        \"num_unique_values\": 2,\n        \"samples\": [\n          1664,\n          23\n        ],\n        \"semantic_type\": \"\",\n        \"description\": \"\"\n      }\n    },\n    {\n      \"column\": \"mean\",\n      \"properties\": {\n        \"dtype\": \"number\",\n        \"std\": 5.725811202285203,\n        \"min\": 8.411610576923078,\n        \"max\": 16.50913043478261,\n        \"num_unique_values\": 2,\n        \"samples\": [\n          8.411610576923078,\n          16.50913043478261\n        ],\n        \"semantic_type\": \"\",\n        \"description\": \"\"\n      }\n    },\n    {\n      \"column\": \"median\",\n      \"properties\": {\n        \"dtype\": \"number\",\n        \"std\": 7.594326829943521,\n        \"min\": 3.59,\n        \"max\": 14.33,\n        \"num_unique_values\": 2,\n        \"samples\": [\n          3.59,\n          14.33\n        ],\n        \"semantic_type\": \"\",\n        \"description\": \"\"\n      }\n    },\n    {\n      \"column\": \"std\",\n      \"properties\": {\n        \"dtype\": \"number\",\n        \"std\": 3.4036841281843238,\n        \"min\": 14.690039386467937,\n        \"max\": 19.503575642580252,\n        \"num_unique_values\": 2,\n        \"samples\": [\n          14.690039386467937,\n          19.503575642580252\n        ],\n        \"semantic_type\": \"\",\n        \"description\": \"\"\n      }\n    }\n  ]\n}",
              "type": "dataframe"
            },
            "text/html": [
              "\n",
              "  <div id=\"df-e0cf20dd-f9f6-4aef-a145-8f32590efa22\" class=\"colab-df-container\">\n",
              "    <div>\n",
              "<style scoped>\n",
              "    .dataframe tbody tr th:only-of-type {\n",
              "        vertical-align: middle;\n",
              "    }\n",
              "\n",
              "    .dataframe tbody tr th {\n",
              "        vertical-align: top;\n",
              "    }\n",
              "\n",
              "    .dataframe thead th {\n",
              "        text-align: right;\n",
              "    }\n",
              "</style>\n",
              "<table border=\"1\" class=\"dataframe\">\n",
              "  <thead>\n",
              "    <tr style=\"text-align: right;\">\n",
              "      <th></th>\n",
              "      <th>count</th>\n",
              "      <th>mean</th>\n",
              "      <th>median</th>\n",
              "      <th>std</th>\n",
              "    </tr>\n",
              "    <tr>\n",
              "      <th>Group</th>\n",
              "      <th></th>\n",
              "      <th></th>\n",
              "      <th></th>\n",
              "      <th></th>\n",
              "    </tr>\n",
              "  </thead>\n",
              "  <tbody>\n",
              "    <tr>\n",
              "      <th>CLEC</th>\n",
              "      <td>23</td>\n",
              "      <td>16.509130</td>\n",
              "      <td>14.33</td>\n",
              "      <td>19.503576</td>\n",
              "    </tr>\n",
              "    <tr>\n",
              "      <th>ILEC</th>\n",
              "      <td>1664</td>\n",
              "      <td>8.411611</td>\n",
              "      <td>3.59</td>\n",
              "      <td>14.690039</td>\n",
              "    </tr>\n",
              "  </tbody>\n",
              "</table>\n",
              "</div>\n",
              "    <div class=\"colab-df-buttons\">\n",
              "\n",
              "  <div class=\"colab-df-container\">\n",
              "    <button class=\"colab-df-convert\" onclick=\"convertToInteractive('df-e0cf20dd-f9f6-4aef-a145-8f32590efa22')\"\n",
              "            title=\"Convert this dataframe to an interactive table.\"\n",
              "            style=\"display:none;\">\n",
              "\n",
              "  <svg xmlns=\"http://www.w3.org/2000/svg\" height=\"24px\" viewBox=\"0 -960 960 960\">\n",
              "    <path d=\"M120-120v-720h720v720H120Zm60-500h600v-160H180v160Zm220 220h160v-160H400v160Zm0 220h160v-160H400v160ZM180-400h160v-160H180v160Zm440 0h160v-160H620v160ZM180-180h160v-160H180v160Zm440 0h160v-160H620v160Z\"/>\n",
              "  </svg>\n",
              "    </button>\n",
              "\n",
              "  <style>\n",
              "    .colab-df-container {\n",
              "      display:flex;\n",
              "      gap: 12px;\n",
              "    }\n",
              "\n",
              "    .colab-df-convert {\n",
              "      background-color: #E8F0FE;\n",
              "      border: none;\n",
              "      border-radius: 50%;\n",
              "      cursor: pointer;\n",
              "      display: none;\n",
              "      fill: #1967D2;\n",
              "      height: 32px;\n",
              "      padding: 0 0 0 0;\n",
              "      width: 32px;\n",
              "    }\n",
              "\n",
              "    .colab-df-convert:hover {\n",
              "      background-color: #E2EBFA;\n",
              "      box-shadow: 0px 1px 2px rgba(60, 64, 67, 0.3), 0px 1px 3px 1px rgba(60, 64, 67, 0.15);\n",
              "      fill: #174EA6;\n",
              "    }\n",
              "\n",
              "    .colab-df-buttons div {\n",
              "      margin-bottom: 4px;\n",
              "    }\n",
              "\n",
              "    [theme=dark] .colab-df-convert {\n",
              "      background-color: #3B4455;\n",
              "      fill: #D2E3FC;\n",
              "    }\n",
              "\n",
              "    [theme=dark] .colab-df-convert:hover {\n",
              "      background-color: #434B5C;\n",
              "      box-shadow: 0px 1px 3px 1px rgba(0, 0, 0, 0.15);\n",
              "      filter: drop-shadow(0px 1px 2px rgba(0, 0, 0, 0.3));\n",
              "      fill: #FFFFFF;\n",
              "    }\n",
              "  </style>\n",
              "\n",
              "    <script>\n",
              "      const buttonEl =\n",
              "        document.querySelector('#df-e0cf20dd-f9f6-4aef-a145-8f32590efa22 button.colab-df-convert');\n",
              "      buttonEl.style.display =\n",
              "        google.colab.kernel.accessAllowed ? 'block' : 'none';\n",
              "\n",
              "      async function convertToInteractive(key) {\n",
              "        const element = document.querySelector('#df-e0cf20dd-f9f6-4aef-a145-8f32590efa22');\n",
              "        const dataTable =\n",
              "          await google.colab.kernel.invokeFunction('convertToInteractive',\n",
              "                                                    [key], {});\n",
              "        if (!dataTable) return;\n",
              "\n",
              "        const docLinkHtml = 'Like what you see? Visit the ' +\n",
              "          '<a target=\"_blank\" href=https://colab.research.google.com/notebooks/data_table.ipynb>data table notebook</a>'\n",
              "          + ' to learn more about interactive tables.';\n",
              "        element.innerHTML = '';\n",
              "        dataTable['output_type'] = 'display_data';\n",
              "        await google.colab.output.renderOutput(dataTable, element);\n",
              "        const docLink = document.createElement('div');\n",
              "        docLink.innerHTML = docLinkHtml;\n",
              "        element.appendChild(docLink);\n",
              "      }\n",
              "    </script>\n",
              "  </div>\n",
              "\n",
              "\n",
              "    <div id=\"df-d28186cb-0705-457d-9460-71c499f02394\">\n",
              "      <button class=\"colab-df-quickchart\" onclick=\"quickchart('df-d28186cb-0705-457d-9460-71c499f02394')\"\n",
              "                title=\"Suggest charts\"\n",
              "                style=\"display:none;\">\n",
              "\n",
              "<svg xmlns=\"http://www.w3.org/2000/svg\" height=\"24px\"viewBox=\"0 0 24 24\"\n",
              "     width=\"24px\">\n",
              "    <g>\n",
              "        <path d=\"M19 3H5c-1.1 0-2 .9-2 2v14c0 1.1.9 2 2 2h14c1.1 0 2-.9 2-2V5c0-1.1-.9-2-2-2zM9 17H7v-7h2v7zm4 0h-2V7h2v10zm4 0h-2v-4h2v4z\"/>\n",
              "    </g>\n",
              "</svg>\n",
              "      </button>\n",
              "\n",
              "<style>\n",
              "  .colab-df-quickchart {\n",
              "      --bg-color: #E8F0FE;\n",
              "      --fill-color: #1967D2;\n",
              "      --hover-bg-color: #E2EBFA;\n",
              "      --hover-fill-color: #174EA6;\n",
              "      --disabled-fill-color: #AAA;\n",
              "      --disabled-bg-color: #DDD;\n",
              "  }\n",
              "\n",
              "  [theme=dark] .colab-df-quickchart {\n",
              "      --bg-color: #3B4455;\n",
              "      --fill-color: #D2E3FC;\n",
              "      --hover-bg-color: #434B5C;\n",
              "      --hover-fill-color: #FFFFFF;\n",
              "      --disabled-bg-color: #3B4455;\n",
              "      --disabled-fill-color: #666;\n",
              "  }\n",
              "\n",
              "  .colab-df-quickchart {\n",
              "    background-color: var(--bg-color);\n",
              "    border: none;\n",
              "    border-radius: 50%;\n",
              "    cursor: pointer;\n",
              "    display: none;\n",
              "    fill: var(--fill-color);\n",
              "    height: 32px;\n",
              "    padding: 0;\n",
              "    width: 32px;\n",
              "  }\n",
              "\n",
              "  .colab-df-quickchart:hover {\n",
              "    background-color: var(--hover-bg-color);\n",
              "    box-shadow: 0 1px 2px rgba(60, 64, 67, 0.3), 0 1px 3px 1px rgba(60, 64, 67, 0.15);\n",
              "    fill: var(--button-hover-fill-color);\n",
              "  }\n",
              "\n",
              "  .colab-df-quickchart-complete:disabled,\n",
              "  .colab-df-quickchart-complete:disabled:hover {\n",
              "    background-color: var(--disabled-bg-color);\n",
              "    fill: var(--disabled-fill-color);\n",
              "    box-shadow: none;\n",
              "  }\n",
              "\n",
              "  .colab-df-spinner {\n",
              "    border: 2px solid var(--fill-color);\n",
              "    border-color: transparent;\n",
              "    border-bottom-color: var(--fill-color);\n",
              "    animation:\n",
              "      spin 1s steps(1) infinite;\n",
              "  }\n",
              "\n",
              "  @keyframes spin {\n",
              "    0% {\n",
              "      border-color: transparent;\n",
              "      border-bottom-color: var(--fill-color);\n",
              "      border-left-color: var(--fill-color);\n",
              "    }\n",
              "    20% {\n",
              "      border-color: transparent;\n",
              "      border-left-color: var(--fill-color);\n",
              "      border-top-color: var(--fill-color);\n",
              "    }\n",
              "    30% {\n",
              "      border-color: transparent;\n",
              "      border-left-color: var(--fill-color);\n",
              "      border-top-color: var(--fill-color);\n",
              "      border-right-color: var(--fill-color);\n",
              "    }\n",
              "    40% {\n",
              "      border-color: transparent;\n",
              "      border-right-color: var(--fill-color);\n",
              "      border-top-color: var(--fill-color);\n",
              "    }\n",
              "    60% {\n",
              "      border-color: transparent;\n",
              "      border-right-color: var(--fill-color);\n",
              "    }\n",
              "    80% {\n",
              "      border-color: transparent;\n",
              "      border-right-color: var(--fill-color);\n",
              "      border-bottom-color: var(--fill-color);\n",
              "    }\n",
              "    90% {\n",
              "      border-color: transparent;\n",
              "      border-bottom-color: var(--fill-color);\n",
              "    }\n",
              "  }\n",
              "</style>\n",
              "\n",
              "      <script>\n",
              "        async function quickchart(key) {\n",
              "          const quickchartButtonEl =\n",
              "            document.querySelector('#' + key + ' button');\n",
              "          quickchartButtonEl.disabled = true;  // To prevent multiple clicks.\n",
              "          quickchartButtonEl.classList.add('colab-df-spinner');\n",
              "          try {\n",
              "            const charts = await google.colab.kernel.invokeFunction(\n",
              "                'suggestCharts', [key], {});\n",
              "          } catch (error) {\n",
              "            console.error('Error during call to suggestCharts:', error);\n",
              "          }\n",
              "          quickchartButtonEl.classList.remove('colab-df-spinner');\n",
              "          quickchartButtonEl.classList.add('colab-df-quickchart-complete');\n",
              "        }\n",
              "        (() => {\n",
              "          let quickchartButtonEl =\n",
              "            document.querySelector('#df-d28186cb-0705-457d-9460-71c499f02394 button');\n",
              "          quickchartButtonEl.style.display =\n",
              "            google.colab.kernel.accessAllowed ? 'block' : 'none';\n",
              "        })();\n",
              "      </script>\n",
              "    </div>\n",
              "\n",
              "    </div>\n",
              "  </div>\n"
            ],
            "text/plain": [
              "       count       mean  median        std\n",
              "Group                                     \n",
              "CLEC      23  16.509130   14.33  19.503576\n",
              "ILEC    1664   8.411611    3.59  14.690039"
            ]
          },
          "execution_count": 18,
          "metadata": {},
          "output_type": "execute_result"
        }
      ],
      "source": [
        "df.groupby('Group')['Time'].agg(['count', 'mean', 'median', 'std'])"
      ]
    },
    {
      "cell_type": "markdown",
      "id": "b24c9715",
      "metadata": {
        "id": "b24c9715"
      },
      "source": [
        "В данных есть существенный перекос в количестве наблюдений. Среднее время ремонта CLEC почти вдвое больше, чем для ILEC. Вопрос в том, является ли это свидетельством дискриминации. Если посмотреть на распределение, можно заметить, что распределение времени на ремонт CLEC имеет как минимум один выброс. Тем не менее, если смотреть на медианы, которые робастны (нечувствительны) к выбросам, ситуация, связанная со временем оказывается ещё более драмматичной."
      ]
    },
    {
      "cell_type": "code",
      "execution_count": null,
      "id": "2ba4feb4",
      "metadata": {
        "colab": {
          "base_uri": "https://localhost:8080/",
          "height": 445
        },
        "id": "2ba4feb4",
        "outputId": "3a573ce8-50ef-42eb-a2ea-c24910d84372"
      },
      "outputs": [
        {
          "data": {
            "image/png": "[encoded data removed]",
            "text/plain": [
              "<Figure size 1200x500 with 1 Axes>"
            ]
          },
          "metadata": {},
          "output_type": "display_data"
        }
      ],
      "source": [
        "plt.figure(figsize=(12,5))\n",
        "df[df.Group == 'ILEC'].Time.hist(bins=15, label='Verizion', alpha=0.4, density=True)\n",
        "df[df.Group == 'CLEC'].Time.hist(bins=15, label='CLEC', alpha=0.4, density=True)\n",
        "plt.legend();"
      ]
    },
    {
      "cell_type": "markdown",
      "id": "75dbf91b",
      "metadata": {
        "id": "75dbf91b"
      },
      "source": [
        "__а) [2 балла]__ Постройте для разницы $med_{CLEC} - med_{Verizion}$ доверительный интервал Эфрона (перцентильный доверительный интервал)."
      ]
    },
    {
      "cell_type": "code",
      "execution_count": null,
      "id": "cc397d35",
      "metadata": {
        "colab": {
          "base_uri": "https://localhost:8080/"
        },
        "id": "cc397d35",
        "outputId": "6a19596a-b018-4e25-b3c8-e3f34c48722d"
      },
      "outputs": [
        {
          "data": {
            "text/plain": [
              "array([ 4.63 , 16.215, 10.85 , ..., 14.47 ,  4.83 ,  5.02 ])"
            ]
          },
          "execution_count": 20,
          "metadata": {},
          "output_type": "execute_result"
        }
      ],
      "source": [
        "verizon = df[df.Group == 'ILEC'][\"Time\"]\n",
        "clec = df[df.Group == 'CLEC'][\"Time\"]\n",
        "\n",
        "B_sample=10**4\n",
        "alpha = 0.01\n",
        "# collecting bootstrap differences in medians\n",
        "boot_diffs = np.empty(B_sample)\n",
        "\n",
        "rng = np.random.default_rng(seed=123456)\n",
        "\n",
        "for sample in range(B_sample):\n",
        "  sample_verizon = rng.choice(verizon, size=len(verizon), replace=True)\n",
        "  sample_clec = rng.choice(clec, size=len(clec), replace=True)\n",
        "  boot_diffs[sample] = np.median(sample_clec) - np.median(sample_verizon)\n",
        "\n",
        "boot_diffs"
      ]
    },
    {
      "cell_type": "code",
      "execution_count": null,
      "id": "V1xTeSBoJgDZ",
      "metadata": {
        "id": "V1xTeSBoJgDZ"
      },
      "outputs": [],
      "source": [
        "left = np.quantile(boot_diffs, alpha/2)\n",
        "right = np.quantile(boot_diffs, 1-alpha/2)"
      ]
    },
    {
      "cell_type": "code",
      "execution_count": null,
      "id": "wwKZfn3PKHQj",
      "metadata": {
        "colab": {
          "base_uri": "https://localhost:8080/"
        },
        "id": "wwKZfn3PKHQj",
        "outputId": "32993247-756b-4744-deab-e6533a4939b5"
      },
      "outputs": [
        {
          "data": {
            "text/plain": [
              "np.float64(1.71)"
            ]
          },
          "execution_count": 22,
          "metadata": {},
          "output_type": "execute_result"
        }
      ],
      "source": [
        "left"
      ]
    },
    {
      "cell_type": "code",
      "execution_count": null,
      "id": "1ac14990",
      "metadata": {
        "id": "1ac14990"
      },
      "outputs": [],
      "source": [
        "# проверка того, что задание решено верно\n",
        "assert left > 1.6\n",
        "assert right < 20\n",
        "\n",
        "# подобные тесты скрыты от вас"
      ]
    },
    {
      "cell_type": "code",
      "execution_count": null,
      "id": "CRqXaFG_Khbz",
      "metadata": {
        "colab": {
          "base_uri": "https://localhost:8080/",
          "height": 453
        },
        "id": "CRqXaFG_Khbz",
        "outputId": "197fca1c-1965-4de6-b27c-a5835f6a5e3e"
      },
      "outputs": [
        {
          "data": {
            "image/png": "[encoded data removed]",
            "text/plain": [
              "<Figure size 640x480 with 1 Axes>"
            ]
          },
          "metadata": {},
          "output_type": "display_data"
        }
      ],
      "source": [
        "plt.hist(boot_diffs, bins=40, color='skyblue', edgecolor='k')\n",
        "plt.axvline(left, color='red', ls='--', label=f\"Left (α/2={alpha/2})\")\n",
        "plt.axvline(right, color='red', ls='--', label=f\"Right (1-α/2={1-alpha/2})\")\n",
        "plt.axvline(0, color='black', ls=':', label=\"0 (no difference)\")\n",
        "plt.title(\"Bootstrap Distribution of Median Differences (CLEC - Verizon)\")\n",
        "plt.legend()\n",
        "plt.show()"
      ]
    },
    {
      "cell_type": "markdown",
      "id": "8c10b92c",
      "metadata": {
        "id": "8c10b92c"
      },
      "source": [
        "В целом, перцентильный интервал выглядит самым простым вариантом оценивания, однако в реальности он даёт весьма плохие результаты, так как сильно зависит от того насколько хорошо изначальная выборка аппроксимирует истинное распределение случайной величины. В данной ситуации из-за того, что исходное распределение асимметрично, мы получаем смещение."
      ]
    },
    {
      "cell_type": "markdown",
      "id": "53c7db8c",
      "metadata": {
        "id": "53c7db8c"
      },
      "source": [
        "__б) [2 балла]__ Постройте для разницы $med_{CLEC} - med_{Verizion}$ доверительный интервал Холла (обратный перцентильный доверительный интервал)."
      ]
    },
    {
      "cell_type": "code",
      "execution_count": null,
      "id": "28d6e939",
      "metadata": {
        "id": "28d6e939"
      },
      "outputs": [],
      "source": [
        "# point estimate on the original data\n",
        "theta_hat = np.median(clec) - np.median(verizon)\n",
        "\n",
        "# using previous calculations of left and right borders of the confidence interval\n",
        "left_Hall = 2 * theta_hat - right\n",
        "right_Hall = 2 * theta_hat - left"
      ]
    },
    {
      "cell_type": "code",
      "execution_count": null,
      "id": "7108e0b0",
      "metadata": {
        "id": "7108e0b0"
      },
      "outputs": [],
      "source": [
        "# sanity check\n",
        "assert left_Hall > 3\n",
        "assert right_Hall < 22"
      ]
    },
    {
      "cell_type": "code",
      "execution_count": null,
      "id": "FhEEe9GkPrYo",
      "metadata": {
        "colab": {
          "base_uri": "https://localhost:8080/",
          "height": 453
        },
        "id": "FhEEe9GkPrYo",
        "outputId": "ebb39cb7-d82c-478e-cc62-a60bffb0dbbc"
      },
      "outputs": [
        {
          "data": {
            "image/png": "[encoded data removed]",
            "text/plain": [
              "<Figure size 640x480 with 1 Axes>"
            ]
          },
          "metadata": {},
          "output_type": "display_data"
        }
      ],
      "source": [
        "plt.hist(boot_diffs, bins=40, color='green', edgecolor='k')\n",
        "plt.axvline(left_Hall, color='red', ls='--', label=f\"Left={left_Hall})\")\n",
        "plt.axvline(right_Hall, color='red', ls='--', label=f\"Right={right_Hall})\")\n",
        "plt.axvline(0, color='black', ls=':', label=\"0 (no difference)\")\n",
        "plt.title(\"Bootstrap Distribution of Median Differences (CLEC - Verizon) - Basic Bootstrap Hall Interval\")\n",
        "plt.legend()\n",
        "plt.show()"
      ]
    },
    {
      "cell_type": "markdown",
      "id": "c81a4650",
      "metadata": {
        "id": "c81a4650"
      },
      "source": [
        "Холл в своей работе называл перцентильный интервал \"the wrong pivot, backwards\". Обратный перцентильный интервал для асимметричных распределений делает то же самое, но в обратном направлении."
      ]
    },
    {
      "cell_type": "markdown",
      "id": "dea4ffe9",
      "metadata": {
        "id": "dea4ffe9"
      },
      "source": [
        "__в) [2 балла]__ Постройте $t-$ перцентильный доверительный интервал:\n",
        "\n",
        "1. Найдите точечную оценку неизвестного параметра (разность медиан) и точечную оценку стандартного отклонения\n",
        "2. Сгенерируйте $10^5$ boostrap-выборок\n",
        "3. Рассчитайте по каждой выбооке выборочную разницу медиан\n",
        "4. Рассчитайте по каждой выборке стандартную ошибку\n",
        "5. Найдите по каждой выборке $$t^* = \\frac{\\hat \\theta^{*} - \\hat{\\theta}}{S^{*}}$$\n",
        "6. Найдите для $t^{*}$ квантили уровня $0.05$ и $0.95$\n",
        "7. Постройте доверительный интервал для разности медиан\n",
        "\n",
        "В качестве $S^{*}$ исполизуйте сумму стандартных отклонений, посчитанных по выборкам $x$ и $y$. Конечно же, мы используем при таком подходе неправильное стандартное отклонение. При этом мы надеемся, что бутсрэп сам поправит нашу ошибку. При таком подходе главное, чтобы знаменатель сходился по вероятности к какому-нибудь пределу."
      ]
    },
    {
      "cell_type": "code",
      "execution_count": null,
      "id": "00721627",
      "metadata": {
        "id": "00721627"
      },
      "outputs": [],
      "source": [
        "theta_hat = np.median(clec) - np.median(verizon)\n",
        "std_hat = np.std(verizon, ddof=1) + np.std(clec, ddof=1)\n",
        "B_sample = 10**5\n",
        "t_stars = np.empty(B_sample)\n",
        "\n",
        "rng = np.random.default_rng(seed=123456)\n",
        "\n",
        "for bootstrap_i in range(B_sample):\n",
        "  # generate bootstrap sample\n",
        "  sample_verizon = rng.choice(verizon, size=len(verizon), replace=True)\n",
        "  sample_clec = rng.choice(clec, size=len(clec), replace=True)\n",
        "\n",
        "  # calculate star values\n",
        "  theta_star = np.median(sample_clec) - np.median(sample_verizon)\n",
        "  S_star = np.std(sample_verizon, ddof=1) + np.std(sample_clec, ddof=1)\n",
        "\n",
        "  # calculate t*\n",
        "  t_stars[bootstrap_i] = (theta_star - theta_hat) / S_star\n",
        "\n",
        "\n",
        "q05 = np.quantile(t_stars, 0.05)\n",
        "q95 = np.quantile(t_stars, 0.95)\n",
        "\n",
        "# now building the confidence interval for median difference\n",
        "left = theta_hat - q95 * std_hat\n",
        "right = theta_hat - q05 * std_hat"
      ]
    },
    {
      "cell_type": "code",
      "execution_count": null,
      "id": "8bd2bbd6",
      "metadata": {
        "id": "8bd2bbd6"
      },
      "outputs": [],
      "source": [
        "# sanity check\n",
        "assert left < 5\n",
        "assert right > 19"
      ]
    },
    {
      "cell_type": "code",
      "execution_count": null,
      "id": "4dp-s3hyWkDi",
      "metadata": {
        "colab": {
          "base_uri": "https://localhost:8080/",
          "height": 453
        },
        "id": "4dp-s3hyWkDi",
        "outputId": "39c8d2c8-4f13-4b8a-8925-711745db7a06"
      },
      "outputs": [
        {
          "data": {
            "image/png": "[encoded data removed]",
            "text/plain": [
              "<Figure size 640x480 with 1 Axes>"
            ]
          },
          "metadata": {},
          "output_type": "display_data"
        }
      ],
      "source": [
        "plt.hist(boot_diffs, bins=40, color='yellow', edgecolor='k')\n",
        "plt.axvline(left_Hall, color='red', ls='--', label=f\"Left={left})\")\n",
        "plt.axvline(right_Hall, color='red', ls='--', label=f\"Right={right})\")\n",
        "plt.axvline(0, color='black', ls=':', label=\"0 (no difference)\")\n",
        "plt.title(\"t-bootstrap\")\n",
        "plt.legend()\n",
        "plt.show()"
      ]
    },
    {
      "cell_type": "markdown",
      "id": "afdbf607",
      "metadata": {
        "id": "afdbf607"
      },
      "source": [
        "**Conclusion:** Across all bootstrap methods — percentile, Hall’s inverse percentile, and t-percentile — the zero value did not fall within the constructed confidence intervals for the median difference ($\\text{med}{\\text{CLEC}} - \\text{med}{\\text{Verizon}}$).\n",
        "\n",
        "This means that the estimated difference in repair times between Verizon (ILEC) and its competitors (CLEC) is statistically significant, even when using robust, distribution-free methods that respect the underlying asymmetry of the data.\n",
        "\n",
        "Hence, we reject the null hypothesis of equal performance:\n",
        "\n",
        "> Verizon consistently repaired its own equipment faster than that of its competitors,\n",
        "indicating systematic discrimination in service times."
      ]
    },
    {
      "cell_type": "markdown",
      "id": "50f67405",
      "metadata": {
        "id": "50f67405"
      },
      "source": [
        "__д) [2 балла]__ Попробуйте оценить  $S^{*}$ с помощью двойного бутстрапа:\n",
        "\n",
        "1. Бутстрапируем $B$ выборок\n",
        "2. Для каждой сбутстрапированной выборки делаем ещё $B$ итераций бутстрапа, рассматривая эту выборку как исходную\n",
        "3. По каждой выборке второго уровня находим асимметрию, подсчитываем по полученным асимметриям стандартное отклонение\n",
        "4. Теперь у нас есть $B$ асимметрий и $B$ их стандартных отклонений\n",
        "5. Стандартное отклонение, найденное по выборке асимметрий первого уровня мы будем использовать для подсчёта наблюдаемого значения статистики\n",
        "\n",
        "Получается матрёшка из бутстрапов. Внутри каждого бутстрапа ещё $B$ бутсрапов. Изменились ли ваши выводы?"
      ]
    },
    {
      "cell_type": "code",
      "execution_count": 32,
      "id": "AJ8E1bxbqFMP",
      "metadata": {
        "id": "AJ8E1bxbqFMP"
      },
      "outputs": [],
      "source": [
        "# point estimate on original data\n",
        "theta_hat = np.median(clec) - np.median(verizon)\n",
        "\n",
        "B1 = 2000  # outer\n",
        "B2 = 400   # inner (per outer)\n",
        "\n",
        "rng = np.random.default_rng(123456)\n",
        "\n",
        "theta_star_outer = np.empty(B1)\n",
        "S_star_outer     = np.empty(B1)   # inner-bootstrap SDs per outer draw\n",
        "t_stars          = np.empty(B1)\n",
        "\n",
        "for b in range(B1):\n",
        "    # outer bootstrap sample\n",
        "    v_outer = rng.choice(verizon, size=verizon.size, replace=True)\n",
        "    c_outer = rng.choice(clec,    size=clec.size,    replace=True)\n",
        "\n",
        "    theta_star = np.median(c_outer) - np.median(v_outer)\n",
        "    theta_star_outer[b] = theta_star\n",
        "\n",
        "    # inner bootstrap\n",
        "    theta_star_star = np.empty(B2)\n",
        "    for bb in range(B2):\n",
        "        v_inner = rng.choice(v_outer, size=v_outer.size, replace=True)\n",
        "        c_inner = rng.choice(c_outer, size=c_outer.size, replace=True)\n",
        "        theta_star_star[bb] = np.median(c_inner) - np.median(v_inner) # calculating assymetry\n",
        "\n",
        "    S_star = np.std(theta_star_star, ddof=1)   # SE estimate for the calculated theta**(assymetry)\n",
        "    S_star_outer[b] = S_star\n",
        "    t_stars[b] = (theta_star - theta_hat) / S_star\n",
        "\n",
        "\n",
        "q05, q95 = np.quantile(t_stars, [0.05, 0.95])\n",
        "\n",
        "# instruction 5\n",
        "S_obs = np.std(theta_star_outer, ddof=1)\n",
        "\n",
        "# invert to get the t-percentile (double-bootstrap) CI\n",
        "left  = theta_hat - q95 * S_obs\n",
        "right = theta_hat - q05 * S_obs"
      ]
    },
    {
      "cell_type": "code",
      "execution_count": 33,
      "id": "PTH1HjREq5IA",
      "metadata": {
        "id": "PTH1HjREq5IA",
        "colab": {
          "base_uri": "https://localhost:8080/",
          "height": 453
        },
        "outputId": "7ca63027-08bb-4834-b791-508f8a4167f1"
      },
      "outputs": [
        {
          "output_type": "display_data",
          "data": {
            "text/plain": [
              "<Figure size 640x480 with 1 Axes>"
            ],
            "image/png": "[encoded data removed]"
          },
          "metadata": {}
        }
      ],
      "source": [
        "plt.hist(boot_diffs, bins=40, color='purple', edgecolor='k')\n",
        "plt.axvline(left_Hall, color='red', ls='--', label=f\"Left={left})\")\n",
        "plt.axvline(right_Hall, color='red', ls='--', label=f\"Right={right})\")\n",
        "plt.axvline(0, color='black', ls=':', label=\"0 (no difference)\")\n",
        "plt.title(\"Double Bootsrtap (Matryoshka)\")\n",
        "plt.legend()\n",
        "plt.show()"
      ]
    }
  ],
  "metadata": {
    "colab": {
      "provenance": [],
      "include_colab_link": true
    },
    "kernelspec": {
      "display_name": "Python 3",
      "language": "python",
      "name": "python3"
    },
    "language_info": {
      "codemirror_mode": {
        "name": "ipython",
        "version": 3
      },
      "file_extension": ".py",
      "mimetype": "text/x-python",
      "name": "python",
      "nbconvert_exporter": "python",
      "pygments_lexer": "ipython3",
      "version": "3.10.13"
    }
  },
  "nbformat": 4,
  "nbformat_minor": 5
}